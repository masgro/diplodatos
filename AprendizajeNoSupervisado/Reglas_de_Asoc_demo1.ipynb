{
 "cells": [
  {
   "cell_type": "markdown",
   "metadata": {},
   "source": [
    "## Aprendizaje de reglas de asociación"
   ]
  },
  {
   "cell_type": "markdown",
   "metadata": {},
   "source": [
    "Objetivo:\n",
    "    \n",
    "    derivar reglas de la forma {A} -> {B}\n",
    "    "
   ]
  },
  {
   "cell_type": "code",
   "execution_count": 1,
   "metadata": {},
   "outputs": [
    {
     "name": "stdout",
     "output_type": "stream",
     "text": [
      "Populating the interactive namespace from numpy and matplotlib\n"
     ]
    }
   ],
   "source": [
    "%pylab inline\n",
    "\n",
    "import pandas as pd\n",
    "import numpy as np\n",
    "import matplotlib.pyplot as plt\n",
    "import sys\n",
    "from itertools import combinations, groupby\n",
    "from collections import Counter\n",
    "from IPython.display import display\n",
    "\n",
    "#!pip install efficient_apriori"
   ]
  },
  {
   "cell_type": "code",
   "execution_count": 2,
   "metadata": {},
   "outputs": [],
   "source": [
    "def size(obj):\n",
    "    return \"{0:.2f} MB\".format(sys.getsizeof(obj) / (1000 * 1000))"
   ]
  },
  {
   "cell_type": "code",
   "execution_count": 3,
   "metadata": {},
   "outputs": [
    {
     "name": "stdout",
     "output_type": "stream",
     "text": [
      "orders -- dimensions: (27278, 3);   size: 4.50 MB\n"
     ]
    },
    {
     "data": {
      "text/html": [
       "<div>\n",
       "<style scoped>\n",
       "    .dataframe tbody tr th:only-of-type {\n",
       "        vertical-align: middle;\n",
       "    }\n",
       "\n",
       "    .dataframe tbody tr th {\n",
       "        vertical-align: top;\n",
       "    }\n",
       "\n",
       "    .dataframe thead th {\n",
       "        text-align: right;\n",
       "    }\n",
       "</style>\n",
       "<table border=\"1\" class=\"dataframe\">\n",
       "  <thead>\n",
       "    <tr style=\"text-align: right;\">\n",
       "      <th></th>\n",
       "      <th>movieId</th>\n",
       "      <th>title</th>\n",
       "      <th>genres</th>\n",
       "    </tr>\n",
       "  </thead>\n",
       "  <tbody>\n",
       "    <tr>\n",
       "      <th>0</th>\n",
       "      <td>1</td>\n",
       "      <td>Toy Story (1995)</td>\n",
       "      <td>Adventure|Animation|Children|Comedy|Fantasy</td>\n",
       "    </tr>\n",
       "    <tr>\n",
       "      <th>1</th>\n",
       "      <td>2</td>\n",
       "      <td>Jumanji (1995)</td>\n",
       "      <td>Adventure|Children|Fantasy</td>\n",
       "    </tr>\n",
       "    <tr>\n",
       "      <th>2</th>\n",
       "      <td>3</td>\n",
       "      <td>Grumpier Old Men (1995)</td>\n",
       "      <td>Comedy|Romance</td>\n",
       "    </tr>\n",
       "    <tr>\n",
       "      <th>3</th>\n",
       "      <td>4</td>\n",
       "      <td>Waiting to Exhale (1995)</td>\n",
       "      <td>Comedy|Drama|Romance</td>\n",
       "    </tr>\n",
       "    <tr>\n",
       "      <th>4</th>\n",
       "      <td>5</td>\n",
       "      <td>Father of the Bride Part II (1995)</td>\n",
       "      <td>Comedy</td>\n",
       "    </tr>\n",
       "  </tbody>\n",
       "</table>\n",
       "</div>"
      ],
      "text/plain": [
       "   movieId                               title  \\\n",
       "0        1                    Toy Story (1995)   \n",
       "1        2                      Jumanji (1995)   \n",
       "2        3             Grumpier Old Men (1995)   \n",
       "3        4            Waiting to Exhale (1995)   \n",
       "4        5  Father of the Bride Part II (1995)   \n",
       "\n",
       "                                        genres  \n",
       "0  Adventure|Animation|Children|Comedy|Fantasy  \n",
       "1                   Adventure|Children|Fantasy  \n",
       "2                               Comedy|Romance  \n",
       "3                         Comedy|Drama|Romance  \n",
       "4                                       Comedy  "
      ]
     },
     "metadata": {},
     "output_type": "display_data"
    },
    {
     "data": {
      "text/html": [
       "<div>\n",
       "<style scoped>\n",
       "    .dataframe tbody tr th:only-of-type {\n",
       "        vertical-align: middle;\n",
       "    }\n",
       "\n",
       "    .dataframe tbody tr th {\n",
       "        vertical-align: top;\n",
       "    }\n",
       "\n",
       "    .dataframe thead th {\n",
       "        text-align: right;\n",
       "    }\n",
       "</style>\n",
       "<table border=\"1\" class=\"dataframe\">\n",
       "  <thead>\n",
       "    <tr style=\"text-align: right;\">\n",
       "      <th></th>\n",
       "      <th>movieId</th>\n",
       "      <th>title</th>\n",
       "      <th>genres</th>\n",
       "    </tr>\n",
       "  </thead>\n",
       "  <tbody>\n",
       "    <tr>\n",
       "      <th>27273</th>\n",
       "      <td>131254</td>\n",
       "      <td>Kein Bund für's Leben (2007)</td>\n",
       "      <td>Comedy</td>\n",
       "    </tr>\n",
       "    <tr>\n",
       "      <th>27274</th>\n",
       "      <td>131256</td>\n",
       "      <td>Feuer, Eis &amp; Dosenbier (2002)</td>\n",
       "      <td>Comedy</td>\n",
       "    </tr>\n",
       "    <tr>\n",
       "      <th>27275</th>\n",
       "      <td>131258</td>\n",
       "      <td>The Pirates (2014)</td>\n",
       "      <td>Adventure</td>\n",
       "    </tr>\n",
       "    <tr>\n",
       "      <th>27276</th>\n",
       "      <td>131260</td>\n",
       "      <td>Rentun Ruusu (2001)</td>\n",
       "      <td>(no genres listed)</td>\n",
       "    </tr>\n",
       "    <tr>\n",
       "      <th>27277</th>\n",
       "      <td>131262</td>\n",
       "      <td>Innocence (2014)</td>\n",
       "      <td>Adventure|Fantasy|Horror</td>\n",
       "    </tr>\n",
       "  </tbody>\n",
       "</table>\n",
       "</div>"
      ],
      "text/plain": [
       "       movieId                          title                    genres\n",
       "27273   131254   Kein Bund für's Leben (2007)                    Comedy\n",
       "27274   131256  Feuer, Eis & Dosenbier (2002)                    Comedy\n",
       "27275   131258             The Pirates (2014)                 Adventure\n",
       "27276   131260            Rentun Ruusu (2001)        (no genres listed)\n",
       "27277   131262               Innocence (2014)  Adventure|Fantasy|Horror"
      ]
     },
     "metadata": {},
     "output_type": "display_data"
    }
   ],
   "source": [
    "movies = pd.read_csv('data/ml-20m/movies.csv',sep=\",\")\n",
    "\n",
    "print('orders -- dimensions: {0};   size: {1}'.format(movies.shape, size(movies)))\n",
    "display(movies.head())\n",
    "display(movies.tail())"
   ]
  },
  {
   "cell_type": "code",
   "execution_count": 4,
   "metadata": {},
   "outputs": [],
   "source": [
    "new = movies[\"title\"].str.rsplit(\"(\",n=1,expand=True)"
   ]
  },
  {
   "cell_type": "code",
   "execution_count": 5,
   "metadata": {},
   "outputs": [],
   "source": [
    "movies[\"year\"] = new[1].str.replace(\")\",\"\")\n",
    "movies[\"Title\"] = new[0]"
   ]
  },
  {
   "cell_type": "code",
   "execution_count": 6,
   "metadata": {},
   "outputs": [],
   "source": [
    "movies[\"year\"] = movies[\"year\"].str.rstrip()"
   ]
  },
  {
   "cell_type": "code",
   "execution_count": 7,
   "metadata": {},
   "outputs": [],
   "source": [
    "is_digit = movies[\"year\"].str.isdigit()"
   ]
  },
  {
   "cell_type": "code",
   "execution_count": 8,
   "metadata": {},
   "outputs": [
    {
     "data": {
      "text/html": [
       "<div>\n",
       "<style scoped>\n",
       "    .dataframe tbody tr th:only-of-type {\n",
       "        vertical-align: middle;\n",
       "    }\n",
       "\n",
       "    .dataframe tbody tr th {\n",
       "        vertical-align: top;\n",
       "    }\n",
       "\n",
       "    .dataframe thead th {\n",
       "        text-align: right;\n",
       "    }\n",
       "</style>\n",
       "<table border=\"1\" class=\"dataframe\">\n",
       "  <thead>\n",
       "    <tr style=\"text-align: right;\">\n",
       "      <th></th>\n",
       "      <th>movieId</th>\n",
       "      <th>title</th>\n",
       "      <th>genres</th>\n",
       "      <th>year</th>\n",
       "      <th>Title</th>\n",
       "    </tr>\n",
       "  </thead>\n",
       "  <tbody>\n",
       "    <tr>\n",
       "      <th>15646</th>\n",
       "      <td>79607</td>\n",
       "      <td>Millions Game, The (Das Millionenspiel)</td>\n",
       "      <td>Action|Drama|Sci-Fi|Thriller</td>\n",
       "      <td>Das Millionenspiel</td>\n",
       "      <td>Millions Game, The</td>\n",
       "    </tr>\n",
       "    <tr>\n",
       "      <th>17341</th>\n",
       "      <td>87442</td>\n",
       "      <td>Bicycle, Spoon, Apple (Bicicleta, cullera, poma)</td>\n",
       "      <td>Documentary</td>\n",
       "      <td>Bicicleta, cullera, poma</td>\n",
       "      <td>Bicycle, Spoon, Apple</td>\n",
       "    </tr>\n",
       "    <tr>\n",
       "      <th>22368</th>\n",
       "      <td>107434</td>\n",
       "      <td>Diplomatic Immunity (2009– )</td>\n",
       "      <td>Comedy</td>\n",
       "      <td>2009–</td>\n",
       "      <td>Diplomatic Immunity</td>\n",
       "    </tr>\n",
       "    <tr>\n",
       "      <th>22669</th>\n",
       "      <td>108548</td>\n",
       "      <td>Big Bang Theory, The (2007-)</td>\n",
       "      <td>Comedy</td>\n",
       "      <td>2007-</td>\n",
       "      <td>Big Bang Theory, The</td>\n",
       "    </tr>\n",
       "    <tr>\n",
       "      <th>22679</th>\n",
       "      <td>108583</td>\n",
       "      <td>Fawlty Towers (1975-1979)</td>\n",
       "      <td>Comedy</td>\n",
       "      <td>1975-1979</td>\n",
       "      <td>Fawlty Towers</td>\n",
       "    </tr>\n",
       "  </tbody>\n",
       "</table>\n",
       "</div>"
      ],
      "text/plain": [
       "       movieId                                             title  \\\n",
       "15646    79607           Millions Game, The (Das Millionenspiel)   \n",
       "17341    87442  Bicycle, Spoon, Apple (Bicicleta, cullera, poma)   \n",
       "22368   107434                      Diplomatic Immunity (2009– )   \n",
       "22669   108548                      Big Bang Theory, The (2007-)   \n",
       "22679   108583                         Fawlty Towers (1975-1979)   \n",
       "\n",
       "                             genres                      year  \\\n",
       "15646  Action|Drama|Sci-Fi|Thriller        Das Millionenspiel   \n",
       "17341                   Documentary  Bicicleta, cullera, poma   \n",
       "22368                        Comedy                     2009–   \n",
       "22669                        Comedy                     2007-   \n",
       "22679                        Comedy                 1975-1979   \n",
       "\n",
       "                        Title  \n",
       "15646     Millions Game, The   \n",
       "17341  Bicycle, Spoon, Apple   \n",
       "22368    Diplomatic Immunity   \n",
       "22669   Big Bang Theory, The   \n",
       "22679          Fawlty Towers   "
      ]
     },
     "execution_count": 8,
     "metadata": {},
     "output_type": "execute_result"
    }
   ],
   "source": [
    "movies.loc[movies.index[movies[\"year\"].str.isdigit() == False]]"
   ]
  },
  {
   "cell_type": "code",
   "execution_count": 9,
   "metadata": {},
   "outputs": [],
   "source": [
    "movies.loc[15646,\"year\"] = \"1970\"\n",
    "movies.loc[17341,\"year\"] = \"2010\"\n",
    "movies.loc[22368,\"year\"] = \"2009\"\n",
    "movies.loc[22669,\"year\"] = \"2007\"\n",
    "movies.loc[22679,\"year\"] = \"1979\""
   ]
  },
  {
   "cell_type": "code",
   "execution_count": 10,
   "metadata": {},
   "outputs": [
    {
     "name": "stdout",
     "output_type": "stream",
     "text": [
      "17\n"
     ]
    }
   ],
   "source": [
    "year_is_na = movies[\"year\"].isna()\n",
    "print(year_is_na.sum())"
   ]
  },
  {
   "cell_type": "code",
   "execution_count": 11,
   "metadata": {},
   "outputs": [
    {
     "data": {
      "text/html": [
       "<div>\n",
       "<style scoped>\n",
       "    .dataframe tbody tr th:only-of-type {\n",
       "        vertical-align: middle;\n",
       "    }\n",
       "\n",
       "    .dataframe tbody tr th {\n",
       "        vertical-align: top;\n",
       "    }\n",
       "\n",
       "    .dataframe thead th {\n",
       "        text-align: right;\n",
       "    }\n",
       "</style>\n",
       "<table border=\"1\" class=\"dataframe\">\n",
       "  <thead>\n",
       "    <tr style=\"text-align: right;\">\n",
       "      <th></th>\n",
       "      <th>movieId</th>\n",
       "      <th>title</th>\n",
       "      <th>genres</th>\n",
       "      <th>year</th>\n",
       "      <th>Title</th>\n",
       "    </tr>\n",
       "  </thead>\n",
       "  <tbody>\n",
       "    <tr>\n",
       "      <th>10593</th>\n",
       "      <td>40697</td>\n",
       "      <td>Babylon 5</td>\n",
       "      <td>Sci-Fi</td>\n",
       "      <td>None</td>\n",
       "      <td>Babylon 5</td>\n",
       "    </tr>\n",
       "    <tr>\n",
       "      <th>23617</th>\n",
       "      <td>112406</td>\n",
       "      <td>Brazil: In the Shadow of the Stadiums</td>\n",
       "      <td>Documentary</td>\n",
       "      <td>None</td>\n",
       "      <td>Brazil: In the Shadow of the Stadiums</td>\n",
       "    </tr>\n",
       "    <tr>\n",
       "      <th>23824</th>\n",
       "      <td>113190</td>\n",
       "      <td>Slaying the Badger</td>\n",
       "      <td>Documentary</td>\n",
       "      <td>None</td>\n",
       "      <td>Slaying the Badger</td>\n",
       "    </tr>\n",
       "    <tr>\n",
       "      <th>24286</th>\n",
       "      <td>115133</td>\n",
       "      <td>Tatort: Im Schmerz geboren</td>\n",
       "      <td>Crime</td>\n",
       "      <td>None</td>\n",
       "      <td>Tatort: Im Schmerz geboren</td>\n",
       "    </tr>\n",
       "    <tr>\n",
       "      <th>24412</th>\n",
       "      <td>115685</td>\n",
       "      <td>National Theatre Live: Frankenstein</td>\n",
       "      <td>Drama|Fantasy</td>\n",
       "      <td>None</td>\n",
       "      <td>National Theatre Live: Frankenstein</td>\n",
       "    </tr>\n",
       "    <tr>\n",
       "      <th>26115</th>\n",
       "      <td>125571</td>\n",
       "      <td>The Court-Martial of Jackie Robinson</td>\n",
       "      <td>(no genres listed)</td>\n",
       "      <td>None</td>\n",
       "      <td>The Court-Martial of Jackie Robinson</td>\n",
       "    </tr>\n",
       "    <tr>\n",
       "      <th>26127</th>\n",
       "      <td>125632</td>\n",
       "      <td>In Our Garden</td>\n",
       "      <td>(no genres listed)</td>\n",
       "      <td>None</td>\n",
       "      <td>In Our Garden</td>\n",
       "    </tr>\n",
       "    <tr>\n",
       "      <th>26180</th>\n",
       "      <td>125958</td>\n",
       "      <td>Stephen Fry In America - New World</td>\n",
       "      <td>(no genres listed)</td>\n",
       "      <td>None</td>\n",
       "      <td>Stephen Fry In America - New World</td>\n",
       "    </tr>\n",
       "    <tr>\n",
       "      <th>26335</th>\n",
       "      <td>126438</td>\n",
       "      <td>Two: The Story of Roman &amp; Nyro</td>\n",
       "      <td>Documentary|Drama</td>\n",
       "      <td>None</td>\n",
       "      <td>Two: The Story of Roman &amp; Nyro</td>\n",
       "    </tr>\n",
       "    <tr>\n",
       "      <th>26395</th>\n",
       "      <td>126929</td>\n",
       "      <td>Li'l Quinquin</td>\n",
       "      <td>(no genres listed)</td>\n",
       "      <td>None</td>\n",
       "      <td>Li'l Quinquin</td>\n",
       "    </tr>\n",
       "    <tr>\n",
       "      <th>26432</th>\n",
       "      <td>127005</td>\n",
       "      <td>A Year Along the Abandoned Road</td>\n",
       "      <td>(no genres listed)</td>\n",
       "      <td>None</td>\n",
       "      <td>A Year Along the Abandoned Road</td>\n",
       "    </tr>\n",
       "    <tr>\n",
       "      <th>26749</th>\n",
       "      <td>128612</td>\n",
       "      <td>Body/Cialo</td>\n",
       "      <td>Comedy|Drama|Mystery</td>\n",
       "      <td>None</td>\n",
       "      <td>Body/Cialo</td>\n",
       "    </tr>\n",
       "    <tr>\n",
       "      <th>26784</th>\n",
       "      <td>128734</td>\n",
       "      <td>Polskie gówno</td>\n",
       "      <td>Comedy|Musical</td>\n",
       "      <td>None</td>\n",
       "      <td>Polskie gówno</td>\n",
       "    </tr>\n",
       "    <tr>\n",
       "      <th>26963</th>\n",
       "      <td>129651</td>\n",
       "      <td>The Third Reich: The Rise &amp; Fall</td>\n",
       "      <td>(no genres listed)</td>\n",
       "      <td>None</td>\n",
       "      <td>The Third Reich: The Rise &amp; Fall</td>\n",
       "    </tr>\n",
       "    <tr>\n",
       "      <th>26974</th>\n",
       "      <td>129705</td>\n",
       "      <td>My Own Man</td>\n",
       "      <td>(no genres listed)</td>\n",
       "      <td>None</td>\n",
       "      <td>My Own Man</td>\n",
       "    </tr>\n",
       "    <tr>\n",
       "      <th>27027</th>\n",
       "      <td>129887</td>\n",
       "      <td>Moving Alan</td>\n",
       "      <td>(no genres listed)</td>\n",
       "      <td>None</td>\n",
       "      <td>Moving Alan</td>\n",
       "    </tr>\n",
       "    <tr>\n",
       "      <th>27114</th>\n",
       "      <td>130454</td>\n",
       "      <td>Michael Laudrup - en Fodboldspiller</td>\n",
       "      <td>(no genres listed)</td>\n",
       "      <td>None</td>\n",
       "      <td>Michael Laudrup - en Fodboldspiller</td>\n",
       "    </tr>\n",
       "  </tbody>\n",
       "</table>\n",
       "</div>"
      ],
      "text/plain": [
       "       movieId                                  title                genres  \\\n",
       "10593    40697                              Babylon 5                Sci-Fi   \n",
       "23617   112406  Brazil: In the Shadow of the Stadiums           Documentary   \n",
       "23824   113190                     Slaying the Badger           Documentary   \n",
       "24286   115133             Tatort: Im Schmerz geboren                 Crime   \n",
       "24412   115685    National Theatre Live: Frankenstein         Drama|Fantasy   \n",
       "26115   125571   The Court-Martial of Jackie Robinson    (no genres listed)   \n",
       "26127   125632                          In Our Garden    (no genres listed)   \n",
       "26180   125958     Stephen Fry In America - New World    (no genres listed)   \n",
       "26335   126438         Two: The Story of Roman & Nyro     Documentary|Drama   \n",
       "26395   126929                          Li'l Quinquin    (no genres listed)   \n",
       "26432   127005        A Year Along the Abandoned Road    (no genres listed)   \n",
       "26749   128612                             Body/Cialo  Comedy|Drama|Mystery   \n",
       "26784   128734                          Polskie gówno        Comedy|Musical   \n",
       "26963   129651       The Third Reich: The Rise & Fall    (no genres listed)   \n",
       "26974   129705                             My Own Man    (no genres listed)   \n",
       "27027   129887                            Moving Alan    (no genres listed)   \n",
       "27114   130454    Michael Laudrup - en Fodboldspiller    (no genres listed)   \n",
       "\n",
       "       year                                  Title  \n",
       "10593  None                              Babylon 5  \n",
       "23617  None  Brazil: In the Shadow of the Stadiums  \n",
       "23824  None                     Slaying the Badger  \n",
       "24286  None             Tatort: Im Schmerz geboren  \n",
       "24412  None    National Theatre Live: Frankenstein  \n",
       "26115  None   The Court-Martial of Jackie Robinson  \n",
       "26127  None                          In Our Garden  \n",
       "26180  None     Stephen Fry In America - New World  \n",
       "26335  None         Two: The Story of Roman & Nyro  \n",
       "26395  None                          Li'l Quinquin  \n",
       "26432  None        A Year Along the Abandoned Road  \n",
       "26749  None                             Body/Cialo  \n",
       "26784  None                          Polskie gówno  \n",
       "26963  None       The Third Reich: The Rise & Fall  \n",
       "26974  None                             My Own Man  \n",
       "27027  None                            Moving Alan  \n",
       "27114  None    Michael Laudrup - en Fodboldspiller  "
      ]
     },
     "execution_count": 11,
     "metadata": {},
     "output_type": "execute_result"
    }
   ],
   "source": [
    "movies.loc[movies.index[year_is_na]]"
   ]
  },
  {
   "cell_type": "code",
   "execution_count": 12,
   "metadata": {},
   "outputs": [],
   "source": [
    "movies.loc[movies.index[year_is_na],\"year\"] = \"1900\""
   ]
  },
  {
   "cell_type": "code",
   "execution_count": 13,
   "metadata": {},
   "outputs": [],
   "source": [
    "movies[\"year\"] = movies[\"year\"].astype(\"int32\")"
   ]
  },
  {
   "cell_type": "code",
   "execution_count": 14,
   "metadata": {},
   "outputs": [
    {
     "data": {
      "text/plain": [
       "array([[<matplotlib.axes._subplots.AxesSubplot object at 0x7fbabd236c50>]],\n",
       "      dtype=object)"
      ]
     },
     "execution_count": 14,
     "metadata": {},
     "output_type": "execute_result"
    },
    {
     "data": {
      "image/png": "[encoded data removed]",
      "text/plain": [
       "<Figure size 432x288 with 1 Axes>"
      ]
     },
     "metadata": {
      "needs_background": "light"
     },
     "output_type": "display_data"
    }
   ],
   "source": [
    "movies.hist(bins=40,column=\"year\")"
   ]
  },
  {
   "cell_type": "code",
   "execution_count": 15,
   "metadata": {},
   "outputs": [
    {
     "data": {
      "text/plain": [
       "array(['(no genres listed)', 'Action', 'Adventure', 'Animation',\n",
       "       'Children', 'Comedy', 'Crime', 'Documentary', 'Drama', 'Fantasy',\n",
       "       'Film-Noir', 'Horror', 'IMAX', 'Musical', 'Mystery', 'Romance',\n",
       "       'Sci-Fi', 'Thriller', 'War', 'Western'], dtype='<U18')"
      ]
     },
     "execution_count": 15,
     "metadata": {},
     "output_type": "execute_result"
    }
   ],
   "source": [
    "a = movies[\"genres\"].str.cat(sep='|').split(\"|\")\n",
    "np.unique(a)"
   ]
  },
  {
   "cell_type": "code",
   "execution_count": 16,
   "metadata": {},
   "outputs": [
    {
     "name": "stdout",
     "output_type": "stream",
     "text": [
      "246\n"
     ]
    }
   ],
   "source": [
    "index = movies[\"genres\"] == \"(no genres listed)\"\n",
    "print(index.sum())"
   ]
  },
  {
   "cell_type": "code",
   "execution_count": 17,
   "metadata": {},
   "outputs": [
    {
     "data": {
      "text/plain": [
       "0    [Adventure, Animation, Children, Comedy, Fantasy]\n",
       "1                       [Adventure, Children, Fantasy]\n",
       "2                                    [Comedy, Romance]\n",
       "3                             [Comedy, Drama, Romance]\n",
       "4                                             [Comedy]\n",
       "Name: genres, dtype: object"
      ]
     },
     "execution_count": 17,
     "metadata": {},
     "output_type": "execute_result"
    }
   ],
   "source": [
    "generos = movies[\"genres\"].str.split(\"|\")\n",
    "generos.head()"
   ]
  },
  {
   "cell_type": "code",
   "execution_count": 18,
   "metadata": {},
   "outputs": [],
   "source": [
    "#Funcion para pasar titulos del tipo \"Big Bang Theory, The\" a \"The Big Bang Theory\"\n",
    "\n",
    "def swap_the(string):\n",
    "    i = string.find(\", The\")\n",
    "    s = string.rstrip()\n",
    "    if i != -1:\n",
    "        s = string[:i]\n",
    "        s = \"The \" + s\n",
    "    return(s)"
   ]
  },
  {
   "cell_type": "code",
   "execution_count": 19,
   "metadata": {},
   "outputs": [],
   "source": [
    "movies[\"Title\"] = movies[\"Title\"].apply(swap_the)"
   ]
  },
  {
   "cell_type": "markdown",
   "metadata": {},
   "source": [
    "Cargamos la base de datos con el ratings de los usuarios"
   ]
  },
  {
   "cell_type": "code",
   "execution_count": 20,
   "metadata": {},
   "outputs": [
    {
     "name": "stdout",
     "output_type": "stream",
     "text": [
      "orders -- dimensions: (20000263, 3);   size: 480.01 MB\n"
     ]
    },
    {
     "data": {
      "text/html": [
       "<div>\n",
       "<style scoped>\n",
       "    .dataframe tbody tr th:only-of-type {\n",
       "        vertical-align: middle;\n",
       "    }\n",
       "\n",
       "    .dataframe tbody tr th {\n",
       "        vertical-align: top;\n",
       "    }\n",
       "\n",
       "    .dataframe thead th {\n",
       "        text-align: right;\n",
       "    }\n",
       "</style>\n",
       "<table border=\"1\" class=\"dataframe\">\n",
       "  <thead>\n",
       "    <tr style=\"text-align: right;\">\n",
       "      <th></th>\n",
       "      <th>userId</th>\n",
       "      <th>movieId</th>\n",
       "      <th>rating</th>\n",
       "    </tr>\n",
       "  </thead>\n",
       "  <tbody>\n",
       "    <tr>\n",
       "      <th>0</th>\n",
       "      <td>1</td>\n",
       "      <td>2</td>\n",
       "      <td>3.5</td>\n",
       "    </tr>\n",
       "    <tr>\n",
       "      <th>1</th>\n",
       "      <td>1</td>\n",
       "      <td>29</td>\n",
       "      <td>3.5</td>\n",
       "    </tr>\n",
       "    <tr>\n",
       "      <th>2</th>\n",
       "      <td>1</td>\n",
       "      <td>32</td>\n",
       "      <td>3.5</td>\n",
       "    </tr>\n",
       "    <tr>\n",
       "      <th>3</th>\n",
       "      <td>1</td>\n",
       "      <td>47</td>\n",
       "      <td>3.5</td>\n",
       "    </tr>\n",
       "    <tr>\n",
       "      <th>4</th>\n",
       "      <td>1</td>\n",
       "      <td>50</td>\n",
       "      <td>3.5</td>\n",
       "    </tr>\n",
       "  </tbody>\n",
       "</table>\n",
       "</div>"
      ],
      "text/plain": [
       "   userId  movieId  rating\n",
       "0       1        2     3.5\n",
       "1       1       29     3.5\n",
       "2       1       32     3.5\n",
       "3       1       47     3.5\n",
       "4       1       50     3.5"
      ]
     },
     "metadata": {},
     "output_type": "display_data"
    },
    {
     "data": {
      "text/html": [
       "<div>\n",
       "<style scoped>\n",
       "    .dataframe tbody tr th:only-of-type {\n",
       "        vertical-align: middle;\n",
       "    }\n",
       "\n",
       "    .dataframe tbody tr th {\n",
       "        vertical-align: top;\n",
       "    }\n",
       "\n",
       "    .dataframe thead th {\n",
       "        text-align: right;\n",
       "    }\n",
       "</style>\n",
       "<table border=\"1\" class=\"dataframe\">\n",
       "  <thead>\n",
       "    <tr style=\"text-align: right;\">\n",
       "      <th></th>\n",
       "      <th>userId</th>\n",
       "      <th>movieId</th>\n",
       "      <th>rating</th>\n",
       "    </tr>\n",
       "  </thead>\n",
       "  <tbody>\n",
       "    <tr>\n",
       "      <th>20000258</th>\n",
       "      <td>138493</td>\n",
       "      <td>68954</td>\n",
       "      <td>4.5</td>\n",
       "    </tr>\n",
       "    <tr>\n",
       "      <th>20000259</th>\n",
       "      <td>138493</td>\n",
       "      <td>69526</td>\n",
       "      <td>4.5</td>\n",
       "    </tr>\n",
       "    <tr>\n",
       "      <th>20000260</th>\n",
       "      <td>138493</td>\n",
       "      <td>69644</td>\n",
       "      <td>3.0</td>\n",
       "    </tr>\n",
       "    <tr>\n",
       "      <th>20000261</th>\n",
       "      <td>138493</td>\n",
       "      <td>70286</td>\n",
       "      <td>5.0</td>\n",
       "    </tr>\n",
       "    <tr>\n",
       "      <th>20000262</th>\n",
       "      <td>138493</td>\n",
       "      <td>71619</td>\n",
       "      <td>2.5</td>\n",
       "    </tr>\n",
       "  </tbody>\n",
       "</table>\n",
       "</div>"
      ],
      "text/plain": [
       "          userId  movieId  rating\n",
       "20000258  138493    68954     4.5\n",
       "20000259  138493    69526     4.5\n",
       "20000260  138493    69644     3.0\n",
       "20000261  138493    70286     5.0\n",
       "20000262  138493    71619     2.5"
      ]
     },
     "metadata": {},
     "output_type": "display_data"
    }
   ],
   "source": [
    "ratings = pd.read_csv('data/ml-20m/ratings.csv',sep=\",\",usecols=[\"userId\",\"movieId\",\"rating\"])\n",
    "\n",
    "print('orders -- dimensions: {0};   size: {1}'.format(ratings.shape, size(ratings)))\n",
    "display(ratings.head())\n",
    "display(ratings.tail())"
   ]
  },
  {
   "cell_type": "markdown",
   "metadata": {},
   "source": [
    "Chequeo que dentro de la base de datos _ratings_ no haya peliculas que no estén listadas en la base de datos _movies_"
   ]
  },
  {
   "cell_type": "code",
   "execution_count": 21,
   "metadata": {},
   "outputs": [
    {
     "data": {
      "text/plain": [
       "0"
      ]
     },
     "execution_count": 21,
     "metadata": {},
     "output_type": "execute_result"
    }
   ],
   "source": [
    "ratings.index[~ratings[\"movieId\"].isin(movies[\"movieId\"])].size"
   ]
  },
  {
   "cell_type": "code",
   "execution_count": 22,
   "metadata": {},
   "outputs": [
    {
     "name": "stdout",
     "output_type": "stream",
     "text": [
      "orders -- dimensions: (9995410, 3);   size: 319.85 MB\n"
     ]
    }
   ],
   "source": [
    "ratings.drop(index=ratings.index[ratings[\"rating\"] < 4],inplace=True)\n",
    "print('orders -- dimensions: {0};   size: {1}'.format(ratings.shape, size(ratings)))"
   ]
  },
  {
   "cell_type": "markdown",
   "metadata": {},
   "source": [
    "Defino un diccionario que utilizaré luego para imprimir las reglas con los titulos de las películas"
   ]
  },
  {
   "cell_type": "code",
   "execution_count": 23,
   "metadata": {},
   "outputs": [],
   "source": [
    "rename_dict = movies.set_index('movieId').to_dict()['Title']"
   ]
  },
  {
   "cell_type": "code",
   "execution_count": 24,
   "metadata": {},
   "outputs": [],
   "source": [
    "#ratings[\"movieId\"] = ratings[\"movieId\"].replace(rename_dict)"
   ]
  },
  {
   "cell_type": "code",
   "execution_count": 25,
   "metadata": {},
   "outputs": [
    {
     "name": "stdout",
     "output_type": "stream",
     "text": [
      "(138287,)\n",
      "(20720,)\n"
     ]
    }
   ],
   "source": [
    "print(ratings[\"userId\"].unique().shape)\n",
    "print(ratings[\"movieId\"].unique().shape)"
   ]
  },
  {
   "cell_type": "code",
   "execution_count": 26,
   "metadata": {},
   "outputs": [],
   "source": [
    "a = ratings.groupby('userId')"
   ]
  },
  {
   "cell_type": "code",
   "execution_count": 27,
   "metadata": {},
   "outputs": [],
   "source": [
    "i = a.size()"
   ]
  },
  {
   "cell_type": "code",
   "execution_count": 28,
   "metadata": {},
   "outputs": [
    {
     "name": "stdout",
     "output_type": "stream",
     "text": [
      "[2004]\n"
     ]
    }
   ],
   "source": [
    "m = 2000\n",
    "n = np.sum(i.iloc[0:m])\n",
    "print(ratings['userId'].iloc[n:n+i.iloc[m]].unique())"
   ]
  },
  {
   "cell_type": "markdown",
   "metadata": {},
   "source": [
    "Creo la lista de transacciones, aprovecho que la base de datos está ordenada por el ID del usuario."
   ]
  },
  {
   "cell_type": "code",
   "execution_count": 30,
   "metadata": {},
   "outputs": [],
   "source": [
    "transactions = []\n",
    "j = 0\n",
    "for k in range(i.shape[0]):\n",
    "    transactions.append(np.array(ratings['movieId'].iloc[j:j+i.iloc[k]]))\n",
    "    j += i.iloc[k]"
   ]
  },
  {
   "cell_type": "markdown",
   "metadata": {},
   "source": [
    "**NOTA:** en caso de no tener el archivo .pickle descomentar las siguientes celdas y ejecutarlas. Subir el parámetro min_support para que no demore tanto"
   ]
  },
  {
   "cell_type": "code",
   "execution_count": null,
   "metadata": {},
   "outputs": [],
   "source": [
    "#from efficient_apriori import apriori\n",
    "#itemsets, rules = apriori(transactions,min_support=0.005,min_confidence=0.2,max_length=2,verbosity=1)"
   ]
  },
  {
   "cell_type": "code",
   "execution_count": null,
   "metadata": {},
   "outputs": [],
   "source": [
    "#a = rules[0]"
   ]
  },
  {
   "cell_type": "code",
   "execution_count": null,
   "metadata": {},
   "outputs": [],
   "source": [
    "#a.confidence,a.conviction,a.count_full,a.count_lhs,a.count_rhs,a.lhs,a.lift,a.num_transactions,a.rhs,a.support"
   ]
  },
  {
   "cell_type": "code",
   "execution_count": 34,
   "metadata": {},
   "outputs": [],
   "source": [
    "import pickle"
   ]
  },
  {
   "cell_type": "code",
   "execution_count": null,
   "metadata": {},
   "outputs": [],
   "source": [
    "#f = open(\"rules_sup_0.005_conf_0.2.pickle\",\"wb\")i#\n",
    "#pickle.dump(rules,f)\n",
    "#f.close()"
   ]
  },
  {
   "cell_type": "markdown",
   "metadata": {},
   "source": [
    "Cargo el archivo con las reglas guardadas, fueron computadas tomando los parámetros min_support = 0.005 y min_confidence = 0.2"
   ]
  },
  {
   "cell_type": "code",
   "execution_count": 35,
   "metadata": {},
   "outputs": [],
   "source": [
    "f = open(\"rules_sup_0.005_conf_0.2.pickle\",\"rb\")\n",
    "rules = pickle.load(f)\n",
    "f.close()"
   ]
  },
  {
   "cell_type": "markdown",
   "metadata": {},
   "source": [
    "### Confianza\n",
    "\n",
    "Primeras 10 reglas ordenadas según el valor de la confianza, de mayor a menor"
   ]
  },
  {
   "cell_type": "code",
   "execution_count": 36,
   "metadata": {},
   "outputs": [],
   "source": [
    "rules=sorted(rules, key=lambda rule: rule.confidence,reverse=True)"
   ]
  },
  {
   "cell_type": "code",
   "execution_count": 37,
   "metadata": {},
   "outputs": [
    {
     "name": "stdout",
     "output_type": "stream",
     "text": [
      "Rule: The Matrix Revolutions -> The Matrix\n",
      "Support: 0.02655347212680874\n",
      "Confidence: 0.9145703611457036\n",
      "Lift: 3.148997622980253\n",
      "Conviction: 8.305873513623167\n",
      "=====================================\n",
      "Rule: The Godfather: Part II -> The Godfather\n",
      "Support: 0.1464562829477825\n",
      "Confidence: 0.9071079858467327\n",
      "Lift: 3.6023560403993775\n",
      "Conviction: 8.054409805835297\n",
      "=====================================\n",
      "Rule: The Matrix Reloaded -> The Matrix\n",
      "Support: 0.041218625033444936\n",
      "Confidence: 0.9001895135818067\n",
      "Lift: 3.0994822912802156\n",
      "Conviction: 7.109150564220445\n",
      "=====================================\n",
      "Rule: The Animatrix -> The Matrix\n",
      "Support: 0.00928503763911286\n",
      "Confidence: 0.8873531444367657\n",
      "Lift: 3.0552848214706825\n",
      "Conviction: 6.299046458929382\n",
      "=====================================\n",
      "Rule: Following -> Memento\n",
      "Support: 0.005076399083066376\n",
      "Confidence: 0.8808030112923463\n",
      "Lift: 5.087444909472253\n",
      "Conviction: 6.936981497704612\n",
      "=====================================\n",
      "Rule: Monty Python Live at the Hollywood Bowl -> Monty Python and the Holy Grail\n",
      "Support: 0.010630066455993695\n",
      "Confidence: 0.8734402852049911\n",
      "Lift: 4.659392690666305\n",
      "Conviction: 6.42022642865773\n",
      "=====================================\n",
      "Rule: Pirates of the Caribbean: At World's End -> Pirates of the Caribbean: The Curse of the Black Pearl\n",
      "Support: 0.01379016104189114\n",
      "Confidence: 0.8711740520785747\n",
      "Lift: 7.582103728352311\n",
      "Conviction: 6.870520126536695\n",
      "=====================================\n",
      "Rule: Back to the Future Part II -> Back to the Future\n",
      "Support: 0.052955086161389\n",
      "Confidence: 0.8675512380049757\n",
      "Lift: 4.312248231551493\n",
      "Conviction: 6.031139401265468\n",
      "=====================================\n",
      "Rule: Death Proof -> Pulp Fiction\n",
      "Support: 0.007773688054553212\n",
      "Confidence: 0.8669354838709677\n",
      "Lift: 2.289952958914762\n",
      "Conviction: 4.670048706311459\n",
      "=====================================\n",
      "Rule: The Dark Knight Rises -> The Dark Knight\n",
      "Support: 0.02092749137662976\n",
      "Confidence: 0.8651718983557548\n",
      "Lift: 7.3005873997999915\n",
      "Conviction: 6.537901372726968\n",
      "=====================================\n"
     ]
    }
   ],
   "source": [
    "for item in rules[:10]:\n",
    "    print(\"Rule: \" + str(rename_dict[item.lhs[0]]) + \" -> \" + str(rename_dict[item.rhs[0]]))\n",
    "\n",
    "    print(\"Support: \" + str(item.support))\n",
    "    print(\"Confidence: \" + str(item.confidence))\n",
    "    print(\"Lift: \" + str(item.lift))\n",
    "    print(\"Conviction: \" + str(item.conviction))\n",
    "    print(\"=====================================\")"
   ]
  },
  {
   "cell_type": "markdown",
   "metadata": {},
   "source": [
    "### Lift\n",
    "\n",
    "Primeras 10 reglas ordenadas según el valor de lift, de mayor a menor"
   ]
  },
  {
   "cell_type": "code",
   "execution_count": 38,
   "metadata": {},
   "outputs": [],
   "source": [
    "rules=sorted(rules, key=lambda rule: rule.lift,reverse=True)"
   ]
  },
  {
   "cell_type": "code",
   "execution_count": 39,
   "metadata": {},
   "outputs": [
    {
     "name": "stdout",
     "output_type": "stream",
     "text": [
      "Rule: Planet Terror -> Grindhouse\n",
      "Support: 0.005900771583735275\n",
      "Confidence: 0.6425196850393701\n",
      "Lift: 42.37106327374315\n",
      "Conviction: 2.754937379261994\n",
      "=====================================\n",
      "Rule: Grindhouse -> Planet Terror\n",
      "Support: 0.005900771583735275\n",
      "Confidence: 0.38912732474964234\n",
      "Lift: 42.37106327374315\n",
      "Conviction: 1.6219684389402402\n",
      "=====================================\n",
      "Rule: Dracula -> Frankenstein\n",
      "Support: 0.005813995531033286\n",
      "Confidence: 0.6437149719775821\n",
      "Lift: 40.88994594849053\n",
      "Conviction: 2.7625560930049162\n",
      "=====================================\n",
      "Rule: Frankenstein -> Dracula\n",
      "Support: 0.005813995531033286\n",
      "Confidence: 0.36931557188791914\n",
      "Lift: 40.88994594849053\n",
      "Conviction: 1.5712581656350992\n",
      "=====================================\n",
      "Rule: Manon of the Spring (Manon des sources) -> Jean de Florette\n",
      "Support: 0.012286042795056658\n",
      "Confidence: 0.7266894781864842\n",
      "Lift: 39.735748465786614\n",
      "Conviction: 3.591928831671416\n",
      "=====================================\n",
      "Rule: Jean de Florette -> Manon of the Spring (Manon des sources)\n",
      "Support: 0.012286042795056658\n",
      "Confidence: 0.671807038355081\n",
      "Lift: 39.735748465786614\n",
      "Conviction: 2.9954729207956783\n",
      "=====================================\n",
      "Rule: The Man with the Golden Gun -> The Spy Who Loved Me\n",
      "Support: 0.006775763448480334\n",
      "Confidence: 0.5590692124105012\n",
      "Lift: 39.62686016228138\n",
      "Conviction: 2.2359329074115863\n",
      "=====================================\n",
      "Rule: The Spy Who Loved Me -> The Man with the Golden Gun\n",
      "Support: 0.006775763448480334\n",
      "Confidence: 0.48026652998462327\n",
      "Lift: 39.62686016228138\n",
      "Conviction: 1.9007440025801128\n",
      "=====================================\n",
      "Rule: Death Proof -> Grindhouse\n",
      "Support: 0.005365652592073007\n",
      "Confidence: 0.5983870967741935\n",
      "Lift: 39.460732690325656\n",
      "Conviction: 2.4522017953800717\n",
      "=====================================\n",
      "Rule: Grindhouse -> Death Proof\n",
      "Support: 0.005365652592073007\n",
      "Confidence: 0.35383881735813066\n",
      "Lift: 39.460732690325656\n",
      "Conviction: 1.5337243497592516\n",
      "=====================================\n"
     ]
    }
   ],
   "source": [
    "for item in rules[:10]:\n",
    "    print(\"Rule: \" + str(rename_dict[item.lhs[0]]) + \" -> \" + str(rename_dict[item.rhs[0]]))\n",
    "\n",
    "    print(\"Support: \" + str(item.support))\n",
    "    print(\"Confidence: \" + str(item.confidence))\n",
    "    print(\"Lift: \" + str(item.lift))\n",
    "    print(\"Conviction: \" + str(item.conviction))\n",
    "    print(\"=====================================\")"
   ]
  },
  {
   "cell_type": "markdown",
   "metadata": {},
   "source": [
    "### Convicción\n",
    "\n",
    "Primeras 10 reglas ordenadas según el valor de la convicción, de mayor a menor"
   ]
  },
  {
   "cell_type": "code",
   "execution_count": 42,
   "metadata": {},
   "outputs": [],
   "source": [
    "rules=sorted(rules, key=lambda rule: rule.conviction,reverse=True)"
   ]
  },
  {
   "cell_type": "code",
   "execution_count": 43,
   "metadata": {},
   "outputs": [
    {
     "name": "stdout",
     "output_type": "stream",
     "text": [
      "Rule: The Matrix Revolutions -> The Matrix\n",
      "Support: 0.02655347212680874\n",
      "Confidence: 0.9145703611457036\n",
      "Lift: 3.148997622980253\n",
      "Conviction: 8.305873513623167\n",
      "=====================================\n",
      "Rule: The Godfather: Part II -> The Godfather\n",
      "Support: 0.1464562829477825\n",
      "Confidence: 0.9071079858467327\n",
      "Lift: 3.6023560403993775\n",
      "Conviction: 8.054409805835297\n",
      "=====================================\n",
      "Rule: The Matrix Reloaded -> The Matrix\n",
      "Support: 0.041218625033444936\n",
      "Confidence: 0.9001895135818067\n",
      "Lift: 3.0994822912802156\n",
      "Conviction: 7.109150564220445\n",
      "=====================================\n",
      "Rule: Following -> Memento\n",
      "Support: 0.005076399083066376\n",
      "Confidence: 0.8808030112923463\n",
      "Lift: 5.087444909472253\n",
      "Conviction: 6.936981497704612\n",
      "=====================================\n",
      "Rule: Pirates of the Caribbean: At World's End -> Pirates of the Caribbean: The Curse of the Black Pearl\n",
      "Support: 0.01379016104189114\n",
      "Confidence: 0.8711740520785747\n",
      "Lift: 7.582103728352311\n",
      "Conviction: 6.870520126536695\n",
      "=====================================\n",
      "Rule: Porco Rosso (Crimson Pig) (Kurenai no buta) -> Spirited Away (Sen to Chihiro no kamikakushi)\n",
      "Support: 0.007426583843745255\n",
      "Confidence: 0.8594142259414226\n",
      "Lift: 11.11020052937847\n",
      "Conviction: 6.562871527858815\n",
      "=====================================\n",
      "Rule: The Dark Knight Rises -> The Dark Knight\n",
      "Support: 0.02092749137662976\n",
      "Confidence: 0.8651718983557548\n",
      "Lift: 7.3005873997999915\n",
      "Conviction: 6.537901372726968\n",
      "=====================================\n",
      "Rule: Ponyo (Gake no ue no Ponyo) -> Spirited Away (Sen to Chihiro no kamikakushi)\n",
      "Support: 0.0054090406184240025\n",
      "Confidence: 0.8577981651376146\n",
      "Lift: 11.089308671813155\n",
      "Conviction: 6.488287403313028\n",
      "=====================================\n",
      "Rule: Monty Python Live at the Hollywood Bowl -> Monty Python and the Holy Grail\n",
      "Support: 0.010630066455993695\n",
      "Confidence: 0.8734402852049911\n",
      "Lift: 4.659392690666305\n",
      "Conviction: 6.42022642865773\n",
      "=====================================\n",
      "Rule: The Animatrix -> The Matrix\n",
      "Support: 0.00928503763911286\n",
      "Confidence: 0.8873531444367657\n",
      "Lift: 3.0552848214706825\n",
      "Conviction: 6.299046458929382\n",
      "=====================================\n"
     ]
    }
   ],
   "source": [
    "for item in rules[:10]:\n",
    "    print(\"Rule: \" + str(rename_dict[item.lhs[0]]) + \" -> \" + str(rename_dict[item.rhs[0]]))\n",
    "\n",
    "    print(\"Support: \" + str(item.support))\n",
    "    print(\"Confidence: \" + str(item.confidence))\n",
    "    print(\"Lift: \" + str(item.lift))\n",
    "    print(\"Conviction: \" + str(item.conviction))\n",
    "    print(\"=====================================\")"
   ]
  },
  {
   "cell_type": "markdown",
   "metadata": {},
   "source": [
    "### Soporte\n",
    "\n",
    "Primeras 10 reglas ordenadas según el valor del soporte, de mayor a menor"
   ]
  },
  {
   "cell_type": "code",
   "execution_count": 44,
   "metadata": {},
   "outputs": [],
   "source": [
    "rules=sorted(rules, key=lambda rule: rule.support,reverse=True)"
   ]
  },
  {
   "cell_type": "code",
   "execution_count": 46,
   "metadata": {},
   "outputs": [
    {
     "name": "stdout",
     "output_type": "stream",
     "text": [
      "Rule: Pulp Fiction -> The Shawshank Redemption\n",
      "Support: 0.23441827503669904\n",
      "Confidence: 0.6192004278646878\n",
      "Lift: 1.5343481923078484\n",
      "Conviction: 1.5662852000092338\n",
      "=====================================\n",
      "Rule: The Shawshank Redemption -> Pulp Fiction\n",
      "Support: 0.23441827503669904\n",
      "Confidence: 0.5808769509201355\n",
      "Lift: 1.5343481923078484\n",
      "Conviction: 1.482661895965836\n",
      "=====================================\n",
      "Rule: The Silence of the Lambs -> The Shawshank Redemption\n",
      "Support: 0.2280257724876525\n",
      "Confidence: 0.6292253661651435\n",
      "Lift: 1.5591894961363126\n",
      "Conviction: 1.6086341392725767\n",
      "=====================================\n",
      "Rule: The Shawshank Redemption -> The Silence of the Lambs\n",
      "Support: 0.2280257724876525\n",
      "Confidence: 0.5650366441485835\n",
      "Lift: 1.5591894961363126\n",
      "Conviction: 1.465890703659548\n",
      "=====================================\n",
      "Rule: The Silence of the Lambs -> Pulp Fiction\n",
      "Support: 0.2279389964349505\n",
      "Confidence: 0.6289859121203656\n",
      "Lift: 1.661424843454797\n",
      "Conviction: 1.6749169228341576\n",
      "=====================================\n",
      "Rule: Pulp Fiction -> The Silence of the Lambs\n",
      "Support: 0.2279389964349505\n",
      "Confidence: 0.6020858403529884\n",
      "Lift: 1.661424843454797\n",
      "Conviction: 1.6023776087895067\n",
      "=====================================\n",
      "Rule: Star Wars: Episode V - The Empire Strikes Back -> Star Wars: Episode IV - A New Hope\n",
      "Support: 0.21080072602630762\n",
      "Confidence: 0.8155722798869709\n",
      "Lift: 2.6467437310787933\n",
      "Conviction: 3.751378766054485\n",
      "=====================================\n",
      "Rule: Star Wars: Episode IV - A New Hope -> Star Wars: Episode V - The Empire Strikes Back\n",
      "Support: 0.21080072602630762\n",
      "Confidence: 0.684103069557871\n",
      "Lift: 2.6467437310787933\n",
      "Conviction: 2.3473804962402585\n",
      "=====================================\n",
      "Rule: Forrest Gump -> The Shawshank Redemption\n",
      "Support: 0.20648361740438365\n",
      "Confidence: 0.6032832604424162\n",
      "Lift: 1.4949062346444069\n",
      "Conviction: 1.5034423168868\n",
      "=====================================\n",
      "Rule: The Shawshank Redemption -> Forrest Gump\n",
      "Support: 0.20648361740438365\n",
      "Confidence: 0.5116562438403784\n",
      "Lift: 1.4949062346444069\n",
      "Conviction: 1.3468659002744037\n",
      "=====================================\n"
     ]
    }
   ],
   "source": [
    "for item in rules[:10]:\n",
    "    print(\"Rule: \" + str(rename_dict[item.lhs[0]]) + \" -> \" + str(rename_dict[item.rhs[0]]))\n",
    "\n",
    "    print(\"Support: \" + str(item.support))\n",
    "    print(\"Confidence: \" + str(item.confidence))\n",
    "    print(\"Lift: \" + str(item.lift))\n",
    "    print(\"Conviction: \" + str(item.conviction))\n",
    "    print(\"=====================================\")"
   ]
  },
  {
   "cell_type": "markdown",
   "metadata": {},
   "source": [
    "Puede observarse que las primeras 5 reglas cambiar según el parámetro por el cuál es las ordene.\n",
    "Se observa que cuando se ordenan por confianza o convicción, las reglas obtenidas son más \"obvias\" que las ordenadas por otros parámetros.\n",
    "Las reglas con Lift grandes tiene, por lo general soporte muy bajo, casi en el límite establecido de 0.0005."
   ]
  }
 ],
 "metadata": {
  "kernelspec": {
   "display_name": "Python 3",
   "language": "python",
   "name": "python3"
  },
  "language_info": {
   "codemirror_mode": {
    "name": "ipython",
    "version": 3
   },
   "file_extension": ".py",
   "mimetype": "text/x-python",
   "name": "python",
   "nbconvert_exporter": "python",
   "pygments_lexer": "ipython3",
   "version": "3.6.8"
  }
 },
 "nbformat": 4,
 "nbformat_minor": 2
}
