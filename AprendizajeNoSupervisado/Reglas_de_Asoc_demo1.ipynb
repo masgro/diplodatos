{
 "cells": [
  {
   "cell_type": "markdown",
   "metadata": {},
   "source": [
    "## Aprendizaje de reglas de asociación"
   ]
  },
  {
   "cell_type": "markdown",
   "metadata": {},
   "source": [
    "Objetivo:\n",
    "    \n",
    "    derivar reglas de la forma {A} -> {B}\n",
    "    "
   ]
  },
  {
   "cell_type": "code",
   "execution_count": 1,
   "metadata": {},
   "outputs": [],
   "source": [
    "import pandas as pd\n",
    "import numpy as np\n",
    "import matplotlib.pyplot as plt\n",
    "import sys\n",
    "from itertools import combinations, groupby\n",
    "from collections import Counter\n",
    "from IPython.display import display\n",
    "\n",
    "#!pip install efficient_apriori\n",
    "%matplotlib inline"
   ]
  },
  {
   "cell_type": "code",
   "execution_count": 2,
   "metadata": {},
   "outputs": [],
   "source": [
    "def size(obj):\n",
    "    return \"{0:.2f} MB\".format(sys.getsizeof(obj) / (1000 * 1000))"
   ]
  },
  {
   "cell_type": "code",
   "execution_count": 3,
   "metadata": {},
   "outputs": [
    {
     "name": "stdout",
     "output_type": "stream",
     "text": [
      "orders -- dimensions: (27278, 3);   size: 4.50 MB\n"
     ]
    },
    {
     "data": {
      "text/html": [
       "<div>\n",
       "<style scoped>\n",
       "    .dataframe tbody tr th:only-of-type {\n",
       "        vertical-align: middle;\n",
       "    }\n",
       "\n",
       "    .dataframe tbody tr th {\n",
       "        vertical-align: top;\n",
       "    }\n",
       "\n",
       "    .dataframe thead th {\n",
       "        text-align: right;\n",
       "    }\n",
       "</style>\n",
       "<table border=\"1\" class=\"dataframe\">\n",
       "  <thead>\n",
       "    <tr style=\"text-align: right;\">\n",
       "      <th></th>\n",
       "      <th>movieId</th>\n",
       "      <th>title</th>\n",
       "      <th>genres</th>\n",
       "    </tr>\n",
       "  </thead>\n",
       "  <tbody>\n",
       "    <tr>\n",
       "      <td>0</td>\n",
       "      <td>1</td>\n",
       "      <td>Toy Story (1995)</td>\n",
       "      <td>Adventure|Animation|Children|Comedy|Fantasy</td>\n",
       "    </tr>\n",
       "    <tr>\n",
       "      <td>1</td>\n",
       "      <td>2</td>\n",
       "      <td>Jumanji (1995)</td>\n",
       "      <td>Adventure|Children|Fantasy</td>\n",
       "    </tr>\n",
       "    <tr>\n",
       "      <td>2</td>\n",
       "      <td>3</td>\n",
       "      <td>Grumpier Old Men (1995)</td>\n",
       "      <td>Comedy|Romance</td>\n",
       "    </tr>\n",
       "    <tr>\n",
       "      <td>3</td>\n",
       "      <td>4</td>\n",
       "      <td>Waiting to Exhale (1995)</td>\n",
       "      <td>Comedy|Drama|Romance</td>\n",
       "    </tr>\n",
       "    <tr>\n",
       "      <td>4</td>\n",
       "      <td>5</td>\n",
       "      <td>Father of the Bride Part II (1995)</td>\n",
       "      <td>Comedy</td>\n",
       "    </tr>\n",
       "  </tbody>\n",
       "</table>\n",
       "</div>"
      ],
      "text/plain": [
       "   movieId                               title  \\\n",
       "0        1                    Toy Story (1995)   \n",
       "1        2                      Jumanji (1995)   \n",
       "2        3             Grumpier Old Men (1995)   \n",
       "3        4            Waiting to Exhale (1995)   \n",
       "4        5  Father of the Bride Part II (1995)   \n",
       "\n",
       "                                        genres  \n",
       "0  Adventure|Animation|Children|Comedy|Fantasy  \n",
       "1                   Adventure|Children|Fantasy  \n",
       "2                               Comedy|Romance  \n",
       "3                         Comedy|Drama|Romance  \n",
       "4                                       Comedy  "
      ]
     },
     "metadata": {},
     "output_type": "display_data"
    },
    {
     "data": {
      "text/html": [
       "<div>\n",
       "<style scoped>\n",
       "    .dataframe tbody tr th:only-of-type {\n",
       "        vertical-align: middle;\n",
       "    }\n",
       "\n",
       "    .dataframe tbody tr th {\n",
       "        vertical-align: top;\n",
       "    }\n",
       "\n",
       "    .dataframe thead th {\n",
       "        text-align: right;\n",
       "    }\n",
       "</style>\n",
       "<table border=\"1\" class=\"dataframe\">\n",
       "  <thead>\n",
       "    <tr style=\"text-align: right;\">\n",
       "      <th></th>\n",
       "      <th>movieId</th>\n",
       "      <th>title</th>\n",
       "      <th>genres</th>\n",
       "    </tr>\n",
       "  </thead>\n",
       "  <tbody>\n",
       "    <tr>\n",
       "      <td>27273</td>\n",
       "      <td>131254</td>\n",
       "      <td>Kein Bund für's Leben (2007)</td>\n",
       "      <td>Comedy</td>\n",
       "    </tr>\n",
       "    <tr>\n",
       "      <td>27274</td>\n",
       "      <td>131256</td>\n",
       "      <td>Feuer, Eis &amp; Dosenbier (2002)</td>\n",
       "      <td>Comedy</td>\n",
       "    </tr>\n",
       "    <tr>\n",
       "      <td>27275</td>\n",
       "      <td>131258</td>\n",
       "      <td>The Pirates (2014)</td>\n",
       "      <td>Adventure</td>\n",
       "    </tr>\n",
       "    <tr>\n",
       "      <td>27276</td>\n",
       "      <td>131260</td>\n",
       "      <td>Rentun Ruusu (2001)</td>\n",
       "      <td>(no genres listed)</td>\n",
       "    </tr>\n",
       "    <tr>\n",
       "      <td>27277</td>\n",
       "      <td>131262</td>\n",
       "      <td>Innocence (2014)</td>\n",
       "      <td>Adventure|Fantasy|Horror</td>\n",
       "    </tr>\n",
       "  </tbody>\n",
       "</table>\n",
       "</div>"
      ],
      "text/plain": [
       "       movieId                          title                    genres\n",
       "27273   131254   Kein Bund für's Leben (2007)                    Comedy\n",
       "27274   131256  Feuer, Eis & Dosenbier (2002)                    Comedy\n",
       "27275   131258             The Pirates (2014)                 Adventure\n",
       "27276   131260            Rentun Ruusu (2001)        (no genres listed)\n",
       "27277   131262               Innocence (2014)  Adventure|Fantasy|Horror"
      ]
     },
     "metadata": {},
     "output_type": "display_data"
    }
   ],
   "source": [
    "movies = pd.read_csv('data/ml-20m/movies.csv',sep=\",\")\n",
    "\n",
    "print('orders -- dimensions: {0};   size: {1}'.format(movies.shape, size(movies)))\n",
    "display(movies.head())\n",
    "display(movies.tail())"
   ]
  },
  {
   "cell_type": "code",
   "execution_count": 4,
   "metadata": {},
   "outputs": [],
   "source": [
    "new = movies[\"title\"].str.rsplit(\"(\",n=1,expand=True)"
   ]
  },
  {
   "cell_type": "code",
   "execution_count": 5,
   "metadata": {},
   "outputs": [],
   "source": [
    "movies[\"year\"] = new[1].str.replace(\")\",\"\")\n",
    "movies[\"Title\"] = new[0]"
   ]
  },
  {
   "cell_type": "code",
   "execution_count": 6,
   "metadata": {},
   "outputs": [],
   "source": [
    "movies[\"year\"] = movies[\"year\"].str.rstrip()"
   ]
  },
  {
   "cell_type": "code",
   "execution_count": 7,
   "metadata": {},
   "outputs": [],
   "source": [
    "is_digit = movies[\"year\"].str.isdigit()"
   ]
  },
  {
   "cell_type": "code",
   "execution_count": 8,
   "metadata": {},
   "outputs": [
    {
     "data": {
      "text/html": [
       "<div>\n",
       "<style scoped>\n",
       "    .dataframe tbody tr th:only-of-type {\n",
       "        vertical-align: middle;\n",
       "    }\n",
       "\n",
       "    .dataframe tbody tr th {\n",
       "        vertical-align: top;\n",
       "    }\n",
       "\n",
       "    .dataframe thead th {\n",
       "        text-align: right;\n",
       "    }\n",
       "</style>\n",
       "<table border=\"1\" class=\"dataframe\">\n",
       "  <thead>\n",
       "    <tr style=\"text-align: right;\">\n",
       "      <th></th>\n",
       "      <th>movieId</th>\n",
       "      <th>title</th>\n",
       "      <th>genres</th>\n",
       "      <th>year</th>\n",
       "      <th>Title</th>\n",
       "    </tr>\n",
       "  </thead>\n",
       "  <tbody>\n",
       "    <tr>\n",
       "      <td>15646</td>\n",
       "      <td>79607</td>\n",
       "      <td>Millions Game, The (Das Millionenspiel)</td>\n",
       "      <td>Action|Drama|Sci-Fi|Thriller</td>\n",
       "      <td>Das Millionenspiel</td>\n",
       "      <td>Millions Game, The</td>\n",
       "    </tr>\n",
       "    <tr>\n",
       "      <td>17341</td>\n",
       "      <td>87442</td>\n",
       "      <td>Bicycle, Spoon, Apple (Bicicleta, cullera, poma)</td>\n",
       "      <td>Documentary</td>\n",
       "      <td>Bicicleta, cullera, poma</td>\n",
       "      <td>Bicycle, Spoon, Apple</td>\n",
       "    </tr>\n",
       "    <tr>\n",
       "      <td>22368</td>\n",
       "      <td>107434</td>\n",
       "      <td>Diplomatic Immunity (2009– )</td>\n",
       "      <td>Comedy</td>\n",
       "      <td>2009–</td>\n",
       "      <td>Diplomatic Immunity</td>\n",
       "    </tr>\n",
       "    <tr>\n",
       "      <td>22669</td>\n",
       "      <td>108548</td>\n",
       "      <td>Big Bang Theory, The (2007-)</td>\n",
       "      <td>Comedy</td>\n",
       "      <td>2007-</td>\n",
       "      <td>Big Bang Theory, The</td>\n",
       "    </tr>\n",
       "    <tr>\n",
       "      <td>22679</td>\n",
       "      <td>108583</td>\n",
       "      <td>Fawlty Towers (1975-1979)</td>\n",
       "      <td>Comedy</td>\n",
       "      <td>1975-1979</td>\n",
       "      <td>Fawlty Towers</td>\n",
       "    </tr>\n",
       "  </tbody>\n",
       "</table>\n",
       "</div>"
      ],
      "text/plain": [
       "       movieId                                             title  \\\n",
       "15646    79607           Millions Game, The (Das Millionenspiel)   \n",
       "17341    87442  Bicycle, Spoon, Apple (Bicicleta, cullera, poma)   \n",
       "22368   107434                      Diplomatic Immunity (2009– )   \n",
       "22669   108548                      Big Bang Theory, The (2007-)   \n",
       "22679   108583                         Fawlty Towers (1975-1979)   \n",
       "\n",
       "                             genres                      year  \\\n",
       "15646  Action|Drama|Sci-Fi|Thriller        Das Millionenspiel   \n",
       "17341                   Documentary  Bicicleta, cullera, poma   \n",
       "22368                        Comedy                     2009–   \n",
       "22669                        Comedy                     2007-   \n",
       "22679                        Comedy                 1975-1979   \n",
       "\n",
       "                        Title  \n",
       "15646     Millions Game, The   \n",
       "17341  Bicycle, Spoon, Apple   \n",
       "22368    Diplomatic Immunity   \n",
       "22669   Big Bang Theory, The   \n",
       "22679          Fawlty Towers   "
      ]
     },
     "execution_count": 8,
     "metadata": {},
     "output_type": "execute_result"
    }
   ],
   "source": [
    "movies.loc[movies.index[movies[\"year\"].str.isdigit() == False]]"
   ]
  },
  {
   "cell_type": "code",
   "execution_count": 9,
   "metadata": {},
   "outputs": [
    {
     "name": "stderr",
     "output_type": "stream",
     "text": [
      "/home/marioagustin/.local/lib/python3.6/site-packages/pandas-0.25.1-py3.6-linux-x86_64.egg/pandas/core/indexing.py:205: SettingWithCopyWarning: \n",
      "A value is trying to be set on a copy of a slice from a DataFrame\n",
      "\n",
      "See the caveats in the documentation: http://pandas.pydata.org/pandas-docs/stable/user_guide/indexing.html#returning-a-view-versus-a-copy\n",
      "  self._setitem_with_indexer(indexer, value)\n"
     ]
    }
   ],
   "source": [
    "movies[\"year\"].iloc[15646] = \"1970\"\n",
    "movies[\"year\"].iloc[17341] = \"2010\"\n",
    "movies[\"year\"].iloc[22368] = \"2009\"\n",
    "movies[\"year\"].iloc[22669] = \"2007\"\n",
    "movies[\"year\"].iloc[22679] = \"1979\""
   ]
  },
  {
   "cell_type": "code",
   "execution_count": 10,
   "metadata": {},
   "outputs": [
    {
     "name": "stdout",
     "output_type": "stream",
     "text": [
      "17\n"
     ]
    }
   ],
   "source": [
    "year_is_na = movies[\"year\"].isna()\n",
    "print(year_is_na.sum())"
   ]
  },
  {
   "cell_type": "code",
   "execution_count": 11,
   "metadata": {},
   "outputs": [
    {
     "data": {
      "text/html": [
       "<div>\n",
       "<style scoped>\n",
       "    .dataframe tbody tr th:only-of-type {\n",
       "        vertical-align: middle;\n",
       "    }\n",
       "\n",
       "    .dataframe tbody tr th {\n",
       "        vertical-align: top;\n",
       "    }\n",
       "\n",
       "    .dataframe thead th {\n",
       "        text-align: right;\n",
       "    }\n",
       "</style>\n",
       "<table border=\"1\" class=\"dataframe\">\n",
       "  <thead>\n",
       "    <tr style=\"text-align: right;\">\n",
       "      <th></th>\n",
       "      <th>movieId</th>\n",
       "      <th>title</th>\n",
       "      <th>genres</th>\n",
       "      <th>year</th>\n",
       "      <th>Title</th>\n",
       "    </tr>\n",
       "  </thead>\n",
       "  <tbody>\n",
       "    <tr>\n",
       "      <td>10593</td>\n",
       "      <td>40697</td>\n",
       "      <td>Babylon 5</td>\n",
       "      <td>Sci-Fi</td>\n",
       "      <td>None</td>\n",
       "      <td>Babylon 5</td>\n",
       "    </tr>\n",
       "    <tr>\n",
       "      <td>23617</td>\n",
       "      <td>112406</td>\n",
       "      <td>Brazil: In the Shadow of the Stadiums</td>\n",
       "      <td>Documentary</td>\n",
       "      <td>None</td>\n",
       "      <td>Brazil: In the Shadow of the Stadiums</td>\n",
       "    </tr>\n",
       "    <tr>\n",
       "      <td>23824</td>\n",
       "      <td>113190</td>\n",
       "      <td>Slaying the Badger</td>\n",
       "      <td>Documentary</td>\n",
       "      <td>None</td>\n",
       "      <td>Slaying the Badger</td>\n",
       "    </tr>\n",
       "    <tr>\n",
       "      <td>24286</td>\n",
       "      <td>115133</td>\n",
       "      <td>Tatort: Im Schmerz geboren</td>\n",
       "      <td>Crime</td>\n",
       "      <td>None</td>\n",
       "      <td>Tatort: Im Schmerz geboren</td>\n",
       "    </tr>\n",
       "    <tr>\n",
       "      <td>24412</td>\n",
       "      <td>115685</td>\n",
       "      <td>National Theatre Live: Frankenstein</td>\n",
       "      <td>Drama|Fantasy</td>\n",
       "      <td>None</td>\n",
       "      <td>National Theatre Live: Frankenstein</td>\n",
       "    </tr>\n",
       "    <tr>\n",
       "      <td>26115</td>\n",
       "      <td>125571</td>\n",
       "      <td>The Court-Martial of Jackie Robinson</td>\n",
       "      <td>(no genres listed)</td>\n",
       "      <td>None</td>\n",
       "      <td>The Court-Martial of Jackie Robinson</td>\n",
       "    </tr>\n",
       "    <tr>\n",
       "      <td>26127</td>\n",
       "      <td>125632</td>\n",
       "      <td>In Our Garden</td>\n",
       "      <td>(no genres listed)</td>\n",
       "      <td>None</td>\n",
       "      <td>In Our Garden</td>\n",
       "    </tr>\n",
       "    <tr>\n",
       "      <td>26180</td>\n",
       "      <td>125958</td>\n",
       "      <td>Stephen Fry In America - New World</td>\n",
       "      <td>(no genres listed)</td>\n",
       "      <td>None</td>\n",
       "      <td>Stephen Fry In America - New World</td>\n",
       "    </tr>\n",
       "    <tr>\n",
       "      <td>26335</td>\n",
       "      <td>126438</td>\n",
       "      <td>Two: The Story of Roman &amp; Nyro</td>\n",
       "      <td>Documentary|Drama</td>\n",
       "      <td>None</td>\n",
       "      <td>Two: The Story of Roman &amp; Nyro</td>\n",
       "    </tr>\n",
       "    <tr>\n",
       "      <td>26395</td>\n",
       "      <td>126929</td>\n",
       "      <td>Li'l Quinquin</td>\n",
       "      <td>(no genres listed)</td>\n",
       "      <td>None</td>\n",
       "      <td>Li'l Quinquin</td>\n",
       "    </tr>\n",
       "    <tr>\n",
       "      <td>26432</td>\n",
       "      <td>127005</td>\n",
       "      <td>A Year Along the Abandoned Road</td>\n",
       "      <td>(no genres listed)</td>\n",
       "      <td>None</td>\n",
       "      <td>A Year Along the Abandoned Road</td>\n",
       "    </tr>\n",
       "    <tr>\n",
       "      <td>26749</td>\n",
       "      <td>128612</td>\n",
       "      <td>Body/Cialo</td>\n",
       "      <td>Comedy|Drama|Mystery</td>\n",
       "      <td>None</td>\n",
       "      <td>Body/Cialo</td>\n",
       "    </tr>\n",
       "    <tr>\n",
       "      <td>26784</td>\n",
       "      <td>128734</td>\n",
       "      <td>Polskie gówno</td>\n",
       "      <td>Comedy|Musical</td>\n",
       "      <td>None</td>\n",
       "      <td>Polskie gówno</td>\n",
       "    </tr>\n",
       "    <tr>\n",
       "      <td>26963</td>\n",
       "      <td>129651</td>\n",
       "      <td>The Third Reich: The Rise &amp; Fall</td>\n",
       "      <td>(no genres listed)</td>\n",
       "      <td>None</td>\n",
       "      <td>The Third Reich: The Rise &amp; Fall</td>\n",
       "    </tr>\n",
       "    <tr>\n",
       "      <td>26974</td>\n",
       "      <td>129705</td>\n",
       "      <td>My Own Man</td>\n",
       "      <td>(no genres listed)</td>\n",
       "      <td>None</td>\n",
       "      <td>My Own Man</td>\n",
       "    </tr>\n",
       "    <tr>\n",
       "      <td>27027</td>\n",
       "      <td>129887</td>\n",
       "      <td>Moving Alan</td>\n",
       "      <td>(no genres listed)</td>\n",
       "      <td>None</td>\n",
       "      <td>Moving Alan</td>\n",
       "    </tr>\n",
       "    <tr>\n",
       "      <td>27114</td>\n",
       "      <td>130454</td>\n",
       "      <td>Michael Laudrup - en Fodboldspiller</td>\n",
       "      <td>(no genres listed)</td>\n",
       "      <td>None</td>\n",
       "      <td>Michael Laudrup - en Fodboldspiller</td>\n",
       "    </tr>\n",
       "  </tbody>\n",
       "</table>\n",
       "</div>"
      ],
      "text/plain": [
       "       movieId                                  title                genres  \\\n",
       "10593    40697                              Babylon 5                Sci-Fi   \n",
       "23617   112406  Brazil: In the Shadow of the Stadiums           Documentary   \n",
       "23824   113190                     Slaying the Badger           Documentary   \n",
       "24286   115133             Tatort: Im Schmerz geboren                 Crime   \n",
       "24412   115685    National Theatre Live: Frankenstein         Drama|Fantasy   \n",
       "26115   125571   The Court-Martial of Jackie Robinson    (no genres listed)   \n",
       "26127   125632                          In Our Garden    (no genres listed)   \n",
       "26180   125958     Stephen Fry In America - New World    (no genres listed)   \n",
       "26335   126438         Two: The Story of Roman & Nyro     Documentary|Drama   \n",
       "26395   126929                          Li'l Quinquin    (no genres listed)   \n",
       "26432   127005        A Year Along the Abandoned Road    (no genres listed)   \n",
       "26749   128612                             Body/Cialo  Comedy|Drama|Mystery   \n",
       "26784   128734                          Polskie gówno        Comedy|Musical   \n",
       "26963   129651       The Third Reich: The Rise & Fall    (no genres listed)   \n",
       "26974   129705                             My Own Man    (no genres listed)   \n",
       "27027   129887                            Moving Alan    (no genres listed)   \n",
       "27114   130454    Michael Laudrup - en Fodboldspiller    (no genres listed)   \n",
       "\n",
       "       year                                  Title  \n",
       "10593  None                              Babylon 5  \n",
       "23617  None  Brazil: In the Shadow of the Stadiums  \n",
       "23824  None                     Slaying the Badger  \n",
       "24286  None             Tatort: Im Schmerz geboren  \n",
       "24412  None    National Theatre Live: Frankenstein  \n",
       "26115  None   The Court-Martial of Jackie Robinson  \n",
       "26127  None                          In Our Garden  \n",
       "26180  None     Stephen Fry In America - New World  \n",
       "26335  None         Two: The Story of Roman & Nyro  \n",
       "26395  None                          Li'l Quinquin  \n",
       "26432  None        A Year Along the Abandoned Road  \n",
       "26749  None                             Body/Cialo  \n",
       "26784  None                          Polskie gówno  \n",
       "26963  None       The Third Reich: The Rise & Fall  \n",
       "26974  None                             My Own Man  \n",
       "27027  None                            Moving Alan  \n",
       "27114  None    Michael Laudrup - en Fodboldspiller  "
      ]
     },
     "execution_count": 11,
     "metadata": {},
     "output_type": "execute_result"
    }
   ],
   "source": [
    "movies.loc[movies.index[year_is_na]]"
   ]
  },
  {
   "cell_type": "code",
   "execution_count": 12,
   "metadata": {},
   "outputs": [
    {
     "name": "stderr",
     "output_type": "stream",
     "text": [
      "/home/marioagustin/.local/lib/python3.6/site-packages/pandas-0.25.1-py3.6-linux-x86_64.egg/pandas/core/indexing.py:205: SettingWithCopyWarning: \n",
      "A value is trying to be set on a copy of a slice from a DataFrame\n",
      "\n",
      "See the caveats in the documentation: http://pandas.pydata.org/pandas-docs/stable/user_guide/indexing.html#returning-a-view-versus-a-copy\n",
      "  self._setitem_with_indexer(indexer, value)\n"
     ]
    }
   ],
   "source": [
    "movies[\"year\"].loc[movies.index[year_is_na]] = \"1900\""
   ]
  },
  {
   "cell_type": "code",
   "execution_count": 13,
   "metadata": {},
   "outputs": [],
   "source": [
    "movies[\"year\"] = movies[\"year\"].astype(\"int32\")"
   ]
  },
  {
   "cell_type": "code",
   "execution_count": 14,
   "metadata": {},
   "outputs": [
    {
     "data": {
      "text/plain": [
       "array([[<matplotlib.axes._subplots.AxesSubplot object at 0x7fe9b64f9ac8>]],\n",
       "      dtype=object)"
      ]
     },
     "execution_count": 14,
     "metadata": {},
     "output_type": "execute_result"
    },
    {
     "data": {
      "image/png": "[encoded data removed]",
      "text/plain": [
       "<Figure size 432x288 with 1 Axes>"
      ]
     },
     "metadata": {},
     "output_type": "display_data"
    }
   ],
   "source": [
    "movies.hist(bins=40,column=\"year\")"
   ]
  },
  {
   "cell_type": "code",
   "execution_count": 15,
   "metadata": {},
   "outputs": [
    {
     "data": {
      "text/plain": [
       "array(['(no genres listed)', 'Action', 'Adventure', 'Animation',\n",
       "       'Children', 'Comedy', 'Crime', 'Documentary', 'Drama', 'Fantasy',\n",
       "       'Film-Noir', 'Horror', 'IMAX', 'Musical', 'Mystery', 'Romance',\n",
       "       'Sci-Fi', 'Thriller', 'War', 'Western'], dtype='<U18')"
      ]
     },
     "execution_count": 15,
     "metadata": {},
     "output_type": "execute_result"
    }
   ],
   "source": [
    "a = movies[\"genres\"].str.cat(sep='|').split(\"|\")\n",
    "np.unique(a)"
   ]
  },
  {
   "cell_type": "code",
   "execution_count": 16,
   "metadata": {},
   "outputs": [
    {
     "name": "stdout",
     "output_type": "stream",
     "text": [
      "246\n"
     ]
    }
   ],
   "source": [
    "index = movies[\"genres\"] == \"(no genres listed)\"\n",
    "print(index.sum())"
   ]
  },
  {
   "cell_type": "code",
   "execution_count": 20,
   "metadata": {},
   "outputs": [
    {
     "data": {
      "text/plain": [
       "0    [Adventure, Animation, Children, Comedy, Fantasy]\n",
       "1                       [Adventure, Children, Fantasy]\n",
       "2                                    [Comedy, Romance]\n",
       "3                             [Comedy, Drama, Romance]\n",
       "4                                             [Comedy]\n",
       "Name: genres, dtype: object"
      ]
     },
     "execution_count": 20,
     "metadata": {},
     "output_type": "execute_result"
    }
   ],
   "source": [
    "generos = movies[\"genres\"].str.split(\"|\")\n",
    "generos.head()"
   ]
  },
  {
   "cell_type": "code",
   "execution_count": 21,
   "metadata": {},
   "outputs": [],
   "source": [
    "def swap_the(string):\n",
    "    i = string.find(\", The\")\n",
    "    s = string.rstrip()\n",
    "    if i != -1:\n",
    "        s = string[:i]\n",
    "        s = \"The \" + s\n",
    "    return(s)"
   ]
  },
  {
   "cell_type": "code",
   "execution_count": 22,
   "metadata": {},
   "outputs": [],
   "source": [
    "movies[\"Title\"] = movies[\"Title\"].apply(swap_the)"
   ]
  },
  {
   "cell_type": "code",
   "execution_count": 23,
   "metadata": {},
   "outputs": [
    {
     "name": "stdout",
     "output_type": "stream",
     "text": [
      "orders -- dimensions: (20000263, 3);   size: 480.01 MB\n"
     ]
    },
    {
     "data": {
      "text/html": [
       "<div>\n",
       "<style scoped>\n",
       "    .dataframe tbody tr th:only-of-type {\n",
       "        vertical-align: middle;\n",
       "    }\n",
       "\n",
       "    .dataframe tbody tr th {\n",
       "        vertical-align: top;\n",
       "    }\n",
       "\n",
       "    .dataframe thead th {\n",
       "        text-align: right;\n",
       "    }\n",
       "</style>\n",
       "<table border=\"1\" class=\"dataframe\">\n",
       "  <thead>\n",
       "    <tr style=\"text-align: right;\">\n",
       "      <th></th>\n",
       "      <th>userId</th>\n",
       "      <th>movieId</th>\n",
       "      <th>rating</th>\n",
       "    </tr>\n",
       "  </thead>\n",
       "  <tbody>\n",
       "    <tr>\n",
       "      <td>0</td>\n",
       "      <td>1</td>\n",
       "      <td>2</td>\n",
       "      <td>3.5</td>\n",
       "    </tr>\n",
       "    <tr>\n",
       "      <td>1</td>\n",
       "      <td>1</td>\n",
       "      <td>29</td>\n",
       "      <td>3.5</td>\n",
       "    </tr>\n",
       "    <tr>\n",
       "      <td>2</td>\n",
       "      <td>1</td>\n",
       "      <td>32</td>\n",
       "      <td>3.5</td>\n",
       "    </tr>\n",
       "    <tr>\n",
       "      <td>3</td>\n",
       "      <td>1</td>\n",
       "      <td>47</td>\n",
       "      <td>3.5</td>\n",
       "    </tr>\n",
       "    <tr>\n",
       "      <td>4</td>\n",
       "      <td>1</td>\n",
       "      <td>50</td>\n",
       "      <td>3.5</td>\n",
       "    </tr>\n",
       "  </tbody>\n",
       "</table>\n",
       "</div>"
      ],
      "text/plain": [
       "   userId  movieId  rating\n",
       "0       1        2     3.5\n",
       "1       1       29     3.5\n",
       "2       1       32     3.5\n",
       "3       1       47     3.5\n",
       "4       1       50     3.5"
      ]
     },
     "metadata": {},
     "output_type": "display_data"
    },
    {
     "data": {
      "text/html": [
       "<div>\n",
       "<style scoped>\n",
       "    .dataframe tbody tr th:only-of-type {\n",
       "        vertical-align: middle;\n",
       "    }\n",
       "\n",
       "    .dataframe tbody tr th {\n",
       "        vertical-align: top;\n",
       "    }\n",
       "\n",
       "    .dataframe thead th {\n",
       "        text-align: right;\n",
       "    }\n",
       "</style>\n",
       "<table border=\"1\" class=\"dataframe\">\n",
       "  <thead>\n",
       "    <tr style=\"text-align: right;\">\n",
       "      <th></th>\n",
       "      <th>userId</th>\n",
       "      <th>movieId</th>\n",
       "      <th>rating</th>\n",
       "    </tr>\n",
       "  </thead>\n",
       "  <tbody>\n",
       "    <tr>\n",
       "      <td>20000258</td>\n",
       "      <td>138493</td>\n",
       "      <td>68954</td>\n",
       "      <td>4.5</td>\n",
       "    </tr>\n",
       "    <tr>\n",
       "      <td>20000259</td>\n",
       "      <td>138493</td>\n",
       "      <td>69526</td>\n",
       "      <td>4.5</td>\n",
       "    </tr>\n",
       "    <tr>\n",
       "      <td>20000260</td>\n",
       "      <td>138493</td>\n",
       "      <td>69644</td>\n",
       "      <td>3.0</td>\n",
       "    </tr>\n",
       "    <tr>\n",
       "      <td>20000261</td>\n",
       "      <td>138493</td>\n",
       "      <td>70286</td>\n",
       "      <td>5.0</td>\n",
       "    </tr>\n",
       "    <tr>\n",
       "      <td>20000262</td>\n",
       "      <td>138493</td>\n",
       "      <td>71619</td>\n",
       "      <td>2.5</td>\n",
       "    </tr>\n",
       "  </tbody>\n",
       "</table>\n",
       "</div>"
      ],
      "text/plain": [
       "          userId  movieId  rating\n",
       "20000258  138493    68954     4.5\n",
       "20000259  138493    69526     4.5\n",
       "20000260  138493    69644     3.0\n",
       "20000261  138493    70286     5.0\n",
       "20000262  138493    71619     2.5"
      ]
     },
     "metadata": {},
     "output_type": "display_data"
    }
   ],
   "source": [
    "ratings = pd.read_csv('data/ml-20m/ratings.csv',sep=\",\",usecols=[\"userId\",\"movieId\",\"rating\"])\n",
    "\n",
    "print('orders -- dimensions: {0};   size: {1}'.format(ratings.shape, size(ratings)))\n",
    "display(ratings.head())\n",
    "display(ratings.tail())"
   ]
  },
  {
   "cell_type": "code",
   "execution_count": 24,
   "metadata": {},
   "outputs": [
    {
     "data": {
      "text/plain": [
       "0"
      ]
     },
     "execution_count": 24,
     "metadata": {},
     "output_type": "execute_result"
    }
   ],
   "source": [
    "ratings.index[~ratings[\"movieId\"].isin(movies[\"movieId\"])].size"
   ]
  },
  {
   "cell_type": "code",
   "execution_count": 25,
   "metadata": {},
   "outputs": [
    {
     "name": "stdout",
     "output_type": "stream",
     "text": [
      "orders -- dimensions: (9995410, 3);   size: 319.85 MB\n"
     ]
    }
   ],
   "source": [
    "ratings.drop(index=ratings.index[ratings[\"rating\"] < 4],inplace=True)\n",
    "print('orders -- dimensions: {0};   size: {1}'.format(ratings.shape, size(ratings)))"
   ]
  },
  {
   "cell_type": "code",
   "execution_count": 26,
   "metadata": {},
   "outputs": [],
   "source": [
    "rename_dict = movies.set_index('movieId').to_dict()['Title']"
   ]
  },
  {
   "cell_type": "code",
   "execution_count": 27,
   "metadata": {},
   "outputs": [],
   "source": [
    "#ratings[\"movieId\"] = ratings[\"movieId\"].replace(rename_dict)"
   ]
  },
  {
   "cell_type": "code",
   "execution_count": 28,
   "metadata": {},
   "outputs": [
    {
     "name": "stdout",
     "output_type": "stream",
     "text": [
      "(138287,)\n",
      "(20720,)\n"
     ]
    }
   ],
   "source": [
    "print(ratings[\"userId\"].unique().shape)\n",
    "print(ratings[\"movieId\"].unique().shape)"
   ]
  },
  {
   "cell_type": "code",
   "execution_count": 29,
   "metadata": {},
   "outputs": [
    {
     "data": {
      "text/html": [
       "<div>\n",
       "<style scoped>\n",
       "    .dataframe tbody tr th:only-of-type {\n",
       "        vertical-align: middle;\n",
       "    }\n",
       "\n",
       "    .dataframe tbody tr th {\n",
       "        vertical-align: top;\n",
       "    }\n",
       "\n",
       "    .dataframe thead th {\n",
       "        text-align: right;\n",
       "    }\n",
       "</style>\n",
       "<table border=\"1\" class=\"dataframe\">\n",
       "  <thead>\n",
       "    <tr style=\"text-align: right;\">\n",
       "      <th></th>\n",
       "      <th>userId</th>\n",
       "      <th>movieId</th>\n",
       "      <th>rating</th>\n",
       "    </tr>\n",
       "  </thead>\n",
       "  <tbody>\n",
       "    <tr>\n",
       "      <td>6108788</td>\n",
       "      <td>42086</td>\n",
       "      <td>3700</td>\n",
       "      <td>4.0</td>\n",
       "    </tr>\n",
       "    <tr>\n",
       "      <td>8668422</td>\n",
       "      <td>59873</td>\n",
       "      <td>922</td>\n",
       "      <td>4.0</td>\n",
       "    </tr>\n",
       "    <tr>\n",
       "      <td>8763676</td>\n",
       "      <td>60541</td>\n",
       "      <td>457</td>\n",
       "      <td>4.0</td>\n",
       "    </tr>\n",
       "    <tr>\n",
       "      <td>13410792</td>\n",
       "      <td>92682</td>\n",
       "      <td>2082</td>\n",
       "      <td>4.0</td>\n",
       "    </tr>\n",
       "    <tr>\n",
       "      <td>13511177</td>\n",
       "      <td>93356</td>\n",
       "      <td>1927</td>\n",
       "      <td>4.0</td>\n",
       "    </tr>\n",
       "    <tr>\n",
       "      <td>783767</td>\n",
       "      <td>5216</td>\n",
       "      <td>4178</td>\n",
       "      <td>4.5</td>\n",
       "    </tr>\n",
       "    <tr>\n",
       "      <td>4967068</td>\n",
       "      <td>34180</td>\n",
       "      <td>3752</td>\n",
       "      <td>4.0</td>\n",
       "    </tr>\n",
       "    <tr>\n",
       "      <td>4468094</td>\n",
       "      <td>30541</td>\n",
       "      <td>733</td>\n",
       "      <td>4.0</td>\n",
       "    </tr>\n",
       "    <tr>\n",
       "      <td>19480130</td>\n",
       "      <td>134810</td>\n",
       "      <td>1250</td>\n",
       "      <td>4.5</td>\n",
       "    </tr>\n",
       "    <tr>\n",
       "      <td>7944577</td>\n",
       "      <td>54729</td>\n",
       "      <td>5225</td>\n",
       "      <td>4.0</td>\n",
       "    </tr>\n",
       "  </tbody>\n",
       "</table>\n",
       "</div>"
      ],
      "text/plain": [
       "          userId  movieId  rating\n",
       "6108788    42086     3700     4.0\n",
       "8668422    59873      922     4.0\n",
       "8763676    60541      457     4.0\n",
       "13410792   92682     2082     4.0\n",
       "13511177   93356     1927     4.0\n",
       "783767      5216     4178     4.5\n",
       "4967068    34180     3752     4.0\n",
       "4468094    30541      733     4.0\n",
       "19480130  134810     1250     4.5\n",
       "7944577    54729     5225     4.0"
      ]
     },
     "execution_count": 29,
     "metadata": {},
     "output_type": "execute_result"
    }
   ],
   "source": [
    "ratings.sample(n=10,random_state=47)"
   ]
  },
  {
   "cell_type": "code",
   "execution_count": 30,
   "metadata": {},
   "outputs": [],
   "source": [
    "a = ratings.groupby('userId')"
   ]
  },
  {
   "cell_type": "code",
   "execution_count": 31,
   "metadata": {},
   "outputs": [],
   "source": [
    "i = a.size()"
   ]
  },
  {
   "cell_type": "code",
   "execution_count": 33,
   "metadata": {},
   "outputs": [
    {
     "name": "stdout",
     "output_type": "stream",
     "text": [
      "144483\n"
     ]
    },
    {
     "data": {
      "text/plain": [
       "291764    2004\n",
       "291766    2004\n",
       "291768    2004\n",
       "291770    2004\n",
       "291771    2004\n",
       "          ... \n",
       "292276    2004\n",
       "292278    2004\n",
       "292279    2004\n",
       "292280    2004\n",
       "292281    2004\n",
       "Name: userId, Length: 283, dtype: int64"
      ]
     },
     "execution_count": 33,
     "metadata": {},
     "output_type": "execute_result"
    }
   ],
   "source": [
    "m = 2000\n",
    "n = np.sum(i.iloc[0:m])\n",
    "print(n)\n",
    "ratings['userId'].iloc[n:n+i.iloc[m]]"
   ]
  },
  {
   "cell_type": "code",
   "execution_count": 34,
   "metadata": {},
   "outputs": [],
   "source": [
    "transactions = []\n",
    "j = 0\n",
    "for k in range(i.shape[0]):\n",
    "    transactions.append(np.array(ratings['movieId'].iloc[j:j+i.iloc[k]]))\n",
    "    j += i.iloc[k]"
   ]
  },
  {
   "cell_type": "code",
   "execution_count": 35,
   "metadata": {},
   "outputs": [
    {
     "name": "stdout",
     "output_type": "stream",
     "text": [
      "Generating itemsets.\n",
      " Counting itemsets of length 1.\n",
      "  Found 20720 candidate itemsets of length 1.\n",
      "  Found 2242 large itemsets of length 1.\n",
      " Counting itemsets of length 2.\n",
      "  Found 2512161 candidate itemsets of length 2.\n",
      "  Found 222977 large itemsets of length 2.\n",
      "Itemset generation terminated.\n",
      "\n",
      "Generating rules from itemsets.\n",
      " Generating rules of size 2.\n",
      "Rule generation terminated.\n",
      "\n"
     ]
    }
   ],
   "source": [
    "from efficient_apriori import apriori\n",
    "itemsets, rules = apriori(transactions,min_support=0.005,min_confidence=0.2,max_length=2,verbosity=1)"
   ]
  },
  {
   "cell_type": "code",
   "execution_count": 36,
   "metadata": {},
   "outputs": [],
   "source": [
    "a = rules[0]"
   ]
  },
  {
   "cell_type": "code",
   "execution_count": 37,
   "metadata": {},
   "outputs": [
    {
     "data": {
      "text/plain": [
       "(0.4745599559955996,\n",
       " 1.4449599892447713,\n",
       " 3451,\n",
       " 7272,\n",
       " 33294,\n",
       " (2,),\n",
       " 1.9710900653199817,\n",
       " 138287,\n",
       " (1,),\n",
       " 0.0249553464895471)"
      ]
     },
     "execution_count": 37,
     "metadata": {},
     "output_type": "execute_result"
    }
   ],
   "source": [
    "a.confidence,a.conviction,a.count_full,a.count_lhs,a.count_rhs,a.lhs,a.lift,a.num_transactions,a.rhs,a.support"
   ]
  },
  {
   "cell_type": "code",
   "execution_count": 38,
   "metadata": {},
   "outputs": [],
   "source": [
    "rules=sorted(rules, key=lambda rule: rule.confidence,reverse=True)"
   ]
  },
  {
   "cell_type": "code",
   "execution_count": 39,
   "metadata": {},
   "outputs": [
    {
     "name": "stdout",
     "output_type": "stream",
     "text": [
      "Rule: The Matrix Revolutions -> The Matrix\n",
      "Support: 0.02655347212680874\n",
      "Confidence: 0.9145703611457036\n",
      "Lift: 3.148997622980253\n",
      "Conviction: 8.305873513623167\n",
      "=====================================\n",
      "Rule: The Godfather: Part II -> The Godfather\n",
      "Support: 0.1464562829477825\n",
      "Confidence: 0.9071079858467327\n",
      "Lift: 3.6023560403993775\n",
      "Conviction: 8.054409805835297\n",
      "=====================================\n",
      "Rule: The Matrix Reloaded -> The Matrix\n",
      "Support: 0.041218625033444936\n",
      "Confidence: 0.9001895135818067\n",
      "Lift: 3.0994822912802156\n",
      "Conviction: 7.109150564220445\n",
      "=====================================\n",
      "Rule: The Animatrix -> The Matrix\n",
      "Support: 0.00928503763911286\n",
      "Confidence: 0.8873531444367657\n",
      "Lift: 3.0552848214706825\n",
      "Conviction: 6.299046458929382\n",
      "=====================================\n",
      "Rule: Following -> Memento\n",
      "Support: 0.005076399083066376\n",
      "Confidence: 0.8808030112923463\n",
      "Lift: 5.087444909472253\n",
      "Conviction: 6.936981497704612\n",
      "=====================================\n"
     ]
    }
   ],
   "source": [
    "for item in rules[:5]:\n",
    "    print(\"Rule: \" + str(rename_dict[item.lhs[0]]) + \" -> \" + str(rename_dict[item.rhs[0]]))\n",
    "\n",
    "    print(\"Support: \" + str(item.support))\n",
    "    print(\"Confidence: \" + str(item.confidence))\n",
    "    print(\"Lift: \" + str(item.lift))\n",
    "    print(\"Conviction: \" + str(item.conviction))\n",
    "    print(\"=====================================\")"
   ]
  },
  {
   "cell_type": "code",
   "execution_count": 40,
   "metadata": {},
   "outputs": [],
   "source": [
    "import pickle"
   ]
  },
  {
   "cell_type": "code",
   "execution_count": 41,
   "metadata": {},
   "outputs": [],
   "source": [
    "f = open(\"rules_sup_0.005_conf_0.2.pickle\",\"wb\")\n",
    "pickle.dump(rules,f)"
   ]
  },
  {
   "cell_type": "code",
   "execution_count": 42,
   "metadata": {},
   "outputs": [],
   "source": [
    "f.close()"
   ]
  },
  {
   "cell_type": "code",
   "execution_count": 43,
   "metadata": {},
   "outputs": [],
   "source": [
    "f = open(\"rules_sup_0.005_conf_0.2.pickle\",\"rb\")\n",
    "data = pickle.load(f)\n",
    "f.close()"
   ]
  },
  {
   "cell_type": "code",
   "execution_count": 44,
   "metadata": {},
   "outputs": [
    {
     "name": "stdout",
     "output_type": "stream",
     "text": [
      "Rule: The Matrix Revolutions -> The Matrix\n",
      "Support: 0.02655347212680874\n",
      "Confidence: 0.9145703611457036\n",
      "Lift: 3.148997622980253\n",
      "Conviction: 8.305873513623167\n",
      "=====================================\n",
      "Rule: The Godfather: Part II -> The Godfather\n",
      "Support: 0.1464562829477825\n",
      "Confidence: 0.9071079858467327\n",
      "Lift: 3.6023560403993775\n",
      "Conviction: 8.054409805835297\n",
      "=====================================\n",
      "Rule: The Matrix Reloaded -> The Matrix\n",
      "Support: 0.041218625033444936\n",
      "Confidence: 0.9001895135818067\n",
      "Lift: 3.0994822912802156\n",
      "Conviction: 7.109150564220445\n",
      "=====================================\n",
      "Rule: The Animatrix -> The Matrix\n",
      "Support: 0.00928503763911286\n",
      "Confidence: 0.8873531444367657\n",
      "Lift: 3.0552848214706825\n",
      "Conviction: 6.299046458929382\n",
      "=====================================\n",
      "Rule: Following -> Memento\n",
      "Support: 0.005076399083066376\n",
      "Confidence: 0.8808030112923463\n",
      "Lift: 5.087444909472253\n",
      "Conviction: 6.936981497704612\n",
      "=====================================\n"
     ]
    }
   ],
   "source": [
    "for item in data[:5]:\n",
    "    print(\"Rule: \" + str(rename_dict[item.lhs[0]]) + \" -> \" + str(rename_dict[item.rhs[0]]))\n",
    "\n",
    "    print(\"Support: \" + str(item.support))\n",
    "    print(\"Confidence: \" + str(item.confidence))\n",
    "    print(\"Lift: \" + str(item.lift))\n",
    "    print(\"Conviction: \" + str(item.conviction))\n",
    "    print(\"=====================================\")"
   ]
  },
  {
   "cell_type": "code",
   "execution_count": 45,
   "metadata": {},
   "outputs": [],
   "source": [
    "data=sorted(data, key=lambda rule: rule.lift,reverse=True)"
   ]
  },
  {
   "cell_type": "code",
   "execution_count": 46,
   "metadata": {},
   "outputs": [
    {
     "name": "stdout",
     "output_type": "stream",
     "text": [
      "Rule: Planet Terror -> Grindhouse\n",
      "Support: 0.005900771583735275\n",
      "Confidence: 0.6425196850393701\n",
      "Lift: 42.37106327374315\n",
      "Conviction: 2.754937379261994\n",
      "=====================================\n",
      "Rule: Grindhouse -> Planet Terror\n",
      "Support: 0.005900771583735275\n",
      "Confidence: 0.38912732474964234\n",
      "Lift: 42.37106327374315\n",
      "Conviction: 1.6219684389402402\n",
      "=====================================\n",
      "Rule: Dracula -> Frankenstein\n",
      "Support: 0.005813995531033286\n",
      "Confidence: 0.6437149719775821\n",
      "Lift: 40.88994594849053\n",
      "Conviction: 2.7625560930049162\n",
      "=====================================\n",
      "Rule: Frankenstein -> Dracula\n",
      "Support: 0.005813995531033286\n",
      "Confidence: 0.36931557188791914\n",
      "Lift: 40.88994594849053\n",
      "Conviction: 1.5712581656350992\n",
      "=====================================\n",
      "Rule: Manon of the Spring (Manon des sources) -> Jean de Florette\n",
      "Support: 0.012286042795056658\n",
      "Confidence: 0.7266894781864842\n",
      "Lift: 39.735748465786614\n",
      "Conviction: 3.591928831671416\n",
      "=====================================\n"
     ]
    }
   ],
   "source": [
    "for item in data[:5]:\n",
    "    print(\"Rule: \" + str(rename_dict[item.lhs[0]]) + \" -> \" + str(rename_dict[item.rhs[0]]))\n",
    "\n",
    "    print(\"Support: \" + str(item.support))\n",
    "    print(\"Confidence: \" + str(item.confidence))\n",
    "    print(\"Lift: \" + str(item.lift))\n",
    "    print(\"Conviction: \" + str(item.conviction))\n",
    "    print(\"=====================================\")"
   ]
  },
  {
   "cell_type": "code",
   "execution_count": 47,
   "metadata": {},
   "outputs": [],
   "source": [
    "data=sorted(data, key=lambda rule: rule.support,reverse=True)"
   ]
  },
  {
   "cell_type": "code",
   "execution_count": 48,
   "metadata": {},
   "outputs": [
    {
     "name": "stdout",
     "output_type": "stream",
     "text": [
      "Rule: Pulp Fiction -> The Shawshank Redemption\n",
      "Support: 0.23441827503669904\n",
      "Confidence: 0.6192004278646878\n",
      "Lift: 1.5343481923078484\n",
      "Conviction: 1.5662852000092338\n",
      "=====================================\n",
      "Rule: The Shawshank Redemption -> Pulp Fiction\n",
      "Support: 0.23441827503669904\n",
      "Confidence: 0.5808769509201355\n",
      "Lift: 1.5343481923078484\n",
      "Conviction: 1.482661895965836\n",
      "=====================================\n",
      "Rule: The Silence of the Lambs -> The Shawshank Redemption\n",
      "Support: 0.2280257724876525\n",
      "Confidence: 0.6292253661651435\n",
      "Lift: 1.5591894961363126\n",
      "Conviction: 1.6086341392725767\n",
      "=====================================\n",
      "Rule: The Shawshank Redemption -> The Silence of the Lambs\n",
      "Support: 0.2280257724876525\n",
      "Confidence: 0.5650366441485835\n",
      "Lift: 1.5591894961363126\n",
      "Conviction: 1.465890703659548\n",
      "=====================================\n",
      "Rule: The Silence of the Lambs -> Pulp Fiction\n",
      "Support: 0.2279389964349505\n",
      "Confidence: 0.6289859121203656\n",
      "Lift: 1.661424843454797\n",
      "Conviction: 1.6749169228341576\n",
      "=====================================\n"
     ]
    }
   ],
   "source": [
    "for item in data[:5]:\n",
    "    print(\"Rule: \" + str(rename_dict[item.lhs[0]]) + \" -> \" + str(rename_dict[item.rhs[0]]))\n",
    "\n",
    "    print(\"Support: \" + str(item.support))\n",
    "    print(\"Confidence: \" + str(item.confidence))\n",
    "    print(\"Lift: \" + str(item.lift))\n",
    "    print(\"Conviction: \" + str(item.conviction))\n",
    "    print(\"=====================================\")"
   ]
  },
  {
   "cell_type": "code",
   "execution_count": 49,
   "metadata": {},
   "outputs": [],
   "source": [
    "rules=sorted(rules, key=lambda rule: rule.conviction,reverse=True)"
   ]
  },
  {
   "cell_type": "code",
   "execution_count": 50,
   "metadata": {},
   "outputs": [
    {
     "name": "stdout",
     "output_type": "stream",
     "text": [
      "Rule: Pulp Fiction -> The Shawshank Redemption\n",
      "Support: 0.23441827503669904\n",
      "Confidence: 0.6192004278646878\n",
      "Lift: 1.5343481923078484\n",
      "Conviction: 1.5662852000092338\n",
      "=====================================\n",
      "Rule: The Shawshank Redemption -> Pulp Fiction\n",
      "Support: 0.23441827503669904\n",
      "Confidence: 0.5808769509201355\n",
      "Lift: 1.5343481923078484\n",
      "Conviction: 1.482661895965836\n",
      "=====================================\n",
      "Rule: The Silence of the Lambs -> The Shawshank Redemption\n",
      "Support: 0.2280257724876525\n",
      "Confidence: 0.6292253661651435\n",
      "Lift: 1.5591894961363126\n",
      "Conviction: 1.6086341392725767\n",
      "=====================================\n",
      "Rule: The Shawshank Redemption -> The Silence of the Lambs\n",
      "Support: 0.2280257724876525\n",
      "Confidence: 0.5650366441485835\n",
      "Lift: 1.5591894961363126\n",
      "Conviction: 1.465890703659548\n",
      "=====================================\n",
      "Rule: The Silence of the Lambs -> Pulp Fiction\n",
      "Support: 0.2279389964349505\n",
      "Confidence: 0.6289859121203656\n",
      "Lift: 1.661424843454797\n",
      "Conviction: 1.6749169228341576\n",
      "=====================================\n"
     ]
    }
   ],
   "source": [
    "for item in data[:5]:\n",
    "    print(\"Rule: \" + str(rename_dict[item.lhs[0]]) + \" -> \" + str(rename_dict[item.rhs[0]]))\n",
    "\n",
    "    print(\"Support: \" + str(item.support))\n",
    "    print(\"Confidence: \" + str(item.confidence))\n",
    "    print(\"Lift: \" + str(item.lift))\n",
    "    print(\"Conviction: \" + str(item.conviction))\n",
    "    print(\"=====================================\")"
   ]
  },
  {
   "cell_type": "code",
   "execution_count": null,
   "metadata": {},
   "outputs": [],
   "source": []
  }
 ],
 "metadata": {
  "kernelspec": {
   "display_name": "Python 3",
   "language": "python",
   "name": "python3"
  },
  "language_info": {
   "codemirror_mode": {
    "name": "ipython",
    "version": 3
   },
   "file_extension": ".py",
   "mimetype": "text/x-python",
   "name": "python",
   "nbconvert_exporter": "python",
   "pygments_lexer": "ipython3",
   "version": "3.6.8"
  }
 },
 "nbformat": 4,
 "nbformat_minor": 2
}
