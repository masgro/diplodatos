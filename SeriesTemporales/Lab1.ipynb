{
 "cells": [
  {
   "cell_type": "code",
   "execution_count": 1,
   "metadata": {},
   "outputs": [],
   "source": [
    "# Packages\n",
    "import numpy as np\n",
    "from scipy import stats\n",
    "import pandas as pd\n",
    "import matplotlib.pyplot as plt\n",
    "import seaborn as sns\n",
    "import statsmodels.api as sm"
   ]
  },
  {
   "cell_type": "code",
   "execution_count": 2,
   "metadata": {},
   "outputs": [],
   "source": [
    "tel=pd.read_csv('./datasets/Telefonia_movil.csv', dtype={})"
   ]
  },
  {
   "cell_type": "code",
   "execution_count": 3,
   "metadata": {},
   "outputs": [
    {
     "data": {
      "text/html": [
       "<div>\n",
       "<style scoped>\n",
       "    .dataframe tbody tr th:only-of-type {\n",
       "        vertical-align: middle;\n",
       "    }\n",
       "\n",
       "    .dataframe tbody tr th {\n",
       "        vertical-align: top;\n",
       "    }\n",
       "\n",
       "    .dataframe thead th {\n",
       "        text-align: right;\n",
       "    }\n",
       "</style>\n",
       "<table border=\"1\" class=\"dataframe\">\n",
       "  <thead>\n",
       "    <tr style=\"text-align: right;\">\n",
       "      <th></th>\n",
       "      <th>Año</th>\n",
       "      <th>Trimestre</th>\n",
       "      <th>Minutos pospago salientes (miles)</th>\n",
       "      <th>Minutos prepago salientes (miles)</th>\n",
       "      <th>Total de minutos salientes (miles)</th>\n",
       "      <th>Periodo</th>\n",
       "    </tr>\n",
       "  </thead>\n",
       "  <tbody>\n",
       "    <tr>\n",
       "      <th>0</th>\n",
       "      <td>2013</td>\n",
       "      <td>1</td>\n",
       "      <td>8.785.943</td>\n",
       "      <td>6582117</td>\n",
       "      <td>15368060</td>\n",
       "      <td>Ene-Mar 2013</td>\n",
       "    </tr>\n",
       "    <tr>\n",
       "      <th>1</th>\n",
       "      <td>2013</td>\n",
       "      <td>2</td>\n",
       "      <td>9.512.689</td>\n",
       "      <td>7108640</td>\n",
       "      <td>16621329</td>\n",
       "      <td>Abr-Jun 2013</td>\n",
       "    </tr>\n",
       "    <tr>\n",
       "      <th>2</th>\n",
       "      <td>2013</td>\n",
       "      <td>3</td>\n",
       "      <td>10.315.484</td>\n",
       "      <td>7335154</td>\n",
       "      <td>17650638</td>\n",
       "      <td>Jul-Sept 2013</td>\n",
       "    </tr>\n",
       "    <tr>\n",
       "      <th>3</th>\n",
       "      <td>2013</td>\n",
       "      <td>4</td>\n",
       "      <td>9.809.515</td>\n",
       "      <td>6250549</td>\n",
       "      <td>16060064</td>\n",
       "      <td>Oct-Dic 2013</td>\n",
       "    </tr>\n",
       "    <tr>\n",
       "      <th>4</th>\n",
       "      <td>2014</td>\n",
       "      <td>1</td>\n",
       "      <td>10.128.751</td>\n",
       "      <td>5799223</td>\n",
       "      <td>15927974</td>\n",
       "      <td>Ene-Mar 2013</td>\n",
       "    </tr>\n",
       "  </tbody>\n",
       "</table>\n",
       "</div>"
      ],
      "text/plain": [
       "    Año  Trimestre Minutos pospago salientes (miles)  \\\n",
       "0  2013          1                         8.785.943   \n",
       "1  2013          2                         9.512.689   \n",
       "2  2013          3                        10.315.484   \n",
       "3  2013          4                         9.809.515   \n",
       "4  2014          1                        10.128.751   \n",
       "\n",
       "   Minutos prepago salientes (miles)  Total de minutos salientes (miles)  \\\n",
       "0                            6582117                            15368060   \n",
       "1                            7108640                            16621329   \n",
       "2                            7335154                            17650638   \n",
       "3                            6250549                            16060064   \n",
       "4                            5799223                            15927974   \n",
       "\n",
       "         Periodo  \n",
       "0   Ene-Mar 2013  \n",
       "1   Abr-Jun 2013  \n",
       "2  Jul-Sept 2013  \n",
       "3   Oct-Dic 2013  \n",
       "4   Ene-Mar 2013  "
      ]
     },
     "execution_count": 3,
     "metadata": {},
     "output_type": "execute_result"
    }
   ],
   "source": [
    "tel.head(5)"
   ]
  },
  {
   "cell_type": "code",
   "execution_count": 4,
   "metadata": {},
   "outputs": [],
   "source": [
    "tel['Minutos pospago salientes (miles)']=tel['Minutos pospago salientes (miles)'].apply(lambda x: x.replace('.',''))\n",
    "tel['Minutos pospago salientes (miles)']=tel['Minutos pospago salientes (miles)'].astype('int')"
   ]
  },
  {
   "cell_type": "code",
   "execution_count": 5,
   "metadata": {},
   "outputs": [
    {
     "data": {
      "text/html": [
       "<div>\n",
       "<style scoped>\n",
       "    .dataframe tbody tr th:only-of-type {\n",
       "        vertical-align: middle;\n",
       "    }\n",
       "\n",
       "    .dataframe tbody tr th {\n",
       "        vertical-align: top;\n",
       "    }\n",
       "\n",
       "    .dataframe thead th {\n",
       "        text-align: right;\n",
       "    }\n",
       "</style>\n",
       "<table border=\"1\" class=\"dataframe\">\n",
       "  <thead>\n",
       "    <tr style=\"text-align: right;\">\n",
       "      <th></th>\n",
       "      <th>Año</th>\n",
       "      <th>Trimestre</th>\n",
       "      <th>Minutos pospago salientes (miles)</th>\n",
       "      <th>Minutos prepago salientes (miles)</th>\n",
       "      <th>Total de minutos salientes (miles)</th>\n",
       "      <th>Periodo</th>\n",
       "    </tr>\n",
       "  </thead>\n",
       "  <tbody>\n",
       "    <tr>\n",
       "      <th>0</th>\n",
       "      <td>2013</td>\n",
       "      <td>1</td>\n",
       "      <td>8785943</td>\n",
       "      <td>6582117</td>\n",
       "      <td>15368060</td>\n",
       "      <td>Ene-Mar 2013</td>\n",
       "    </tr>\n",
       "    <tr>\n",
       "      <th>1</th>\n",
       "      <td>2013</td>\n",
       "      <td>2</td>\n",
       "      <td>9512689</td>\n",
       "      <td>7108640</td>\n",
       "      <td>16621329</td>\n",
       "      <td>Abr-Jun 2013</td>\n",
       "    </tr>\n",
       "    <tr>\n",
       "      <th>2</th>\n",
       "      <td>2013</td>\n",
       "      <td>3</td>\n",
       "      <td>10315484</td>\n",
       "      <td>7335154</td>\n",
       "      <td>17650638</td>\n",
       "      <td>Jul-Sept 2013</td>\n",
       "    </tr>\n",
       "    <tr>\n",
       "      <th>3</th>\n",
       "      <td>2013</td>\n",
       "      <td>4</td>\n",
       "      <td>9809515</td>\n",
       "      <td>6250549</td>\n",
       "      <td>16060064</td>\n",
       "      <td>Oct-Dic 2013</td>\n",
       "    </tr>\n",
       "    <tr>\n",
       "      <th>4</th>\n",
       "      <td>2014</td>\n",
       "      <td>1</td>\n",
       "      <td>10128751</td>\n",
       "      <td>5799223</td>\n",
       "      <td>15927974</td>\n",
       "      <td>Ene-Mar 2013</td>\n",
       "    </tr>\n",
       "  </tbody>\n",
       "</table>\n",
       "</div>"
      ],
      "text/plain": [
       "    Año  Trimestre  Minutos pospago salientes (miles)  \\\n",
       "0  2013          1                            8785943   \n",
       "1  2013          2                            9512689   \n",
       "2  2013          3                           10315484   \n",
       "3  2013          4                            9809515   \n",
       "4  2014          1                           10128751   \n",
       "\n",
       "   Minutos prepago salientes (miles)  Total de minutos salientes (miles)  \\\n",
       "0                            6582117                            15368060   \n",
       "1                            7108640                            16621329   \n",
       "2                            7335154                            17650638   \n",
       "3                            6250549                            16060064   \n",
       "4                            5799223                            15927974   \n",
       "\n",
       "         Periodo  \n",
       "0   Ene-Mar 2013  \n",
       "1   Abr-Jun 2013  \n",
       "2  Jul-Sept 2013  \n",
       "3   Oct-Dic 2013  \n",
       "4   Ene-Mar 2013  "
      ]
     },
     "execution_count": 5,
     "metadata": {},
     "output_type": "execute_result"
    }
   ],
   "source": [
    "tel.head(5)"
   ]
  },
  {
   "cell_type": "code",
   "execution_count": 6,
   "metadata": {},
   "outputs": [],
   "source": [
    "tel['Prd']=tel['Año'].astype(str) + 'Q' +tel['Trimestre'].astype(str) "
   ]
  },
  {
   "cell_type": "code",
   "execution_count": 7,
   "metadata": {},
   "outputs": [
    {
     "data": {
      "text/plain": [
       "0     2013Q1\n",
       "1     2013Q2\n",
       "2     2013Q3\n",
       "3     2013Q4\n",
       "4     2014Q1\n",
       "5     2014Q2\n",
       "6     2014Q3\n",
       "7     2014Q4\n",
       "8     2015Q1\n",
       "9     2015Q2\n",
       "10    2015Q3\n",
       "11    2015Q4\n",
       "12    2016Q1\n",
       "13    2016Q2\n",
       "14    2016Q3\n",
       "15    2016Q4\n",
       "16    2017Q1\n",
       "17    2017Q2\n",
       "18    2017Q3\n",
       "19    2017Q4\n",
       "20    2018Q1\n",
       "21    2018Q2\n",
       "22    2018Q3\n",
       "23    2018Q4\n",
       "24    2019Q1\n",
       "Name: Prd, dtype: object"
      ]
     },
     "execution_count": 7,
     "metadata": {},
     "output_type": "execute_result"
    }
   ],
   "source": [
    "tel['Prd']"
   ]
  },
  {
   "cell_type": "code",
   "execution_count": 8,
   "metadata": {},
   "outputs": [],
   "source": [
    "tel.index=pd.PeriodIndex(tel['Prd'].values, freq='Q')"
   ]
  },
  {
   "cell_type": "code",
   "execution_count": 9,
   "metadata": {},
   "outputs": [],
   "source": [
    "tel.drop(['Año','Trimestre','Prd','Total de minutos salientes (miles)','Periodo'], axis=1, inplace=True)\n",
    "tel.columns=['MinPosPago','MinPrePago']"
   ]
  },
  {
   "cell_type": "code",
   "execution_count": 10,
   "metadata": {},
   "outputs": [
    {
     "data": {
      "text/html": [
       "<div>\n",
       "<style scoped>\n",
       "    .dataframe tbody tr th:only-of-type {\n",
       "        vertical-align: middle;\n",
       "    }\n",
       "\n",
       "    .dataframe tbody tr th {\n",
       "        vertical-align: top;\n",
       "    }\n",
       "\n",
       "    .dataframe thead th {\n",
       "        text-align: right;\n",
       "    }\n",
       "</style>\n",
       "<table border=\"1\" class=\"dataframe\">\n",
       "  <thead>\n",
       "    <tr style=\"text-align: right;\">\n",
       "      <th></th>\n",
       "      <th>MinPosPago</th>\n",
       "      <th>MinPrePago</th>\n",
       "    </tr>\n",
       "  </thead>\n",
       "  <tbody>\n",
       "    <tr>\n",
       "      <th>2013Q1</th>\n",
       "      <td>8785943</td>\n",
       "      <td>6582117</td>\n",
       "    </tr>\n",
       "    <tr>\n",
       "      <th>2013Q2</th>\n",
       "      <td>9512689</td>\n",
       "      <td>7108640</td>\n",
       "    </tr>\n",
       "    <tr>\n",
       "      <th>2013Q3</th>\n",
       "      <td>10315484</td>\n",
       "      <td>7335154</td>\n",
       "    </tr>\n",
       "    <tr>\n",
       "      <th>2013Q4</th>\n",
       "      <td>9809515</td>\n",
       "      <td>6250549</td>\n",
       "    </tr>\n",
       "    <tr>\n",
       "      <th>2014Q1</th>\n",
       "      <td>10128751</td>\n",
       "      <td>5799223</td>\n",
       "    </tr>\n",
       "  </tbody>\n",
       "</table>\n",
       "</div>"
      ],
      "text/plain": [
       "        MinPosPago  MinPrePago\n",
       "2013Q1     8785943     6582117\n",
       "2013Q2     9512689     7108640\n",
       "2013Q3    10315484     7335154\n",
       "2013Q4     9809515     6250549\n",
       "2014Q1    10128751     5799223"
      ]
     },
     "execution_count": 10,
     "metadata": {},
     "output_type": "execute_result"
    }
   ],
   "source": [
    "tel.head(5)"
   ]
  },
  {
   "cell_type": "code",
   "execution_count": 11,
   "metadata": {},
   "outputs": [
    {
     "name": "stdout",
     "output_type": "stream",
     "text": [
      "(25, 2)\n"
     ]
    },
    {
     "data": {
      "text/html": [
       "<div>\n",
       "<style scoped>\n",
       "    .dataframe tbody tr th:only-of-type {\n",
       "        vertical-align: middle;\n",
       "    }\n",
       "\n",
       "    .dataframe tbody tr th {\n",
       "        vertical-align: top;\n",
       "    }\n",
       "\n",
       "    .dataframe thead th {\n",
       "        text-align: right;\n",
       "    }\n",
       "</style>\n",
       "<table border=\"1\" class=\"dataframe\">\n",
       "  <thead>\n",
       "    <tr style=\"text-align: right;\">\n",
       "      <th></th>\n",
       "      <th>MinPosPago</th>\n",
       "      <th>MinPrePago</th>\n",
       "    </tr>\n",
       "  </thead>\n",
       "  <tbody>\n",
       "    <tr>\n",
       "      <th>2013Q1</th>\n",
       "      <td>8785943</td>\n",
       "      <td>6582117</td>\n",
       "    </tr>\n",
       "    <tr>\n",
       "      <th>2013Q2</th>\n",
       "      <td>9512689</td>\n",
       "      <td>7108640</td>\n",
       "    </tr>\n",
       "    <tr>\n",
       "      <th>2013Q3</th>\n",
       "      <td>10315484</td>\n",
       "      <td>7335154</td>\n",
       "    </tr>\n",
       "    <tr>\n",
       "      <th>2013Q4</th>\n",
       "      <td>9809515</td>\n",
       "      <td>6250549</td>\n",
       "    </tr>\n",
       "    <tr>\n",
       "      <th>2014Q1</th>\n",
       "      <td>10128751</td>\n",
       "      <td>5799223</td>\n",
       "    </tr>\n",
       "  </tbody>\n",
       "</table>\n",
       "</div>"
      ],
      "text/plain": [
       "        MinPosPago  MinPrePago\n",
       "2013Q1     8785943     6582117\n",
       "2013Q2     9512689     7108640\n",
       "2013Q3    10315484     7335154\n",
       "2013Q4     9809515     6250549\n",
       "2014Q1    10128751     5799223"
      ]
     },
     "metadata": {},
     "output_type": "display_data"
    },
    {
     "data": {
      "text/html": [
       "<div>\n",
       "<style scoped>\n",
       "    .dataframe tbody tr th:only-of-type {\n",
       "        vertical-align: middle;\n",
       "    }\n",
       "\n",
       "    .dataframe tbody tr th {\n",
       "        vertical-align: top;\n",
       "    }\n",
       "\n",
       "    .dataframe thead th {\n",
       "        text-align: right;\n",
       "    }\n",
       "</style>\n",
       "<table border=\"1\" class=\"dataframe\">\n",
       "  <thead>\n",
       "    <tr style=\"text-align: right;\">\n",
       "      <th></th>\n",
       "      <th>MinPosPago</th>\n",
       "      <th>MinPrePago</th>\n",
       "    </tr>\n",
       "  </thead>\n",
       "  <tbody>\n",
       "    <tr>\n",
       "      <th>count</th>\n",
       "      <td>2.500000e+01</td>\n",
       "      <td>2.500000e+01</td>\n",
       "    </tr>\n",
       "    <tr>\n",
       "      <th>mean</th>\n",
       "      <td>1.235930e+07</td>\n",
       "      <td>6.562909e+06</td>\n",
       "    </tr>\n",
       "    <tr>\n",
       "      <th>std</th>\n",
       "      <td>2.085582e+06</td>\n",
       "      <td>5.168604e+05</td>\n",
       "    </tr>\n",
       "    <tr>\n",
       "      <th>min</th>\n",
       "      <td>8.785943e+06</td>\n",
       "      <td>5.380710e+06</td>\n",
       "    </tr>\n",
       "    <tr>\n",
       "      <th>25%</th>\n",
       "      <td>1.082146e+07</td>\n",
       "      <td>6.250549e+06</td>\n",
       "    </tr>\n",
       "    <tr>\n",
       "      <th>50%</th>\n",
       "      <td>1.190507e+07</td>\n",
       "      <td>6.579819e+06</td>\n",
       "    </tr>\n",
       "    <tr>\n",
       "      <th>75%</th>\n",
       "      <td>1.424022e+07</td>\n",
       "      <td>7.077838e+06</td>\n",
       "    </tr>\n",
       "    <tr>\n",
       "      <th>max</th>\n",
       "      <td>1.596076e+07</td>\n",
       "      <td>7.335154e+06</td>\n",
       "    </tr>\n",
       "  </tbody>\n",
       "</table>\n",
       "</div>"
      ],
      "text/plain": [
       "         MinPosPago    MinPrePago\n",
       "count  2.500000e+01  2.500000e+01\n",
       "mean   1.235930e+07  6.562909e+06\n",
       "std    2.085582e+06  5.168604e+05\n",
       "min    8.785943e+06  5.380710e+06\n",
       "25%    1.082146e+07  6.250549e+06\n",
       "50%    1.190507e+07  6.579819e+06\n",
       "75%    1.424022e+07  7.077838e+06\n",
       "max    1.596076e+07  7.335154e+06"
      ]
     },
     "metadata": {},
     "output_type": "display_data"
    }
   ],
   "source": [
    "print(tel.shape)\n",
    "display(tel.head(5))\n",
    "display(tel.describe())"
   ]
  },
  {
   "cell_type": "code",
   "execution_count": 12,
   "metadata": {},
   "outputs": [],
   "source": [
    "sns.set_context('notebook') \n",
    "sns.set_style('ticks')\n",
    "red='#D62728'\n",
    "blue='#1F77B4'\n",
    "%matplotlib inline"
   ]
  },
  {
   "cell_type": "code",
   "execution_count": 13,
   "metadata": {},
   "outputs": [
    {
     "data": {
      "image/png": "[encoded data removed]",
      "text/plain": [
       "<Figure size 432x288 with 1 Axes>"
      ]
     },
     "metadata": {
      "needs_background": "light"
     },
     "output_type": "display_data"
    }
   ],
   "source": [
    "#sns.lineplot(data=tel, x='Periodo', y=['Minutos pospago salientes (miles)'])\n",
    "\n",
    "ax=tel.plot()\n",
    "\n",
    "ax.set_xlabel('Trimestres')\n",
    "ax.set_ylabel('Minutos')\n",
    "ax.set_title('Consumo Pospago/Prepago')\n",
    "ax.set_xticks([], minor=True) # I prefer to remove the minor ticks for a cleaner plot\n",
    "sns.despine()\n",
    "plt.show()"
   ]
  },
  {
   "cell_type": "code",
   "execution_count": 14,
   "metadata": {},
   "outputs": [],
   "source": [
    "#Random Walk\n",
    "#Predecimos Pospago"
   ]
  },
  {
   "cell_type": "code",
   "execution_count": 15,
   "metadata": {},
   "outputs": [
    {
     "data": {
      "text/html": [
       "<div>\n",
       "<style scoped>\n",
       "    .dataframe tbody tr th:only-of-type {\n",
       "        vertical-align: middle;\n",
       "    }\n",
       "\n",
       "    .dataframe tbody tr th {\n",
       "        vertical-align: top;\n",
       "    }\n",
       "\n",
       "    .dataframe thead th {\n",
       "        text-align: right;\n",
       "    }\n",
       "</style>\n",
       "<table border=\"1\" class=\"dataframe\">\n",
       "  <thead>\n",
       "    <tr style=\"text-align: right;\">\n",
       "      <th></th>\n",
       "      <th>MinPosPago</th>\n",
       "      <th>MinPrePago</th>\n",
       "    </tr>\n",
       "  </thead>\n",
       "  <tbody>\n",
       "    <tr>\n",
       "      <th>2018Q2</th>\n",
       "      <td>14240217</td>\n",
       "      <td>6027374</td>\n",
       "    </tr>\n",
       "    <tr>\n",
       "      <th>2018Q3</th>\n",
       "      <td>14574305</td>\n",
       "      <td>6108477</td>\n",
       "    </tr>\n",
       "    <tr>\n",
       "      <th>2018Q4</th>\n",
       "      <td>14915060</td>\n",
       "      <td>6613685</td>\n",
       "    </tr>\n",
       "    <tr>\n",
       "      <th>2019Q1</th>\n",
       "      <td>13937271</td>\n",
       "      <td>6427084</td>\n",
       "    </tr>\n",
       "  </tbody>\n",
       "</table>\n",
       "</div>"
      ],
      "text/plain": [
       "        MinPosPago  MinPrePago\n",
       "2018Q2    14240217     6027374\n",
       "2018Q3    14574305     6108477\n",
       "2018Q4    14915060     6613685\n",
       "2019Q1    13937271     6427084"
      ]
     },
     "execution_count": 15,
     "metadata": {},
     "output_type": "execute_result"
    }
   ],
   "source": [
    "tel.tail(4)"
   ]
  },
  {
   "cell_type": "code",
   "execution_count": 16,
   "metadata": {},
   "outputs": [
    {
     "data": {
      "text/plain": [
       "2019Q2    13937271\n",
       "2019Q3    13937271\n",
       "2019Q4    13937271\n",
       "2020Q1    13937271\n",
       "Freq: Q-DEC, dtype: int64"
      ]
     },
     "metadata": {},
     "output_type": "display_data"
    },
    {
     "data": {
      "text/plain": [
       "2019Q2    6427084\n",
       "2019Q3    6427084\n",
       "2019Q4    6427084\n",
       "2020Q1    6427084\n",
       "Freq: Q-DEC, dtype: int64"
      ]
     },
     "metadata": {},
     "output_type": "display_data"
    },
    {
     "data": {
      "text/html": [
       "<div>\n",
       "<style scoped>\n",
       "    .dataframe tbody tr th:only-of-type {\n",
       "        vertical-align: middle;\n",
       "    }\n",
       "\n",
       "    .dataframe tbody tr th {\n",
       "        vertical-align: top;\n",
       "    }\n",
       "\n",
       "    .dataframe thead th {\n",
       "        text-align: right;\n",
       "    }\n",
       "</style>\n",
       "<table border=\"1\" class=\"dataframe\">\n",
       "  <thead>\n",
       "    <tr style=\"text-align: right;\">\n",
       "      <th></th>\n",
       "      <th>MinPosPago</th>\n",
       "      <th>MinPrePago</th>\n",
       "    </tr>\n",
       "  </thead>\n",
       "  <tbody>\n",
       "    <tr>\n",
       "      <th>2019Q2</th>\n",
       "      <td>13937271</td>\n",
       "      <td>6427084</td>\n",
       "    </tr>\n",
       "    <tr>\n",
       "      <th>2019Q3</th>\n",
       "      <td>13937271</td>\n",
       "      <td>6427084</td>\n",
       "    </tr>\n",
       "    <tr>\n",
       "      <th>2019Q4</th>\n",
       "      <td>13937271</td>\n",
       "      <td>6427084</td>\n",
       "    </tr>\n",
       "    <tr>\n",
       "      <th>2020Q1</th>\n",
       "      <td>13937271</td>\n",
       "      <td>6427084</td>\n",
       "    </tr>\n",
       "  </tbody>\n",
       "</table>\n",
       "</div>"
      ],
      "text/plain": [
       "        MinPosPago  MinPrePago\n",
       "2019Q2    13937271     6427084\n",
       "2019Q3    13937271     6427084\n",
       "2019Q4    13937271     6427084\n",
       "2020Q1    13937271     6427084"
      ]
     },
     "execution_count": 16,
     "metadata": {},
     "output_type": "execute_result"
    }
   ],
   "source": [
    "h = 4\n",
    "test = pd.period_range(start=tel.index[-1]+1, periods=h, freq='Q')\n",
    "\n",
    "pred1=pd.Series(np.repeat(tel.MinPosPago.iloc[-1], h), index=test)\n",
    "pred2=pd.Series(np.repeat(tel.MinPrePago.iloc[-1], h), index=test)\n",
    "\n",
    "display(pred1.head(5))\n",
    "display(pred2.head(5))\n",
    "\n",
    "pred=pd.concat([pred1,pred2], axis=1)\n",
    "pred.columns=['MinPosPago','MinPrePago']\n",
    "pred.head()"
   ]
  },
  {
   "cell_type": "code",
   "execution_count": 17,
   "metadata": {},
   "outputs": [],
   "source": [
    "#Continuamos con PosPago - PRED1\n",
    "pos = tel.MinPosPago"
   ]
  },
  {
   "cell_type": "code",
   "execution_count": 18,
   "metadata": {},
   "outputs": [
    {
     "data": {
      "text/plain": [
       "1111026.926"
      ]
     },
     "execution_count": 18,
     "metadata": {},
     "output_type": "execute_result"
    }
   ],
   "source": [
    "resid = pos - pos.shift(1) # the shift lags the series by one period\n",
    "sigma = resid.std()\n",
    "round(sigma,3)"
   ]
  },
  {
   "cell_type": "code",
   "execution_count": 19,
   "metadata": {},
   "outputs": [
    {
     "data": {
      "text/html": [
       "<div>\n",
       "<style scoped>\n",
       "    .dataframe tbody tr th:only-of-type {\n",
       "        vertical-align: middle;\n",
       "    }\n",
       "\n",
       "    .dataframe tbody tr th {\n",
       "        vertical-align: top;\n",
       "    }\n",
       "\n",
       "    .dataframe thead th {\n",
       "        text-align: right;\n",
       "    }\n",
       "</style>\n",
       "<table border=\"1\" class=\"dataframe\">\n",
       "  <thead>\n",
       "    <tr style=\"text-align: right;\">\n",
       "      <th></th>\n",
       "      <th>0</th>\n",
       "      <th>1</th>\n",
       "    </tr>\n",
       "  </thead>\n",
       "  <tbody>\n",
       "    <tr>\n",
       "      <th>2019Q2</th>\n",
       "      <td>1.175970e+07</td>\n",
       "      <td>1.611484e+07</td>\n",
       "    </tr>\n",
       "    <tr>\n",
       "      <th>2019Q3</th>\n",
       "      <td>1.085772e+07</td>\n",
       "      <td>1.701682e+07</td>\n",
       "    </tr>\n",
       "    <tr>\n",
       "      <th>2019Q4</th>\n",
       "      <td>1.016560e+07</td>\n",
       "      <td>1.770894e+07</td>\n",
       "    </tr>\n",
       "    <tr>\n",
       "      <th>2020Q1</th>\n",
       "      <td>9.582125e+06</td>\n",
       "      <td>1.829242e+07</td>\n",
       "    </tr>\n",
       "  </tbody>\n",
       "</table>\n",
       "</div>"
      ],
      "text/plain": [
       "                   0             1\n",
       "2019Q2  1.175970e+07  1.611484e+07\n",
       "2019Q3  1.085772e+07  1.701682e+07\n",
       "2019Q4  1.016560e+07  1.770894e+07\n",
       "2020Q1  9.582125e+06  1.829242e+07"
      ]
     },
     "execution_count": 19,
     "metadata": {},
     "output_type": "execute_result"
    }
   ],
   "source": [
    "intv = pd.concat([pred1-stats.norm.ppf(0.975)*sigma*np.sqrt(np.arange(1,h+1)),\n",
    "                   pred1-stats.norm.ppf(0.025)*sigma*np.sqrt(np.arange(1,h+1))], axis=1)\n",
    "intv.round(3)"
   ]
  },
  {
   "cell_type": "code",
   "execution_count": 20,
   "metadata": {},
   "outputs": [
    {
     "data": {
      "image/png": "[encoded data removed]",
      "text/plain": [
       "<Figure size 576x360 with 1 Axes>"
      ]
     },
     "metadata": {},
     "output_type": "display_data"
    }
   ],
   "source": [
    "from plotting import fanchart\n",
    "\n",
    "point_pred = (intv[0]+intv[1])/2\n",
    "\n",
    "fig, ax = fanchart(pos,point_pred,intv,intv,intv)\n",
    "\n",
    "plt.show()"
   ]
  },
  {
   "cell_type": "code",
   "execution_count": null,
   "metadata": {},
   "outputs": [],
   "source": [
    "#Simple Exponential Smoothing"
   ]
  },
  {
   "cell_type": "code",
   "execution_count": 36,
   "metadata": {},
   "outputs": [],
   "source": [
    "model_ses = sm.tsa.SimpleExpSmoothing(pos).fit()"
   ]
  },
  {
   "cell_type": "code",
   "execution_count": 39,
   "metadata": {},
   "outputs": [],
   "source": [
    "fitted_ses = model_ses.fittedvalues"
   ]
  },
  {
   "cell_type": "code",
   "execution_count": 41,
   "metadata": {},
   "outputs": [
    {
     "name": "stdout",
     "output_type": "stream",
     "text": [
      " In-sample fit:\n",
      " MSE               1135757362099.049\n"
     ]
    }
   ],
   "source": [
    "mse_ses = sm.tools.eval_measures.mse(pos,fitted_ses)\n",
    "print(' In-sample fit:')\n",
    "print(' MSE               {0:.3f}'.format(mse_ses))"
   ]
  },
  {
   "cell_type": "code",
   "execution_count": 42,
   "metadata": {},
   "outputs": [
    {
     "name": "stdout",
     "output_type": "stream",
     "text": [
      " Log-likelihood    -382.452\n",
      " AIC               770.905\n",
      " BIC               774.562\n"
     ]
    }
   ],
   "source": [
    "N = len(pos)\n",
    "loglik_ses=-(N/2)*(1+np.log(2*np.pi))-(N/2)*np.log(mse_ses)\n",
    "aic_ses=-2*loglik_ses+2*3\n",
    "bic_ses=-2*loglik_ses+np.log(N)*3\n",
    "print(' Log-likelihood    %.3f' % (loglik_ses))\n",
    "print(' AIC               {0:.3f}'.format(aic_ses))\n",
    "print(' BIC               {0:.3f}'.format(bic_ses))"
   ]
  },
  {
   "cell_type": "code",
   "execution_count": 43,
   "metadata": {},
   "outputs": [
    {
     "data": {
      "image/png": "[encoded data removed]",
      "text/plain": [
       "<Figure size 432x288 with 1 Axes>"
      ]
     },
     "metadata": {
      "needs_background": "light"
     },
     "output_type": "display_data"
    }
   ],
   "source": [
    "ax = pos.plot(color=red, label='Minutos PosPago')\n",
    "fitted_ses.plot(color='black', label='Simple exponential smoothing fit', alpha=0.8)\n",
    "ax.set_xlabel('')\n",
    "ax.set_ylabel('Minutos')\n",
    "ax.set_title('Consumos de minutos PosPago')\n",
    "ax.set_xticks([], minor=True) \n",
    "plt.legend(loc='best')\n",
    "sns.despine()\n",
    "plt.show()"
   ]
  },
  {
   "cell_type": "code",
   "execution_count": 46,
   "metadata": {},
   "outputs": [],
   "source": [
    "resid = (pos - fitted_ses)/pos"
   ]
  },
  {
   "cell_type": "code",
   "execution_count": 47,
   "metadata": {},
   "outputs": [
    {
     "data": {
      "image/png": "[encoded data removed]",
      "text/plain": [
       "<Figure size 432x288 with 1 Axes>"
      ]
     },
     "metadata": {
      "needs_background": "light"
     },
     "output_type": "display_data"
    }
   ],
   "source": [
    "fig, ax = plt.subplots()\n",
    "resid.plot(color=blue)\n",
    "ax.set_xlabel('')\n",
    "ax.set_xticks([], minor=True) \n",
    "ax.set_title('Residual plot')\n",
    "sns.despine()\n",
    "plt.show()"
   ]
  },
  {
   "cell_type": "code",
   "execution_count": 50,
   "metadata": {},
   "outputs": [
    {
     "data": {
      "image/png": "[encoded data removed]",
      "text/plain": [
       "<Figure size 432x288 with 1 Axes>"
      ]
     },
     "metadata": {
      "needs_background": "light"
     },
     "output_type": "display_data"
    }
   ],
   "source": [
    "fig, ax = plt.subplots()\n",
    "sm.graphics.tsa.plot_acf(resid, lags=20, ax=ax)\n",
    "sns.despine()\n",
    "plt.show()"
   ]
  },
  {
   "cell_type": "code",
   "execution_count": 61,
   "metadata": {},
   "outputs": [
    {
     "name": "stderr",
     "output_type": "stream",
     "text": [
      "/home/marioagustin/MiniConda/envs/diplodatos/lib/python3.6/site-packages/statsmodels/tsa/base/tsa_model.py:336: FutureWarning: Creating a PeriodIndex by passing range endpoints is deprecated.  Use `pandas.period_range` instead.\n",
      "  freq=base_index.freq)\n",
      "/home/marioagustin/MiniConda/envs/diplodatos/lib/python3.6/site-packages/statsmodels/tsa/base/tsa_model.py:336: FutureWarning: Creating a PeriodIndex by passing range endpoints is deprecated.  Use `pandas.period_range` instead.\n",
      "  freq=base_index.freq)\n"
     ]
    },
    {
     "data": {
      "image/png": "[encoded data removed]",
      "text/plain": [
       "<Figure size 432x288 with 1 Axes>"
      ]
     },
     "metadata": {
      "needs_background": "light"
     },
     "output_type": "display_data"
    }
   ],
   "source": [
    "h=6\n",
    "w=h*2\n",
    "data = pos\n",
    "\n",
    "model = sm.tsa.SimpleExpSmoothing\n",
    "\n",
    "pred_index = pos.index[-1] + np.array(range(1,h+1))\n",
    "pred_rolling = pd.Series(0,index=pred_index)\n",
    "pred_expanding = pd.Series(0,index=pred_index)\n",
    "\n",
    "orig_exp = None\n",
    "orig_roll = None\n",
    "\n",
    "for i in range(0,h):\n",
    "    current_exp = pd.concat([data, pred_expanding.head(i)])\n",
    "    expanding = model(current_exp).fit()\n",
    "    pred_expanding.update(expanding.forecast(1))\n",
    "    current_roll = pd.concat([data, pred_rolling.head(i)])\n",
    "    rolling = model(current_roll.tail(w)).fit()\n",
    "    pred_rolling.update(rolling.forecast(1))\n",
    "    \n",
    "    if i==0:\n",
    "        orig_fit = expanding.fittedvalues\n",
    "        orig_roll = rolling.fittedvalues\n",
    "        \n",
    "ax = data[-w:].plot(color='red');\n",
    "pd.concat([orig_fit[-w:],pred_expanding]).plot(ax=ax,color='blue');\n",
    "pd.concat([orig_roll[-w:],pred_rolling]).plot(ax=ax,color='green');"
   ]
  },
  {
   "cell_type": "code",
   "execution_count": null,
   "metadata": {},
   "outputs": [],
   "source": []
  }
 ],
 "metadata": {
  "kernelspec": {
   "display_name": "Python 3",
   "language": "python",
   "name": "python3"
  },
  "language_info": {
   "codemirror_mode": {
    "name": "ipython",
    "version": 3
   },
   "file_extension": ".py",
   "mimetype": "text/x-python",
   "name": "python",
   "nbconvert_exporter": "python",
   "pygments_lexer": "ipython3",
   "version": "3.6.8"
  }
 },
 "nbformat": 4,
 "nbformat_minor": 2
}
