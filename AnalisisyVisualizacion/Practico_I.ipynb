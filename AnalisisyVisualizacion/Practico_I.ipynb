{
 "cells": [
  {
   "cell_type": "markdown",
   "metadata": {
    "colab_type": "text",
    "id": "view-in-github"
   },
   "source": [
    "<a href=\"https://colab.research.google.com/github/masgro/diplodatos/blob/master/Practico_I_AyV.ipynb\" target=\"_parent\"><img src=\"https://colab.research.google.com/assets/colab-badge.svg\" alt=\"Open In Colab\"/></a>"
   ]
  },
  {
   "cell_type": "markdown",
   "metadata": {
    "colab_type": "text",
    "id": "4ijwQ73MjGIf"
   },
   "source": [
    "<center>\n",
    "<h4>Universidad Nacional de Córdoba - Facultad de Matemática, Astronomía, Física y Computación</h4>\n",
    "<h3>Diplomatura en Ciencia de Datos, Aprendizaje Automático y sus Aplicaciones</h3>\n",
    "</center>"
   ]
  },
  {
   "cell_type": "markdown",
   "metadata": {
    "colab_type": "text",
    "id": "RcMdWYVmjGIj"
   },
   "source": [
    "<h1> Práctico I - Estadística </h1>\n",
    "<h3> Análisis y Visualización de Datos - 2019 </h3>\n",
    "\n",
    "Durante este práctico vamos a trabajar sobre el dataset [Human Freedom Index 2018](https://www.cato.org/human-freedom-index-new) de el instituto Cato. Este índice mide en detalle lo que entendemos como libertad, utilizando 79 indicadores de libertad personal y económica en distintos aspectos, hasta obtener un hermoso numerito del 1 al 10. Usaremos una [versión ya limpia del dataset](https://www.kaggle.com/gsutters/the-human-freedom-index/home) que pueden descargar desde Kaggle.\n",
    "\n",
    "Las variables más importantes sobre las que trabaja el dataset son:\n",
    "\n",
    "* Rule of Law\n",
    "* Security and Safety\n",
    "* Movement\n",
    "* Religion\n",
    "* Association, Assembly, and Civil Society\n",
    "* Expression and Information\n",
    "* Identity and Relationships\n",
    "* Size of Government\n",
    "* Legal System and Property Rights\n",
    "* Access to Sound Money\n",
    "* Freedom to Trade Internationally\n",
    "* Regulation of Credit, Labor, and Business\n",
    "\n",
    "Nosotros centrarermos nuestro análisis en variables relacionadas a *Identity and Relationships* en paises de Latinoamérica, y los compararemos con las estadísticas globales. La pregunta a responder es simple: **¿Qué niveles de libertad se viven en Latinoamérica, especificamente en cuanto libertades de indentidad?**. Sin embargo, para hacer un análisis de los datos tenemos que platear también estas sub preguntas:\n",
    "\n",
    "1. ¿Qué significa tener un puntaje de 4.5? Hay que poner los puntajes de la región en contexto con los datos del resto del mundo.\n",
    "2. ¿Cuál es la tendencia a lo largo de los años? ¿Estamos mejorando, empeorando?\n",
    "3. En este estudio, la libertad se mide con dos estimadores principales: *hf_score* que hace referencia a Human Freedom, y *ef_score* que hace referencia a Economic Freedom. Estos dos estimadores, ¿se relacionan de la misma manera con la libertad de identidad?\n",
    "\n",
    "Inicialmente, en toda exploración de datos tenemos muy poca información a priori sobre el significado de los datos y tenemos que empezar por comprenderlos. Les proponemos los siguientes ejercicios como guía para comenzar esta exploración."
   ]
  },
  {
   "cell_type": "code",
   "execution_count": 16,
   "metadata": {
    "colab": {},
    "colab_type": "code",
    "id": "cb4HmusHjGIm"
   },
   "outputs": [
    {
     "name": "stdout",
     "output_type": "stream",
     "text": [
      "Populating the interactive namespace from numpy and matplotlib\n"
     ]
    }
   ],
   "source": [
    "%pylab inline\n",
    "import matplotlib.pyplot as plt\n",
    "import numpy\n",
    "import pandas\n",
    "import seaborn as sns\n",
    "from termcolor import colored\n",
    "import geopandas as gpd"
   ]
  },
  {
   "cell_type": "code",
   "execution_count": 2,
   "metadata": {
    "colab": {
     "base_uri": "https://localhost:8080/",
     "height": 35
    },
    "colab_type": "code",
    "id": "0UvFzbBzjGIu",
    "outputId": "6a5f5e42-571b-40f4-e96c-a18c44afb08c"
   },
   "outputs": [
    {
     "data": {
      "text/plain": [
       "'0.9.0'"
      ]
     },
     "execution_count": 2,
     "metadata": {},
     "output_type": "execute_result"
    }
   ],
   "source": [
    "sns.__version__"
   ]
  },
  {
   "cell_type": "code",
   "execution_count": 14,
   "metadata": {
    "colab": {
     "base_uri": "https://localhost:8080/",
     "height": 35
    },
    "colab_type": "code",
    "id": "lYrKrImwjGI4",
    "outputId": "8601d323-b3d5-4b23-99ab-5dc6d701b3e7"
   },
   "outputs": [
    {
     "data": {
      "text/plain": [
       "(1458, 123)"
      ]
     },
     "execution_count": 14,
     "metadata": {},
     "output_type": "execute_result"
    }
   ],
   "source": [
    "filename = '../AnalisisyVisualizacion/DataBases/hfi_cc_2018.csv'\n",
    "dataset = pandas.read_csv(filename)\n",
    "dataset.shape"
   ]
  },
  {
   "cell_type": "code",
   "execution_count": 13,
   "metadata": {
    "colab": {
     "base_uri": "https://localhost:8080/",
     "height": 179
    },
    "colab_type": "code",
    "id": "eyWyzN_kjGJB",
    "outputId": "11b8d19f-3f79-4bc7-9b55-769686a76f6d"
   },
   "outputs": [
    {
     "data": {
      "text/plain": [
       "Index(['year', 'ISO_code', 'countries', 'region', 'pf_rol_procedural',\n",
       "       'pf_rol_civil', 'pf_rol_criminal', 'pf_rol', 'pf_ss_homicide',\n",
       "       'pf_ss_disappearances_disap',\n",
       "       ...\n",
       "       'ef_regulation_business_bribes', 'ef_regulation_business_licensing',\n",
       "       'ef_regulation_business_compliance', 'ef_regulation_business',\n",
       "       'ef_regulation', 'ef_score', 'ef_rank', 'hf_score', 'hf_rank',\n",
       "       'hf_quartile'],\n",
       "      dtype='object', length=123)"
      ]
     },
     "execution_count": 13,
     "metadata": {},
     "output_type": "execute_result"
    }
   ],
   "source": [
    "dataset.columns"
   ]
  },
  {
   "cell_type": "markdown",
   "metadata": {
    "colab_type": "text",
    "id": "N9n4xReBjGJG"
   },
   "source": [
    "Por suerte las columnas tienen un prefijo que nos ayuda a identificar a qué sección pertenecen. Nos quedamos sólo con las que comienzan con *pf_indentity*, junto con otras columnas más generales"
   ]
  },
  {
   "cell_type": "code",
   "execution_count": 5,
   "metadata": {
    "colab": {},
    "colab_type": "code",
    "id": "6Axcqdo3jGJI"
   },
   "outputs": [],
   "source": [
    "important_cols = ['year', 'ISO_code', 'countries', 'region']\n",
    "\n",
    "important_cols += [col for col in dataset.columns if 'pf_identity' in col]\n",
    "\n",
    "important_cols += [\n",
    "    'pf_score', # Personal Freedom (score)\n",
    "    'pf_rank',  # Personal Freedom (rank)\n",
    "    'ef_score', # Economic Freedom (score)\n",
    "    'ef_rank',  # Economic Freedom (rank)\n",
    "    'hf_score', # Human Freedom (score)\n",
    "    'hf_rank',  # Human Freedom (rank)\n",
    "]"
   ]
  },
  {
   "cell_type": "code",
   "execution_count": 6,
   "metadata": {
    "colab": {
     "base_uri": "https://localhost:8080/",
     "height": 411
    },
    "colab_type": "code",
    "id": "f671dr56jGJN",
    "outputId": "ded39dbd-3c17-4759-f538-fed368ffe4e2"
   },
   "outputs": [
    {
     "data": {
      "text/html": [
       "<div>\n",
       "<style scoped>\n",
       "    .dataframe tbody tr th:only-of-type {\n",
       "        vertical-align: middle;\n",
       "    }\n",
       "\n",
       "    .dataframe tbody tr th {\n",
       "        vertical-align: top;\n",
       "    }\n",
       "\n",
       "    .dataframe thead th {\n",
       "        text-align: right;\n",
       "    }\n",
       "</style>\n",
       "<table border=\"1\" class=\"dataframe\">\n",
       "  <thead>\n",
       "    <tr style=\"text-align: right;\">\n",
       "      <th></th>\n",
       "      <th>year</th>\n",
       "      <th>ISO_code</th>\n",
       "      <th>countries</th>\n",
       "      <th>region</th>\n",
       "      <th>pf_identity_legal</th>\n",
       "      <th>pf_identity_parental_marriage</th>\n",
       "      <th>pf_identity_parental_divorce</th>\n",
       "      <th>pf_identity_parental</th>\n",
       "      <th>pf_identity_sex_male</th>\n",
       "      <th>pf_identity_sex_female</th>\n",
       "      <th>pf_identity_sex</th>\n",
       "      <th>pf_identity_divorce</th>\n",
       "      <th>pf_identity</th>\n",
       "      <th>pf_score</th>\n",
       "      <th>pf_rank</th>\n",
       "      <th>ef_score</th>\n",
       "      <th>ef_rank</th>\n",
       "      <th>hf_score</th>\n",
       "      <th>hf_rank</th>\n",
       "    </tr>\n",
       "  </thead>\n",
       "  <tbody>\n",
       "    <tr>\n",
       "      <th>0</th>\n",
       "      <td>2016</td>\n",
       "      <td>ALB</td>\n",
       "      <td>Albania</td>\n",
       "      <td>Eastern Europe</td>\n",
       "      <td>0.0</td>\n",
       "      <td>10.0</td>\n",
       "      <td>10.0</td>\n",
       "      <td>10.0</td>\n",
       "      <td>10.0</td>\n",
       "      <td>10.0</td>\n",
       "      <td>10.0</td>\n",
       "      <td>5.0</td>\n",
       "      <td>6.250000</td>\n",
       "      <td>7.596281</td>\n",
       "      <td>57.0</td>\n",
       "      <td>7.54</td>\n",
       "      <td>34.0</td>\n",
       "      <td>7.568140</td>\n",
       "      <td>48.0</td>\n",
       "    </tr>\n",
       "    <tr>\n",
       "      <th>1</th>\n",
       "      <td>2016</td>\n",
       "      <td>DZA</td>\n",
       "      <td>Algeria</td>\n",
       "      <td>Middle East &amp; North Africa</td>\n",
       "      <td>NaN</td>\n",
       "      <td>0.0</td>\n",
       "      <td>5.0</td>\n",
       "      <td>2.5</td>\n",
       "      <td>0.0</td>\n",
       "      <td>0.0</td>\n",
       "      <td>0.0</td>\n",
       "      <td>0.0</td>\n",
       "      <td>0.833333</td>\n",
       "      <td>5.281772</td>\n",
       "      <td>147.0</td>\n",
       "      <td>4.99</td>\n",
       "      <td>159.0</td>\n",
       "      <td>5.135886</td>\n",
       "      <td>155.0</td>\n",
       "    </tr>\n",
       "    <tr>\n",
       "      <th>2</th>\n",
       "      <td>2016</td>\n",
       "      <td>AGO</td>\n",
       "      <td>Angola</td>\n",
       "      <td>Sub-Saharan Africa</td>\n",
       "      <td>10.0</td>\n",
       "      <td>10.0</td>\n",
       "      <td>10.0</td>\n",
       "      <td>10.0</td>\n",
       "      <td>0.0</td>\n",
       "      <td>0.0</td>\n",
       "      <td>0.0</td>\n",
       "      <td>10.0</td>\n",
       "      <td>7.500000</td>\n",
       "      <td>6.111324</td>\n",
       "      <td>117.0</td>\n",
       "      <td>5.17</td>\n",
       "      <td>155.0</td>\n",
       "      <td>5.640662</td>\n",
       "      <td>142.0</td>\n",
       "    </tr>\n",
       "    <tr>\n",
       "      <th>3</th>\n",
       "      <td>2016</td>\n",
       "      <td>ARG</td>\n",
       "      <td>Argentina</td>\n",
       "      <td>Latin America &amp; the Caribbean</td>\n",
       "      <td>10.0</td>\n",
       "      <td>10.0</td>\n",
       "      <td>10.0</td>\n",
       "      <td>10.0</td>\n",
       "      <td>10.0</td>\n",
       "      <td>10.0</td>\n",
       "      <td>10.0</td>\n",
       "      <td>10.0</td>\n",
       "      <td>10.000000</td>\n",
       "      <td>8.099696</td>\n",
       "      <td>42.0</td>\n",
       "      <td>4.84</td>\n",
       "      <td>160.0</td>\n",
       "      <td>6.469848</td>\n",
       "      <td>107.0</td>\n",
       "    </tr>\n",
       "    <tr>\n",
       "      <th>4</th>\n",
       "      <td>2016</td>\n",
       "      <td>ARM</td>\n",
       "      <td>Armenia</td>\n",
       "      <td>Caucasus &amp; Central Asia</td>\n",
       "      <td>7.0</td>\n",
       "      <td>10.0</td>\n",
       "      <td>10.0</td>\n",
       "      <td>10.0</td>\n",
       "      <td>10.0</td>\n",
       "      <td>10.0</td>\n",
       "      <td>10.0</td>\n",
       "      <td>5.0</td>\n",
       "      <td>8.000000</td>\n",
       "      <td>6.912804</td>\n",
       "      <td>84.0</td>\n",
       "      <td>7.57</td>\n",
       "      <td>29.0</td>\n",
       "      <td>7.241402</td>\n",
       "      <td>57.0</td>\n",
       "    </tr>\n",
       "  </tbody>\n",
       "</table>\n",
       "</div>"
      ],
      "text/plain": [
       "   year ISO_code  countries                         region  pf_identity_legal  \\\n",
       "0  2016      ALB    Albania                 Eastern Europe                0.0   \n",
       "1  2016      DZA    Algeria     Middle East & North Africa                NaN   \n",
       "2  2016      AGO     Angola             Sub-Saharan Africa               10.0   \n",
       "3  2016      ARG  Argentina  Latin America & the Caribbean               10.0   \n",
       "4  2016      ARM    Armenia        Caucasus & Central Asia                7.0   \n",
       "\n",
       "   pf_identity_parental_marriage  pf_identity_parental_divorce  \\\n",
       "0                           10.0                          10.0   \n",
       "1                            0.0                           5.0   \n",
       "2                           10.0                          10.0   \n",
       "3                           10.0                          10.0   \n",
       "4                           10.0                          10.0   \n",
       "\n",
       "   pf_identity_parental  pf_identity_sex_male  pf_identity_sex_female  \\\n",
       "0                  10.0                  10.0                    10.0   \n",
       "1                   2.5                   0.0                     0.0   \n",
       "2                  10.0                   0.0                     0.0   \n",
       "3                  10.0                  10.0                    10.0   \n",
       "4                  10.0                  10.0                    10.0   \n",
       "\n",
       "   pf_identity_sex  pf_identity_divorce  pf_identity  pf_score  pf_rank  \\\n",
       "0             10.0                  5.0     6.250000  7.596281     57.0   \n",
       "1              0.0                  0.0     0.833333  5.281772    147.0   \n",
       "2              0.0                 10.0     7.500000  6.111324    117.0   \n",
       "3             10.0                 10.0    10.000000  8.099696     42.0   \n",
       "4             10.0                  5.0     8.000000  6.912804     84.0   \n",
       "\n",
       "   ef_score  ef_rank  hf_score  hf_rank  \n",
       "0      7.54     34.0  7.568140     48.0  \n",
       "1      4.99    159.0  5.135886    155.0  \n",
       "2      5.17    155.0  5.640662    142.0  \n",
       "3      4.84    160.0  6.469848    107.0  \n",
       "4      7.57     29.0  7.241402     57.0  "
      ]
     },
     "execution_count": 6,
     "metadata": {},
     "output_type": "execute_result"
    }
   ],
   "source": [
    "dataset[important_cols].head()"
   ]
  },
  {
   "cell_type": "code",
   "execution_count": 7,
   "metadata": {
    "colab": {},
    "colab_type": "code",
    "id": "Xanrg5kN9Fxy"
   },
   "outputs": [],
   "source": [
    "data = dataset[important_cols]"
   ]
  },
  {
   "cell_type": "code",
   "execution_count": 8,
   "metadata": {},
   "outputs": [
    {
     "data": {
      "text/plain": [
       "Index(['year', 'ISO_code', 'countries', 'region', 'pf_identity_legal',\n",
       "       'pf_identity_parental_marriage', 'pf_identity_parental_divorce',\n",
       "       'pf_identity_parental', 'pf_identity_sex_male',\n",
       "       'pf_identity_sex_female', 'pf_identity_sex', 'pf_identity_divorce',\n",
       "       'pf_identity', 'pf_score', 'pf_rank', 'ef_score', 'ef_rank', 'hf_score',\n",
       "       'hf_rank'],\n",
       "      dtype='object')"
      ]
     },
     "execution_count": 8,
     "metadata": {},
     "output_type": "execute_result"
    }
   ],
   "source": [
    "data.columns"
   ]
  },
  {
   "cell_type": "markdown",
   "metadata": {
    "colab_type": "text",
    "id": "P4TsNwxZjGJV"
   },
   "source": [
    "## 1. Estadísticos descriptivos\n",
    "\n",
    "  1. Para comenzar con un pantallazo de los datos, calcular el rango de las variables.\n",
    "  2. Obtener media, mediana y desviación estándar de las variables *pf_identity* y *hf_score* en el mundo y compararla con la de Latinoamérica y el caribe. ¿Tiene sentido calcular la moda? \n",
    "  3. ¿Son todos los valores de *pf_identity*  y *hf_score* directamente comparables? ¿Qué otra variable podría influenciarlos?\n",
    "  4. ¿Cómo pueden sanearse los valores faltantes?\n",
    "  5. ¿Encuentra outliers en estas dos variables? ¿Qué método utiliza para detectarlos? ¿Los outliers, son globales o por grupo? ¿Los eliminaría del conjunto de datos?\n",
    "  \n",
    "  "
   ]
  },
  {
   "cell_type": "code",
   "execution_count": 9,
   "metadata": {
    "colab": {
     "base_uri": "https://localhost:8080/",
     "height": 317
    },
    "colab_type": "code",
    "id": "znkBWyC6_Aj6",
    "outputId": "9edadffd-6171-4dda-bb4b-187ababfb946"
   },
   "outputs": [
    {
     "data": {
      "text/html": [
       "<div>\n",
       "<style scoped>\n",
       "    .dataframe tbody tr th:only-of-type {\n",
       "        vertical-align: middle;\n",
       "    }\n",
       "\n",
       "    .dataframe tbody tr th {\n",
       "        vertical-align: top;\n",
       "    }\n",
       "\n",
       "    .dataframe thead th {\n",
       "        text-align: right;\n",
       "    }\n",
       "</style>\n",
       "<table border=\"1\" class=\"dataframe\">\n",
       "  <thead>\n",
       "    <tr style=\"text-align: right;\">\n",
       "      <th></th>\n",
       "      <th>year</th>\n",
       "      <th>pf_identity_legal</th>\n",
       "      <th>pf_identity_parental_marriage</th>\n",
       "      <th>pf_identity_parental_divorce</th>\n",
       "      <th>pf_identity_parental</th>\n",
       "      <th>pf_identity_sex_male</th>\n",
       "      <th>pf_identity_sex_female</th>\n",
       "      <th>pf_identity_sex</th>\n",
       "      <th>pf_identity_divorce</th>\n",
       "      <th>pf_identity</th>\n",
       "      <th>pf_score</th>\n",
       "      <th>pf_rank</th>\n",
       "      <th>ef_score</th>\n",
       "      <th>ef_rank</th>\n",
       "      <th>hf_score</th>\n",
       "      <th>hf_rank</th>\n",
       "    </tr>\n",
       "  </thead>\n",
       "  <tbody>\n",
       "    <tr>\n",
       "      <th>count</th>\n",
       "      <td>162.0</td>\n",
       "      <td>103.000000</td>\n",
       "      <td>158.000000</td>\n",
       "      <td>159.000000</td>\n",
       "      <td>159.000000</td>\n",
       "      <td>162.000000</td>\n",
       "      <td>162.000000</td>\n",
       "      <td>162.000000</td>\n",
       "      <td>149.000000</td>\n",
       "      <td>162.000000</td>\n",
       "      <td>162.000000</td>\n",
       "      <td>162.000000</td>\n",
       "      <td>162.000000</td>\n",
       "      <td>162.000000</td>\n",
       "      <td>162.000000</td>\n",
       "      <td>162.000000</td>\n",
       "    </tr>\n",
       "    <tr>\n",
       "      <th>mean</th>\n",
       "      <td>2016.0</td>\n",
       "      <td>6.310680</td>\n",
       "      <td>7.183544</td>\n",
       "      <td>7.358491</td>\n",
       "      <td>7.279874</td>\n",
       "      <td>6.635802</td>\n",
       "      <td>7.808642</td>\n",
       "      <td>7.222222</td>\n",
       "      <td>7.449664</td>\n",
       "      <td>6.976337</td>\n",
       "      <td>6.984680</td>\n",
       "      <td>81.500000</td>\n",
       "      <td>6.795062</td>\n",
       "      <td>81.271605</td>\n",
       "      <td>6.889871</td>\n",
       "      <td>81.179012</td>\n",
       "    </tr>\n",
       "    <tr>\n",
       "      <th>std</th>\n",
       "      <td>0.0</td>\n",
       "      <td>3.635417</td>\n",
       "      <td>4.007697</td>\n",
       "      <td>3.889751</td>\n",
       "      <td>3.819334</td>\n",
       "      <td>4.723085</td>\n",
       "      <td>4.130682</td>\n",
       "      <td>4.132886</td>\n",
       "      <td>3.704337</td>\n",
       "      <td>3.089252</td>\n",
       "      <td>1.490253</td>\n",
       "      <td>46.909487</td>\n",
       "      <td>0.886026</td>\n",
       "      <td>46.964242</td>\n",
       "      <td>1.079601</td>\n",
       "      <td>46.941076</td>\n",
       "    </tr>\n",
       "    <tr>\n",
       "      <th>min</th>\n",
       "      <td>2016.0</td>\n",
       "      <td>0.000000</td>\n",
       "      <td>0.000000</td>\n",
       "      <td>0.000000</td>\n",
       "      <td>0.000000</td>\n",
       "      <td>0.000000</td>\n",
       "      <td>0.000000</td>\n",
       "      <td>0.000000</td>\n",
       "      <td>0.000000</td>\n",
       "      <td>0.000000</td>\n",
       "      <td>2.166555</td>\n",
       "      <td>1.000000</td>\n",
       "      <td>2.880000</td>\n",
       "      <td>1.000000</td>\n",
       "      <td>3.765827</td>\n",
       "      <td>1.000000</td>\n",
       "    </tr>\n",
       "    <tr>\n",
       "      <th>25%</th>\n",
       "      <td>2016.0</td>\n",
       "      <td>7.000000</td>\n",
       "      <td>5.000000</td>\n",
       "      <td>5.000000</td>\n",
       "      <td>5.000000</td>\n",
       "      <td>0.000000</td>\n",
       "      <td>10.000000</td>\n",
       "      <td>5.000000</td>\n",
       "      <td>5.000000</td>\n",
       "      <td>5.000000</td>\n",
       "      <td>6.025427</td>\n",
       "      <td>41.250000</td>\n",
       "      <td>6.260000</td>\n",
       "      <td>41.250000</td>\n",
       "      <td>6.246463</td>\n",
       "      <td>41.250000</td>\n",
       "    </tr>\n",
       "    <tr>\n",
       "      <th>50%</th>\n",
       "      <td>2016.0</td>\n",
       "      <td>7.000000</td>\n",
       "      <td>10.000000</td>\n",
       "      <td>10.000000</td>\n",
       "      <td>10.000000</td>\n",
       "      <td>10.000000</td>\n",
       "      <td>10.000000</td>\n",
       "      <td>10.000000</td>\n",
       "      <td>10.000000</td>\n",
       "      <td>8.000000</td>\n",
       "      <td>6.931511</td>\n",
       "      <td>81.500000</td>\n",
       "      <td>6.905000</td>\n",
       "      <td>81.500000</td>\n",
       "      <td>6.823996</td>\n",
       "      <td>81.500000</td>\n",
       "    </tr>\n",
       "    <tr>\n",
       "      <th>75%</th>\n",
       "      <td>2016.0</td>\n",
       "      <td>10.000000</td>\n",
       "      <td>10.000000</td>\n",
       "      <td>10.000000</td>\n",
       "      <td>10.000000</td>\n",
       "      <td>10.000000</td>\n",
       "      <td>10.000000</td>\n",
       "      <td>10.000000</td>\n",
       "      <td>10.000000</td>\n",
       "      <td>9.250000</td>\n",
       "      <td>8.141578</td>\n",
       "      <td>121.750000</td>\n",
       "      <td>7.467500</td>\n",
       "      <td>121.750000</td>\n",
       "      <td>7.771945</td>\n",
       "      <td>121.250000</td>\n",
       "    </tr>\n",
       "    <tr>\n",
       "      <th>max</th>\n",
       "      <td>2016.0</td>\n",
       "      <td>10.000000</td>\n",
       "      <td>10.000000</td>\n",
       "      <td>10.000000</td>\n",
       "      <td>10.000000</td>\n",
       "      <td>10.000000</td>\n",
       "      <td>10.000000</td>\n",
       "      <td>10.000000</td>\n",
       "      <td>10.000000</td>\n",
       "      <td>10.000000</td>\n",
       "      <td>9.398842</td>\n",
       "      <td>162.000000</td>\n",
       "      <td>8.970000</td>\n",
       "      <td>162.000000</td>\n",
       "      <td>8.887410</td>\n",
       "      <td>162.000000</td>\n",
       "    </tr>\n",
       "  </tbody>\n",
       "</table>\n",
       "</div>"
      ],
      "text/plain": [
       "         year  pf_identity_legal  pf_identity_parental_marriage  \\\n",
       "count   162.0         103.000000                     158.000000   \n",
       "mean   2016.0           6.310680                       7.183544   \n",
       "std       0.0           3.635417                       4.007697   \n",
       "min    2016.0           0.000000                       0.000000   \n",
       "25%    2016.0           7.000000                       5.000000   \n",
       "50%    2016.0           7.000000                      10.000000   \n",
       "75%    2016.0          10.000000                      10.000000   \n",
       "max    2016.0          10.000000                      10.000000   \n",
       "\n",
       "       pf_identity_parental_divorce  pf_identity_parental  \\\n",
       "count                    159.000000            159.000000   \n",
       "mean                       7.358491              7.279874   \n",
       "std                        3.889751              3.819334   \n",
       "min                        0.000000              0.000000   \n",
       "25%                        5.000000              5.000000   \n",
       "50%                       10.000000             10.000000   \n",
       "75%                       10.000000             10.000000   \n",
       "max                       10.000000             10.000000   \n",
       "\n",
       "       pf_identity_sex_male  pf_identity_sex_female  pf_identity_sex  \\\n",
       "count            162.000000              162.000000       162.000000   \n",
       "mean               6.635802                7.808642         7.222222   \n",
       "std                4.723085                4.130682         4.132886   \n",
       "min                0.000000                0.000000         0.000000   \n",
       "25%                0.000000               10.000000         5.000000   \n",
       "50%               10.000000               10.000000        10.000000   \n",
       "75%               10.000000               10.000000        10.000000   \n",
       "max               10.000000               10.000000        10.000000   \n",
       "\n",
       "       pf_identity_divorce  pf_identity    pf_score     pf_rank    ef_score  \\\n",
       "count           149.000000   162.000000  162.000000  162.000000  162.000000   \n",
       "mean              7.449664     6.976337    6.984680   81.500000    6.795062   \n",
       "std               3.704337     3.089252    1.490253   46.909487    0.886026   \n",
       "min               0.000000     0.000000    2.166555    1.000000    2.880000   \n",
       "25%               5.000000     5.000000    6.025427   41.250000    6.260000   \n",
       "50%              10.000000     8.000000    6.931511   81.500000    6.905000   \n",
       "75%              10.000000     9.250000    8.141578  121.750000    7.467500   \n",
       "max              10.000000    10.000000    9.398842  162.000000    8.970000   \n",
       "\n",
       "          ef_rank    hf_score     hf_rank  \n",
       "count  162.000000  162.000000  162.000000  \n",
       "mean    81.271605    6.889871   81.179012  \n",
       "std     46.964242    1.079601   46.941076  \n",
       "min      1.000000    3.765827    1.000000  \n",
       "25%     41.250000    6.246463   41.250000  \n",
       "50%     81.500000    6.823996   81.500000  \n",
       "75%    121.750000    7.771945  121.250000  \n",
       "max    162.000000    8.887410  162.000000  "
      ]
     },
     "execution_count": 9,
     "metadata": {},
     "output_type": "execute_result"
    }
   ],
   "source": [
    "data[data['year'] == 2016].describe()"
   ]
  },
  {
   "cell_type": "code",
   "execution_count": 10,
   "metadata": {
    "colab": {
     "base_uri": "https://localhost:8080/",
     "height": 341
    },
    "colab_type": "code",
    "id": "rKsh07PQGB26",
    "outputId": "38f556d7-f9f4-4a91-ca0e-06f959e13a87"
   },
   "outputs": [
    {
     "name": "stdout",
     "output_type": "stream",
     "text": [
      "Column:  \u001b[1m\u001b[31mpf_identity\u001b[0m\n",
      "  \u001b[1m\u001b[32mAll World\u001b[0m\n",
      "  Mean:   6.976\n",
      "  Median: 8.000\n",
      "  Std:    3.089\n",
      "  \u001b[1m\u001b[32mLatin America & Caribe\u001b[0m\n",
      "  Mean:   8.016\n",
      "  Median: 7.500\n",
      "  Std:    1.785\n",
      "Column:  \u001b[1m\u001b[31mhf_score\u001b[0m\n",
      "  \u001b[1m\u001b[32mAll World\u001b[0m\n",
      "  Mean:   6.890\n",
      "  Median: 6.824\n",
      "  Std:    1.080\n",
      "  \u001b[1m\u001b[32mLatin America & Caribe\u001b[0m\n",
      "  Mean:   6.954\n",
      "  Median: 6.998\n",
      "  Std:    0.705\n"
     ]
    }
   ],
   "source": [
    "fields = [\"pf_identity\",\"hf_score\"]\n",
    "\n",
    "Year = data['year'] == 2016\n",
    "LA = data['region'] == \"Latin America & the Caribbean\"\n",
    "\n",
    "for field in fields:\n",
    "  print(\"Column: \",colored(field,\"red\",attrs=[\"bold\"]))\n",
    "  print(\" \",colored(\"All World\",\"green\",attrs=[\"bold\"]))\n",
    "  print(\"  Mean:   %.3f\" % data[Year][field].mean())\n",
    "  print(\"  Median: %.3f\" % data[Year][field].median())\n",
    "  print(\"  Std:    %.3f\" % data[Year][field].std())\n",
    "  print(\" \",colored(\"Latin America & Caribe\",\"green\",attrs=[\"bold\"]))\n",
    "  print(\"  Mean:   %.3f\" % data[Year & LA][field].mean())\n",
    "  print(\"  Median: %.3f\" % data[Year & LA][field].median())\n",
    "  print(\"  Std:    %.3f\" % data[Year & LA][field].std())"
   ]
  },
  {
   "cell_type": "code",
   "execution_count": 35,
   "metadata": {},
   "outputs": [
    {
     "name": "stdout",
     "output_type": "stream",
     "text": [
      "7\n",
      "pf_identity_sex_male 0 0\n",
      "pf_identity_sex_female 0 1\n",
      "pf_identity_sex 1 0\n",
      "pf_identity 1 1\n",
      "pf_score 2 0\n",
      "ef_score 2 1\n",
      "hf_score 3 0\n"
     ]
    },
    {
     "data": {
      "image/png": "[encoded data removed]",
      "text/plain": [
       "<Figure size 1080x2160 with 8 Axes>"
      ]
     },
     "metadata": {
      "needs_background": "light"
     },
     "output_type": "display_data"
    }
   ],
   "source": [
    "fields = [       'pf_identity_sex_male',\n",
    "       'pf_identity_sex_female', 'pf_identity_sex',\n",
    "       'pf_identity', 'pf_score','ef_score','hf_score']\n",
    "\n",
    "print(len(fields))\n",
    "\n",
    "f, axes = plt.subplots(4, 2, figsize=(15, 30))\n",
    "\n",
    "for i,field in enumerate(fields):\n",
    "    print(field,int(i/2),i%2)\n",
    "    sns.distplot(data[Year & LA][field], label=field,ax=axes[int(i/2),i%2])\n",
    "    sns.distplot(data[Year][field], label=field,ax=axes[int(i/2),i%2])\n",
    "    axes[int(i/2),i%2].legend()"
   ]
  },
  {
   "cell_type": "code",
   "execution_count": null,
   "metadata": {},
   "outputs": [],
   "source": [
    "#plot_data = clean_salario_neto(\n",
    "#    dataset[con_aumento & age_mask & (dataset['Años en la empresa actual'] < 40) & (dataset['Años de experiencia'] < 40)])\n",
    "#plot_data = plot_data.rename(columns={\n",
    "#    'Años en la empresa actual': 'Antiguedad', 'Años de experiencia': 'Experiencia',\n",
    "#    NETO_COL: 'Salario', '¿De qué % fue el ajuste?': 'Ajuste'\n",
    "#})\n",
    "sns.pairplot(\n",
    "    data=data[Year],\n",
    "    vars=['pf_identity_sex_male','pf_identity_sex_female','pf_identity_sex',\n",
    "          'pf_identity','pf_score','ef_score','hf_score'],\n",
    "    hue='region', \n",
    "    markers='+')"
   ]
  },
  {
   "cell_type": "code",
   "execution_count": null,
   "metadata": {
    "colab": {
     "base_uri": "https://localhost:8080/",
     "height": 527
    },
    "colab_type": "code",
    "id": "uloXabAVtCZ2",
    "outputId": "c06141cb-7b54-4b63-821b-c93639ee3e26"
   },
   "outputs": [],
   "source": [
    "data[\"IsLA\"] = LA\n",
    "\n",
    "plt.figure(figsize=(15,10))\n",
    "sns.set(style=\"ticks\", palette=\"pastel\")\n",
    "sns.boxplot(x=\"year\", y=\"hf_score\",data=data,hue=\"IsLA\",palette=[\"m\",\"g\"])\n",
    "sns.despine(offset=10, trim=True)"
   ]
  },
  {
   "cell_type": "code",
   "execution_count": null,
   "metadata": {
    "colab": {
     "base_uri": "https://localhost:8080/",
     "height": 419
    },
    "colab_type": "code",
    "id": "w73mF1YouRmL",
    "outputId": "533be7af-7ac2-441d-e873-e09f9f420094"
   },
   "outputs": [],
   "source": [
    "plt.figure(figsize=(15,10))\n",
    "sns.set(style=\"ticks\", palette=\"pastel\")\n",
    "sns.boxplot(x=\"year\", y=\"pf_identity\",data=data,hue=\"IsLA\",palette=[\"m\",\"g\"])\n",
    "sns.despine(offset=10, trim=True)"
   ]
  },
  {
   "cell_type": "code",
   "execution_count": null,
   "metadata": {},
   "outputs": [],
   "source": [
    "world = gpd.read_file(gpd.datasets.get_path('naturalearth_lowres')).to_crs('+proj=robin')\n",
    "world = world[world.name != 'Antarctica']\n",
    "\n",
    "_temp = data[['countries','hf_score']][Year]\n",
    "_temp.columns = [\"name\",\"hf_score\"]\n",
    "\n",
    "world = world.join(_temp.set_index('name'),on='name')"
   ]
  },
  {
   "cell_type": "code",
   "execution_count": null,
   "metadata": {},
   "outputs": [],
   "source": [
    "known = world.dropna(subset=['hf_score'])\n",
    "unknown = world[world['hf_score'].isna()]\n",
    "\n",
    "ax = known.plot(column='hf_score', cmap='inferno_r', figsize=(20, 12), scheme='fisher_jenks', k=9, legend=True, edgecolor='#aaaaaa')\n",
    "unknown.plot(ax=ax, color='#ffffff', hatch='//', edgecolor='#aaaaaa')\n",
    "\n",
    "ax.set_title('Human Freedom Score', fontdict={'fontsize': 20}, loc='left')\n",
    "description = '''Based on The Human Freedom dataset'''.strip()\n",
    "ax.annotate(description, xy=(0.07, 0.1), size=12, xycoords='figure fraction')\n",
    "\n",
    "ax.set_axis_off()\n",
    "legend = ax.get_legend()\n",
    "legend.set_bbox_to_anchor((.11, .4))\n",
    "legend.prop.set_size(12)\n",
    "\n",
    "mi_pais = 'France'\n",
    "print(world['hf_score'][world.name == mi_pais])\n",
    "print(data['hf_score'][Year][data['countries'] == mi_pais])"
   ]
  },
  {
   "cell_type": "code",
   "execution_count": null,
   "metadata": {},
   "outputs": [],
   "source": [
    "import json\n",
    "\n",
    "#Read data to json.\n",
    "world_json = json.loads(world.to_json())\n",
    "#Convert to String like object.\n",
    "json_data = json.dumps(world_json)"
   ]
  },
  {
   "cell_type": "code",
   "execution_count": null,
   "metadata": {},
   "outputs": [],
   "source": [
    "from bokeh.io import output_notebook, show, output_file\n",
    "from bokeh.plotting import figure\n",
    "from bokeh.models import GeoJSONDataSource, LinearColorMapper, ColorBar\n",
    "from bokeh.palettes import brewer\n",
    "from bokeh.models import HoverTool\n",
    "\n",
    "#Input GeoJSON source that contains features for plotting.\n",
    "geosource = GeoJSONDataSource(geojson = json_data)\n",
    "#Define a sequential multi-hue color palette.\n",
    "palette = brewer['Pastel2'][8]\n",
    "#Reverse color order so that dark blue is highest obesity.\n",
    "palette = palette[::-1]\n",
    "#Instantiate LinearColorMapper that linearly maps numbers in a range, into a sequence of colors.\n",
    "color_mapper = LinearColorMapper(palette = palette, low = 1, high = 10)\n",
    "#Define custom tick labels for color bar.\n",
    "#Create color bar. \n",
    "color_bar = ColorBar(color_mapper=color_mapper, label_standoff=8,width = 500, height = 20,\n",
    "border_line_color=None,location = (0,0), orientation = 'horizontal')\n",
    "\n",
    "\n",
    "#Create figure object.\n",
    "TOOLS = \"pan,wheel_zoom,reset,save\"\n",
    "p = figure(title = 'Human Freedom 2016', \n",
    "           plot_height = 600 , \n",
    "           plot_width = 950, \n",
    "           toolbar_location = 'left', \n",
    "           x_axis_location=None, \n",
    "           y_axis_location=None,\n",
    "           tools = TOOLS,tooltips = [('country','@name'),('hf_score','@hf_score')])\n",
    "p.xgrid.grid_line_color = None\n",
    "p.ygrid.grid_line_color = None\n",
    "\n",
    "p.axis.minor_tick_line_color = None\n",
    "p.axis.major_tick_line_color = None\n",
    "p.axis.axis_line_color = None\n",
    "\n",
    "p.hover.point_policy = \"follow_mouse\"\n",
    "#Add patch renderer to figure. \n",
    "p.patches('xs','ys', source = geosource,fill_color = {'field' :'hf_score', 'transform' : color_mapper}, line_color = 'black', line_width = 0.25, fill_alpha = 1)\n",
    "#Specify figure layout.\n",
    "p.add_layout(color_bar, 'below')\n",
    "#Display figure inline in Jupyter Notebook.\n",
    "output_notebook()\n",
    "#Display figure.\n",
    "show(p)"
   ]
  },
  {
   "cell_type": "code",
   "execution_count": null,
   "metadata": {},
   "outputs": [],
   "source": [
    "import plotly_express as px\n",
    "px.choropleth(data, locations=\"ISO_code\", color=\"hf_score\", hover_name=\"countries\", animation_frame=\"year\",\n",
    "              color_continuous_scale=px.colors.sequential.Plasma, projection=\"natural earth\")"
   ]
  },
  {
   "cell_type": "code",
   "execution_count": null,
   "metadata": {},
   "outputs": [],
   "source": [
    "gapminder = px.data.gapminder()\n",
    "gapminder.head()"
   ]
  },
  {
   "cell_type": "code",
   "execution_count": null,
   "metadata": {},
   "outputs": [],
   "source": [
    "plt.figure(figsize=(15,10))\n",
    "sns.set_context(\"notebook\")\n",
    "sns.lineplot(x='year',y='hf_score',data=data,hue='region',lw=5.0)\n",
    "sns.lineplot(x='year',y='hf_score',data=data,lw=5.0,color='k')\n",
    "sns.despine()"
   ]
  },
  {
   "cell_type": "code",
   "execution_count": null,
   "metadata": {},
   "outputs": [],
   "source": [
    "plt.figure(figsize=(15,10))\n",
    "sns.set_context(\"notebook\")\n",
    "sns.lineplot(x='year',y='pf_identity',data=data,hue='region',lw=5.0)\n",
    "sns.lineplot(x='year',y='pf_identity',data=data,lw=5.0,color='k')\n",
    "sns.despine()"
   ]
  },
  {
   "cell_type": "markdown",
   "metadata": {
    "colab_type": "text",
    "id": "qJ9zgB5ijGJW"
   },
   "source": [
    "## 2. Agregación de datos\n",
    "\n",
    "1. Grafiquen la media de la variable *pf_identity* y *hf_score* a través de los años.\n",
    "2. Realicen los mismos gráficos, pero separando por regiones (Cada variable en un gráfico distinto, sino no se ve nada). ¿La tendencia observada, es la misma que si no dividimos por regiones?\n",
    "3. Si lo consideran necesario, grafiquen algunos países de Latinoamerica para tratar de explicar la tendencia de la variable *pf_identity* en la región. ¿Cómo seleccionarion los países relevantes a esa tendencia?\n",
    "\n",
    "Hint: hay un gráfico de seaborn que hace todo por vos!\n",
    "\n",
    "Sólo por curiosidad, graficar la tendencia de *hf_score* y *ef_score* a través de los años. ¿Tienen alguna hipótesis para este comportamiento?"
   ]
  },
  {
   "cell_type": "markdown",
   "metadata": {
    "colab_type": "text",
    "id": "MBbKjnxujGJX"
   },
   "source": [
    "## 2. Distribuciones\n",
    "  1. Graficar en un mismo histograma la distribución de la variable *pf_identity* en global, y en Latinoamérica y el caribe. Repetir para la variable *hf_score*. ¿Visualmente, a qué tipo de distribución corresponde cada variable? ¿Es correcto utilizar todos los registros para esas zonas en estos gráficos?\n",
    "  2. Realizar una prueba de Kolmogorov-Smirnof para comprobar analíticamente si estas variables responden la distribución propuesta en el ejercicio anterior. Hint: podés usar https://docs.scipy.org/doc/scipy-0.14.0/reference/generated/scipy.stats.kstest.html, pero hay que tener en cuenta que si la distribución es \"norm\", entonces va a comparar los datos con una distribución normal con media 0 y desviación estándar 1. Se puede utilizar la distribución sobre todos los datos o sólo sobre Latinoamérica.\n",
    "  3. Realizar un gráfico QQ de las mismas distribuciones. Se puede utilizar a,bas distribuciones sobre todos los datos o sólo sobre Latinoamérica, pero no cruzadas.\n",
    "4. Medir la asimetría (skew) y curtosis de las mismas distribuciones con las que realizó el gráfico anterior. ¿Cómo se relacionan estos estadísticos con la forma del gráfico QQ obtenido previamente? ¿El gráfico QQ provee más información que no esté presente en estos estadísticos?"
   ]
  },
  {
   "cell_type": "code",
   "execution_count": null,
   "metadata": {},
   "outputs": [],
   "source": [
    "from scipy import stats\n",
    "\n",
    "f, axes = plt.subplots(1, 2, figsize=(15, 7))\n",
    "\n",
    "loc, scale = stats.norm.fit(data[Year & LA]['pf_identity'])\n",
    "norm_dist = stats.norm(loc, scale)\n",
    "sample = norm_dist.rvs(1000)\n",
    "\n",
    "#sns.distplot(sample, label='Distribución normal',ax=axes[0])\n",
    "sns.distplot(data[Year & LA]['pf_identity'], label='Personal Freedom Identity - LA',ax=axes[0])\n",
    "\n",
    "loc, scale = stats.norm.fit(data[Year]['pf_identity'])\n",
    "norm_dist = stats.norm(loc, scale)\n",
    "sample = norm_dist.rvs(1000)\n",
    "\n",
    "#sns.distplot(sample, label='Distribución normal',ax=axes[0])\n",
    "sns.distplot(data[Year]['pf_identity'], label='Personal Freedom Identity - World',ax=axes[0])\n",
    "axes[0].legend()\n",
    "\n",
    "\n",
    "loc, scale = stats.norm.fit(data[Year & LA]['hf_score'])\n",
    "norm_dist = stats.norm(loc, scale)\n",
    "sample = norm_dist.rvs(1000)\n",
    "\n",
    "#sns.distplot(sample, label='Distribución normal',ax=axes[1])\n",
    "sns.distplot(data[Year & LA]['hf_score'], label='Human Freedom - LA',ax=axes[1])\n",
    "\n",
    "loc, scale = stats.norm.fit(data[Year]['hf_score'])\n",
    "norm_dist = stats.norm(loc, scale)\n",
    "sample = norm_dist.rvs(1000)\n",
    "\n",
    "#sns.distplot(sample, label='Distribución normal',ax=axes[1])\n",
    "sns.distplot(data[Year]['hf_score'], label='Human Freedom - World',ax=axes[1])\n",
    "\n",
    "axes[1].legend()\n",
    "\n",
    "\n",
    "sns.despine()"
   ]
  },
  {
   "cell_type": "markdown",
   "metadata": {
    "colab_type": "text",
    "id": "SVwMqN60jGJZ"
   },
   "source": [
    "## 3. Correlaciones\n",
    "\n",
    "En este ejercicio queremos responder a las preguntas\n",
    "\n",
    "* Las libertades sociales y económicas, ¿van siempre de la mano?\n",
    "* ¿Cómo se relacionan ambas con las libertades individuales y respectivas a las relaciones personales?\n",
    "\n",
    "Para ello, analizaremos las correlaciones entre las variables pf_identity, hf_score y ef_score. \n",
    "\n",
    "Como pf_indentity contribuye al cálculo de hf_score y ef_score, esperamos hallar algún grado de correlación. Sin embargo, queremos medir qué tanta correlación. \n",
    "\n",
    "1. ¿Qué conclusiones puede sacar de un gráfico pairplot de estas tres variables? ¿Es adecuado para los valores de pf_identity? ¿Por qué?\n",
    "2. Graficar la correlación entre pf_identity y hf_score; y entre pf_identity y ef_score. Analizar el resultado, ¿se pueden sacar conclusiones? Tengan en cuenta que como pf_identity es el resultado de un promedio, sólo toma algunos valores. Es, en efecto, discreta.\n",
    "3. Calcular algún coeficiente de correlación adecuado entre los dos pares de variables, dependiendo de la cantidad de datos, el tipo de datos y la distribución de los mismo. Algunas opciones son: coeficiente de pearson, coeficiente de spearman, coeficientes de tau y de kendall. Interpretar los resultados y justificar si las variables están correlacionadas o no. \n",
    "4. [Opcional] Analizar la correlación entre la region y el hf_score (y/o el ef_score); y entre la region y el pf_identity. Considerar que como la variable *region* es ordinal, debe utilizarse algún tipo de test. Explicar cuáles son los requisitos necesarios para la aplicación de ese test. (Si no se cumplieran, se pueden agregar algunos datos para generar más registros)\n"
   ]
  },
  {
   "cell_type": "code",
   "execution_count": null,
   "metadata": {
    "colab": {},
    "colab_type": "code",
    "id": "tHuA8HLyjGJa"
   },
   "outputs": [],
   "source": []
  },
  {
   "cell_type": "code",
   "execution_count": null,
   "metadata": {
    "colab": {},
    "colab_type": "code",
    "id": "FEcYQ406Joqf"
   },
   "outputs": [],
   "source": []
  }
 ],
 "metadata": {
  "colab": {
   "include_colab_link": true,
   "name": "Practico_I_AyV.ipynb",
   "provenance": [],
   "toc_visible": true,
   "version": "0.3.2"
  },
  "kernelspec": {
   "display_name": "Python 3",
   "language": "python",
   "name": "python3"
  },
  "language_info": {
   "codemirror_mode": {
    "name": "ipython",
    "version": 3
   },
   "file_extension": ".py",
   "mimetype": "text/x-python",
   "name": "python",
   "nbconvert_exporter": "python",
   "pygments_lexer": "ipython3",
   "version": "3.6.8"
  }
 },
 "nbformat": 4,
 "nbformat_minor": 1
}
