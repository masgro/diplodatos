{
  "nbformat": 4,
  "nbformat_minor": 0,
  "metadata": {
    "colab": {
      "name": "Practico_I_AyV.ipynb",
      "version": "0.3.2",
      "provenance": [],
      "toc_visible": true,
      "include_colab_link": true
    },
    "language_info": {
      "codemirror_mode": {
        "name": "ipython",
        "version": 3
      },
      "file_extension": ".py",
      "mimetype": "text/x-python",
      "name": "python",
      "nbconvert_exporter": "python",
      "pygments_lexer": "ipython3",
      "version": "3.7.1"
    },
    "kernelspec": {
      "display_name": "Python 3",
      "language": "python",
      "name": "python3"
    }
  },
  "cells": [
    {
      "cell_type": "markdown",
      "metadata": {
        "id": "view-in-github",
        "colab_type": "text"
      },
      "source": [
        "<a href=\"https://colab.research.google.com/github/masgro/diplodatos/blob/master/Practico_I_AyV.ipynb\" target=\"_parent\"><img src=\"https://colab.research.google.com/assets/colab-badge.svg\" alt=\"Open In Colab\"/></a>"
      ]
    },
    {
      "metadata": {
        "id": "4ijwQ73MjGIf",
        "colab_type": "text"
      },
      "cell_type": "markdown",
      "source": [
        "<center>\n",
        "<h4>Universidad Nacional de Córdoba - Facultad de Matemática, Astronomía, Física y Computación</h4>\n",
        "<h3>Diplomatura en Ciencia de Datos, Aprendizaje Automático y sus Aplicaciones</h3>\n",
        "</center>"
      ]
    },
    {
      "metadata": {
        "id": "RcMdWYVmjGIj",
        "colab_type": "text"
      },
      "cell_type": "markdown",
      "source": [
        "<h1> Práctico I - Estadística </h1>\n",
        "<h3> Análisis y Visualización de Datos - 2019 </h3>\n",
        "\n",
        "Durante este práctico vamos a trabajar sobre el dataset [Human Freedom Index 2018](https://www.cato.org/human-freedom-index-new) de el instituto Cato. Este índice mide en detalle lo que entendemos como libertad, utilizando 79 indicadores de libertad personal y económica en distintos aspectos, hasta obtener un hermoso numerito del 1 al 10. Usaremos una [versión ya limpia del dataset](https://www.kaggle.com/gsutters/the-human-freedom-index/home) que pueden descargar desde Kaggle.\n",
        "\n",
        "Las variables más importantes sobre las que trabaja el dataset son:\n",
        "\n",
        "* Rule of Law\n",
        "* Security and Safety\n",
        "* Movement\n",
        "* Religion\n",
        "* Association, Assembly, and Civil Society\n",
        "* Expression and Information\n",
        "* Identity and Relationships\n",
        "* Size of Government\n",
        "* Legal System and Property Rights\n",
        "* Access to Sound Money\n",
        "* Freedom to Trade Internationally\n",
        "* Regulation of Credit, Labor, and Business\n",
        "\n",
        "Nosotros centrarermos nuestro análisis en variables relacionadas a *Identity and Relationships* en paises de Latinoamérica, y los compararemos con las estadísticas globales. La pregunta a responder es simple: **¿Qué niveles de libertad se viven en Latinoamérica, especificamente en cuanto libertades de indentidad?**. Sin embargo, para hacer un análisis de los datos tenemos que platear también estas sub preguntas:\n",
        "\n",
        "1. ¿Qué significa tener un puntaje de 4.5? Hay que poner los puntajes de la región en contexto con los datos del resto del mundo.\n",
        "2. ¿Cuál es la tendencia a lo largo de los años? ¿Estamos mejorando, empeorando?\n",
        "3. En este estudio, la libertad se mide con dos estimadores principales: *hf_score* que hace referencia a Human Freedom, y *ef_score* que hace referencia a Economic Freedom. Estos dos estimadores, ¿se relacionan de la misma manera con la libertad de identidad?\n",
        "\n",
        "Inicialmente, en toda exploración de datos tenemos muy poca información a priori sobre el significado de los datos y tenemos que empezar por comprenderlos. Les proponemos los siguientes ejercicios como guía para comenzar esta exploración."
      ]
    },
    {
      "metadata": {
        "id": "cb4HmusHjGIm",
        "colab_type": "code",
        "colab": {}
      },
      "cell_type": "code",
      "source": [
        "import matplotlib.pyplot as plt\n",
        "import numpy\n",
        "import pandas\n",
        "import seaborn as sns\n",
        "from termcolor import colored"
      ],
      "execution_count": 0,
      "outputs": []
    },
    {
      "metadata": {
        "id": "0UvFzbBzjGIu",
        "colab_type": "code",
        "outputId": "6a5f5e42-571b-40f4-e96c-a18c44afb08c",
        "colab": {
          "base_uri": "https://localhost:8080/",
          "height": 35
        }
      },
      "cell_type": "code",
      "source": [
        "seaborn.__version__"
      ],
      "execution_count": 0,
      "outputs": [
        {
          "output_type": "execute_result",
          "data": {
            "text/plain": [
              "'0.7.1'"
            ]
          },
          "metadata": {
            "tags": []
          },
          "execution_count": 2
        }
      ]
    },
    {
      "metadata": {
        "id": "lYrKrImwjGI4",
        "colab_type": "code",
        "outputId": "8601d323-b3d5-4b23-99ab-5dc6d701b3e7",
        "colab": {
          "base_uri": "https://localhost:8080/",
          "height": 35
        }
      },
      "cell_type": "code",
      "source": [
        "dataset = pandas.read_csv('hfi_cc_2018.csv')\n",
        "dataset.shape"
      ],
      "execution_count": 0,
      "outputs": [
        {
          "output_type": "execute_result",
          "data": {
            "text/plain": [
              "(1458, 123)"
            ]
          },
          "metadata": {
            "tags": []
          },
          "execution_count": 3
        }
      ]
    },
    {
      "metadata": {
        "id": "eyWyzN_kjGJB",
        "colab_type": "code",
        "outputId": "11b8d19f-3f79-4bc7-9b55-769686a76f6d",
        "colab": {
          "base_uri": "https://localhost:8080/",
          "height": 179
        }
      },
      "cell_type": "code",
      "source": [
        "dataset.columns  # Way too many columns!"
      ],
      "execution_count": 0,
      "outputs": [
        {
          "output_type": "execute_result",
          "data": {
            "text/plain": [
              "Index(['year', 'ISO_code', 'countries', 'region', 'pf_rol_procedural',\n",
              "       'pf_rol_civil', 'pf_rol_criminal', 'pf_rol', 'pf_ss_homicide',\n",
              "       'pf_ss_disappearances_disap',\n",
              "       ...\n",
              "       'ef_regulation_business_bribes', 'ef_regulation_business_licensing',\n",
              "       'ef_regulation_business_compliance', 'ef_regulation_business',\n",
              "       'ef_regulation', 'ef_score', 'ef_rank', 'hf_score', 'hf_rank',\n",
              "       'hf_quartile'],\n",
              "      dtype='object', length=123)"
            ]
          },
          "metadata": {
            "tags": []
          },
          "execution_count": 4
        }
      ]
    },
    {
      "metadata": {
        "id": "N9n4xReBjGJG",
        "colab_type": "text"
      },
      "cell_type": "markdown",
      "source": [
        "Por suerte las columnas tienen un prefijo que nos ayuda a identificar a qué sección pertenecen. Nos quedamos sólo con las que comienzan con *pf_indentity*, junto con otras columnas más generales"
      ]
    },
    {
      "metadata": {
        "id": "6Axcqdo3jGJI",
        "colab_type": "code",
        "colab": {}
      },
      "cell_type": "code",
      "source": [
        "important_cols = ['year', 'ISO_code', 'countries', 'region']\n",
        "\n",
        "important_cols += [col for col in dataset.columns if 'pf_identity' in col]\n",
        "\n",
        "important_cols += [\n",
        "    'ef_score', # Economic Freedom (score)\n",
        "    'ef_rank', # Economic Freedom (rank)\n",
        "    'hf_score', # Human Freedom (score)\n",
        "    'hf_rank', # Human Freedom (rank)\n",
        "]"
      ],
      "execution_count": 0,
      "outputs": []
    },
    {
      "metadata": {
        "id": "f671dr56jGJN",
        "colab_type": "code",
        "outputId": "ded39dbd-3c17-4759-f538-fed368ffe4e2",
        "colab": {
          "base_uri": "https://localhost:8080/",
          "height": 411
        }
      },
      "cell_type": "code",
      "source": [
        "dataset[important_cols].head()"
      ],
      "execution_count": 0,
      "outputs": [
        {
          "output_type": "execute_result",
          "data": {
            "text/html": [
              "<div>\n",
              "<style scoped>\n",
              "    .dataframe tbody tr th:only-of-type {\n",
              "        vertical-align: middle;\n",
              "    }\n",
              "\n",
              "    .dataframe tbody tr th {\n",
              "        vertical-align: top;\n",
              "    }\n",
              "\n",
              "    .dataframe thead th {\n",
              "        text-align: right;\n",
              "    }\n",
              "</style>\n",
              "<table border=\"1\" class=\"dataframe\">\n",
              "  <thead>\n",
              "    <tr style=\"text-align: right;\">\n",
              "      <th></th>\n",
              "      <th>year</th>\n",
              "      <th>ISO_code</th>\n",
              "      <th>countries</th>\n",
              "      <th>region</th>\n",
              "      <th>pf_identity_legal</th>\n",
              "      <th>pf_identity_parental_marriage</th>\n",
              "      <th>pf_identity_parental_divorce</th>\n",
              "      <th>pf_identity_parental</th>\n",
              "      <th>pf_identity_sex_male</th>\n",
              "      <th>pf_identity_sex_female</th>\n",
              "      <th>pf_identity_sex</th>\n",
              "      <th>pf_identity_divorce</th>\n",
              "      <th>pf_identity</th>\n",
              "      <th>ef_score</th>\n",
              "      <th>ef_rank</th>\n",
              "      <th>hf_score</th>\n",
              "      <th>hf_rank</th>\n",
              "    </tr>\n",
              "  </thead>\n",
              "  <tbody>\n",
              "    <tr>\n",
              "      <th>0</th>\n",
              "      <td>2016</td>\n",
              "      <td>ALB</td>\n",
              "      <td>Albania</td>\n",
              "      <td>Eastern Europe</td>\n",
              "      <td>0.0</td>\n",
              "      <td>10.0</td>\n",
              "      <td>10.0</td>\n",
              "      <td>10.0</td>\n",
              "      <td>10.0</td>\n",
              "      <td>10.0</td>\n",
              "      <td>10.0</td>\n",
              "      <td>5.0</td>\n",
              "      <td>6.250000</td>\n",
              "      <td>7.54</td>\n",
              "      <td>34.0</td>\n",
              "      <td>7.568140</td>\n",
              "      <td>48.0</td>\n",
              "    </tr>\n",
              "    <tr>\n",
              "      <th>1</th>\n",
              "      <td>2016</td>\n",
              "      <td>DZA</td>\n",
              "      <td>Algeria</td>\n",
              "      <td>Middle East &amp; North Africa</td>\n",
              "      <td>NaN</td>\n",
              "      <td>0.0</td>\n",
              "      <td>5.0</td>\n",
              "      <td>2.5</td>\n",
              "      <td>0.0</td>\n",
              "      <td>0.0</td>\n",
              "      <td>0.0</td>\n",
              "      <td>0.0</td>\n",
              "      <td>0.833333</td>\n",
              "      <td>4.99</td>\n",
              "      <td>159.0</td>\n",
              "      <td>5.135886</td>\n",
              "      <td>155.0</td>\n",
              "    </tr>\n",
              "    <tr>\n",
              "      <th>2</th>\n",
              "      <td>2016</td>\n",
              "      <td>AGO</td>\n",
              "      <td>Angola</td>\n",
              "      <td>Sub-Saharan Africa</td>\n",
              "      <td>10.0</td>\n",
              "      <td>10.0</td>\n",
              "      <td>10.0</td>\n",
              "      <td>10.0</td>\n",
              "      <td>0.0</td>\n",
              "      <td>0.0</td>\n",
              "      <td>0.0</td>\n",
              "      <td>10.0</td>\n",
              "      <td>7.500000</td>\n",
              "      <td>5.17</td>\n",
              "      <td>155.0</td>\n",
              "      <td>5.640662</td>\n",
              "      <td>142.0</td>\n",
              "    </tr>\n",
              "    <tr>\n",
              "      <th>3</th>\n",
              "      <td>2016</td>\n",
              "      <td>ARG</td>\n",
              "      <td>Argentina</td>\n",
              "      <td>Latin America &amp; the Caribbean</td>\n",
              "      <td>10.0</td>\n",
              "      <td>10.0</td>\n",
              "      <td>10.0</td>\n",
              "      <td>10.0</td>\n",
              "      <td>10.0</td>\n",
              "      <td>10.0</td>\n",
              "      <td>10.0</td>\n",
              "      <td>10.0</td>\n",
              "      <td>10.000000</td>\n",
              "      <td>4.84</td>\n",
              "      <td>160.0</td>\n",
              "      <td>6.469848</td>\n",
              "      <td>107.0</td>\n",
              "    </tr>\n",
              "    <tr>\n",
              "      <th>4</th>\n",
              "      <td>2016</td>\n",
              "      <td>ARM</td>\n",
              "      <td>Armenia</td>\n",
              "      <td>Caucasus &amp; Central Asia</td>\n",
              "      <td>7.0</td>\n",
              "      <td>10.0</td>\n",
              "      <td>10.0</td>\n",
              "      <td>10.0</td>\n",
              "      <td>10.0</td>\n",
              "      <td>10.0</td>\n",
              "      <td>10.0</td>\n",
              "      <td>5.0</td>\n",
              "      <td>8.000000</td>\n",
              "      <td>7.57</td>\n",
              "      <td>29.0</td>\n",
              "      <td>7.241402</td>\n",
              "      <td>57.0</td>\n",
              "    </tr>\n",
              "  </tbody>\n",
              "</table>\n",
              "</div>"
            ],
            "text/plain": [
              "   year ISO_code  countries                         region  pf_identity_legal  \\\n",
              "0  2016      ALB    Albania                 Eastern Europe                0.0   \n",
              "1  2016      DZA    Algeria     Middle East & North Africa                NaN   \n",
              "2  2016      AGO     Angola             Sub-Saharan Africa               10.0   \n",
              "3  2016      ARG  Argentina  Latin America & the Caribbean               10.0   \n",
              "4  2016      ARM    Armenia        Caucasus & Central Asia                7.0   \n",
              "\n",
              "   pf_identity_parental_marriage  pf_identity_parental_divorce  \\\n",
              "0                           10.0                          10.0   \n",
              "1                            0.0                           5.0   \n",
              "2                           10.0                          10.0   \n",
              "3                           10.0                          10.0   \n",
              "4                           10.0                          10.0   \n",
              "\n",
              "   pf_identity_parental  pf_identity_sex_male  pf_identity_sex_female  \\\n",
              "0                  10.0                  10.0                    10.0   \n",
              "1                   2.5                   0.0                     0.0   \n",
              "2                  10.0                   0.0                     0.0   \n",
              "3                  10.0                  10.0                    10.0   \n",
              "4                  10.0                  10.0                    10.0   \n",
              "\n",
              "   pf_identity_sex  pf_identity_divorce  pf_identity  ef_score  ef_rank  \\\n",
              "0             10.0                  5.0     6.250000      7.54     34.0   \n",
              "1              0.0                  0.0     0.833333      4.99    159.0   \n",
              "2              0.0                 10.0     7.500000      5.17    155.0   \n",
              "3             10.0                 10.0    10.000000      4.84    160.0   \n",
              "4             10.0                  5.0     8.000000      7.57     29.0   \n",
              "\n",
              "   hf_score  hf_rank  \n",
              "0  7.568140     48.0  \n",
              "1  5.135886    155.0  \n",
              "2  5.640662    142.0  \n",
              "3  6.469848    107.0  \n",
              "4  7.241402     57.0  "
            ]
          },
          "metadata": {
            "tags": []
          },
          "execution_count": 19
        }
      ]
    },
    {
      "metadata": {
        "id": "Xanrg5kN9Fxy",
        "colab_type": "code",
        "colab": {}
      },
      "cell_type": "code",
      "source": [
        "data = dataset[important_cols]"
      ],
      "execution_count": 0,
      "outputs": []
    },
    {
      "metadata": {
        "id": "P4TsNwxZjGJV",
        "colab_type": "text"
      },
      "cell_type": "markdown",
      "source": [
        "## 1. Estadísticos descriptivos\n",
        "\n",
        "  1. Para comenzar con un pantallazo de los datos, calcular el rango de las variables.\n",
        "  2. Obtener media, mediana y desviación estándar de las variables *pf_identity* y *hf_score* en el mundo y compararla con la de Latinoamérica y el caribe. ¿Tiene sentido calcular la moda? \n",
        "  3. ¿Son todos los valores de *pf_identity*  y *hf_score* directamente comparables? ¿Qué otra variable podría influenciarlos?\n",
        "  4. ¿Cómo pueden sanearse los valores faltantes?\n",
        "  5. ¿Encuentra outliers en estas dos variables? ¿Qué método utiliza para detectarlos? ¿Los outliers, son globales o por grupo? ¿Los eliminaría del conjunto de datos?\n",
        "  \n",
        "  "
      ]
    },
    {
      "metadata": {
        "id": "znkBWyC6_Aj6",
        "colab_type": "code",
        "outputId": "9edadffd-6171-4dda-bb4b-187ababfb946",
        "colab": {
          "base_uri": "https://localhost:8080/",
          "height": 317
        }
      },
      "cell_type": "code",
      "source": [
        "data[data['year'] == 2016].decribe()"
      ],
      "execution_count": 0,
      "outputs": [
        {
          "output_type": "execute_result",
          "data": {
            "text/html": [
              "<div>\n",
              "<style scoped>\n",
              "    .dataframe tbody tr th:only-of-type {\n",
              "        vertical-align: middle;\n",
              "    }\n",
              "\n",
              "    .dataframe tbody tr th {\n",
              "        vertical-align: top;\n",
              "    }\n",
              "\n",
              "    .dataframe thead th {\n",
              "        text-align: right;\n",
              "    }\n",
              "</style>\n",
              "<table border=\"1\" class=\"dataframe\">\n",
              "  <thead>\n",
              "    <tr style=\"text-align: right;\">\n",
              "      <th></th>\n",
              "      <th>year</th>\n",
              "      <th>pf_identity_legal</th>\n",
              "      <th>pf_identity_parental_marriage</th>\n",
              "      <th>pf_identity_parental_divorce</th>\n",
              "      <th>pf_identity_parental</th>\n",
              "      <th>pf_identity_sex_male</th>\n",
              "      <th>pf_identity_sex_female</th>\n",
              "      <th>pf_identity_sex</th>\n",
              "      <th>pf_identity_divorce</th>\n",
              "      <th>pf_identity</th>\n",
              "      <th>ef_score</th>\n",
              "      <th>ef_rank</th>\n",
              "      <th>hf_score</th>\n",
              "      <th>hf_rank</th>\n",
              "    </tr>\n",
              "  </thead>\n",
              "  <tbody>\n",
              "    <tr>\n",
              "      <th>count</th>\n",
              "      <td>162.0</td>\n",
              "      <td>103.000000</td>\n",
              "      <td>158.000000</td>\n",
              "      <td>159.000000</td>\n",
              "      <td>159.000000</td>\n",
              "      <td>162.000000</td>\n",
              "      <td>162.000000</td>\n",
              "      <td>162.000000</td>\n",
              "      <td>149.000000</td>\n",
              "      <td>162.000000</td>\n",
              "      <td>162.000000</td>\n",
              "      <td>162.000000</td>\n",
              "      <td>162.000000</td>\n",
              "      <td>162.000000</td>\n",
              "    </tr>\n",
              "    <tr>\n",
              "      <th>mean</th>\n",
              "      <td>2016.0</td>\n",
              "      <td>6.310680</td>\n",
              "      <td>7.183544</td>\n",
              "      <td>7.358491</td>\n",
              "      <td>7.279874</td>\n",
              "      <td>6.635802</td>\n",
              "      <td>7.808642</td>\n",
              "      <td>7.222222</td>\n",
              "      <td>7.449664</td>\n",
              "      <td>6.976337</td>\n",
              "      <td>6.795062</td>\n",
              "      <td>81.271605</td>\n",
              "      <td>6.889871</td>\n",
              "      <td>81.179012</td>\n",
              "    </tr>\n",
              "    <tr>\n",
              "      <th>std</th>\n",
              "      <td>0.0</td>\n",
              "      <td>3.635417</td>\n",
              "      <td>4.007697</td>\n",
              "      <td>3.889751</td>\n",
              "      <td>3.819334</td>\n",
              "      <td>4.723085</td>\n",
              "      <td>4.130682</td>\n",
              "      <td>4.132886</td>\n",
              "      <td>3.704337</td>\n",
              "      <td>3.089252</td>\n",
              "      <td>0.886026</td>\n",
              "      <td>46.964242</td>\n",
              "      <td>1.079601</td>\n",
              "      <td>46.941076</td>\n",
              "    </tr>\n",
              "    <tr>\n",
              "      <th>min</th>\n",
              "      <td>2016.0</td>\n",
              "      <td>0.000000</td>\n",
              "      <td>0.000000</td>\n",
              "      <td>0.000000</td>\n",
              "      <td>0.000000</td>\n",
              "      <td>0.000000</td>\n",
              "      <td>0.000000</td>\n",
              "      <td>0.000000</td>\n",
              "      <td>0.000000</td>\n",
              "      <td>0.000000</td>\n",
              "      <td>2.880000</td>\n",
              "      <td>1.000000</td>\n",
              "      <td>3.765827</td>\n",
              "      <td>1.000000</td>\n",
              "    </tr>\n",
              "    <tr>\n",
              "      <th>25%</th>\n",
              "      <td>2016.0</td>\n",
              "      <td>7.000000</td>\n",
              "      <td>5.000000</td>\n",
              "      <td>5.000000</td>\n",
              "      <td>5.000000</td>\n",
              "      <td>0.000000</td>\n",
              "      <td>10.000000</td>\n",
              "      <td>5.000000</td>\n",
              "      <td>5.000000</td>\n",
              "      <td>5.000000</td>\n",
              "      <td>6.260000</td>\n",
              "      <td>41.250000</td>\n",
              "      <td>6.246463</td>\n",
              "      <td>41.250000</td>\n",
              "    </tr>\n",
              "    <tr>\n",
              "      <th>50%</th>\n",
              "      <td>2016.0</td>\n",
              "      <td>7.000000</td>\n",
              "      <td>10.000000</td>\n",
              "      <td>10.000000</td>\n",
              "      <td>10.000000</td>\n",
              "      <td>10.000000</td>\n",
              "      <td>10.000000</td>\n",
              "      <td>10.000000</td>\n",
              "      <td>10.000000</td>\n",
              "      <td>8.000000</td>\n",
              "      <td>6.905000</td>\n",
              "      <td>81.500000</td>\n",
              "      <td>6.823996</td>\n",
              "      <td>81.500000</td>\n",
              "    </tr>\n",
              "    <tr>\n",
              "      <th>75%</th>\n",
              "      <td>2016.0</td>\n",
              "      <td>10.000000</td>\n",
              "      <td>10.000000</td>\n",
              "      <td>10.000000</td>\n",
              "      <td>10.000000</td>\n",
              "      <td>10.000000</td>\n",
              "      <td>10.000000</td>\n",
              "      <td>10.000000</td>\n",
              "      <td>10.000000</td>\n",
              "      <td>9.250000</td>\n",
              "      <td>7.467500</td>\n",
              "      <td>121.750000</td>\n",
              "      <td>7.771945</td>\n",
              "      <td>121.250000</td>\n",
              "    </tr>\n",
              "    <tr>\n",
              "      <th>max</th>\n",
              "      <td>2016.0</td>\n",
              "      <td>10.000000</td>\n",
              "      <td>10.000000</td>\n",
              "      <td>10.000000</td>\n",
              "      <td>10.000000</td>\n",
              "      <td>10.000000</td>\n",
              "      <td>10.000000</td>\n",
              "      <td>10.000000</td>\n",
              "      <td>10.000000</td>\n",
              "      <td>10.000000</td>\n",
              "      <td>8.970000</td>\n",
              "      <td>162.000000</td>\n",
              "      <td>8.887410</td>\n",
              "      <td>162.000000</td>\n",
              "    </tr>\n",
              "  </tbody>\n",
              "</table>\n",
              "</div>"
            ],
            "text/plain": [
              "         year  pf_identity_legal  pf_identity_parental_marriage  \\\n",
              "count   162.0         103.000000                     158.000000   \n",
              "mean   2016.0           6.310680                       7.183544   \n",
              "std       0.0           3.635417                       4.007697   \n",
              "min    2016.0           0.000000                       0.000000   \n",
              "25%    2016.0           7.000000                       5.000000   \n",
              "50%    2016.0           7.000000                      10.000000   \n",
              "75%    2016.0          10.000000                      10.000000   \n",
              "max    2016.0          10.000000                      10.000000   \n",
              "\n",
              "       pf_identity_parental_divorce  pf_identity_parental  \\\n",
              "count                    159.000000            159.000000   \n",
              "mean                       7.358491              7.279874   \n",
              "std                        3.889751              3.819334   \n",
              "min                        0.000000              0.000000   \n",
              "25%                        5.000000              5.000000   \n",
              "50%                       10.000000             10.000000   \n",
              "75%                       10.000000             10.000000   \n",
              "max                       10.000000             10.000000   \n",
              "\n",
              "       pf_identity_sex_male  pf_identity_sex_female  pf_identity_sex  \\\n",
              "count            162.000000              162.000000       162.000000   \n",
              "mean               6.635802                7.808642         7.222222   \n",
              "std                4.723085                4.130682         4.132886   \n",
              "min                0.000000                0.000000         0.000000   \n",
              "25%                0.000000               10.000000         5.000000   \n",
              "50%               10.000000               10.000000        10.000000   \n",
              "75%               10.000000               10.000000        10.000000   \n",
              "max               10.000000               10.000000        10.000000   \n",
              "\n",
              "       pf_identity_divorce  pf_identity    ef_score     ef_rank    hf_score  \\\n",
              "count           149.000000   162.000000  162.000000  162.000000  162.000000   \n",
              "mean              7.449664     6.976337    6.795062   81.271605    6.889871   \n",
              "std               3.704337     3.089252    0.886026   46.964242    1.079601   \n",
              "min               0.000000     0.000000    2.880000    1.000000    3.765827   \n",
              "25%               5.000000     5.000000    6.260000   41.250000    6.246463   \n",
              "50%              10.000000     8.000000    6.905000   81.500000    6.823996   \n",
              "75%              10.000000     9.250000    7.467500  121.750000    7.771945   \n",
              "max              10.000000    10.000000    8.970000  162.000000    8.887410   \n",
              "\n",
              "          hf_rank  \n",
              "count  162.000000  \n",
              "mean    81.179012  \n",
              "std     46.941076  \n",
              "min      1.000000  \n",
              "25%     41.250000  \n",
              "50%     81.500000  \n",
              "75%    121.250000  \n",
              "max    162.000000  "
            ]
          },
          "metadata": {
            "tags": []
          },
          "execution_count": 14
        }
      ]
    },
    {
      "metadata": {
        "id": "rKsh07PQGB26",
        "colab_type": "code",
        "outputId": "38f556d7-f9f4-4a91-ca0e-06f959e13a87",
        "colab": {
          "base_uri": "https://localhost:8080/",
          "height": 341
        }
      },
      "cell_type": "code",
      "source": [
        "fields = [\"pf_identity\",\"hf_score\"]\n",
        "\n",
        "Year = data['year'] == 2016\n",
        "LA = data['region'] == \"Latin America & the Caribbean\"\n",
        "\n",
        "for field in fields:\n",
        "  print(\"Column: \",colored(field,\"red\",attrs=[\"bold\"]))\n",
        "  print(\" \",colored(\"All World\",\"green\",attrs=[\"bold\"]))\n",
        "  print(\"  Mean:   %.3f\" % data[Year][field].mean())\n",
        "  print(\"  Median: %.3f\" % data[Year][field].median())\n",
        "  print(\"  Std:    %.3f\" % data[Year][field].std())\n",
        "  print(\" \",colored(\"Latin America & Caribe\",\"green\",attrs=[\"bold\"]))\n",
        "  print(\"  Mean:   %.3f\" % data[Year & LA][field].mean())\n",
        "  print(\"  Median: %.3f\" % data[Year & LA][field].median())\n",
        "  print(\"  Std:    %.3f\" % data[Year & LA][field].std())"
      ],
      "execution_count": 0,
      "outputs": [
        {
          "output_type": "stream",
          "text": [
            "Column:  \u001b[1m\u001b[31mpf_identity\u001b[0m\n",
            "  \u001b[1m\u001b[32mAll World\u001b[0m\n",
            "  Mean:   6.976\n",
            "  Median: 8.000\n",
            "  Std:    3.089\n",
            "  \u001b[1m\u001b[32mLatin America & Caribe\u001b[0m\n",
            "  Mean:   8.016\n",
            "  Median: 7.500\n",
            "  Std:    1.785\n",
            "Column:  \u001b[1m\u001b[31mhf_score\u001b[0m\n",
            "  \u001b[1m\u001b[32mAll World\u001b[0m\n",
            "  Mean:   6.890\n",
            "  Median: 6.824\n",
            "  Std:    1.080\n",
            "  \u001b[1m\u001b[32mLatin America & Caribe\u001b[0m\n",
            "  Mean:   6.954\n",
            "  Median: 6.998\n",
            "  Std:    0.705\n"
          ],
          "name": "stdout"
        }
      ]
    },
    {
      "metadata": {
        "id": "uloXabAVtCZ2",
        "colab_type": "code",
        "outputId": "c06141cb-7b54-4b63-821b-c93639ee3e26",
        "colab": {
          "base_uri": "https://localhost:8080/",
          "height": 527
        }
      },
      "cell_type": "code",
      "source": [
        "data[\"IsLA\"] = LA\n",
        "\n",
        "sns.set(style=\"ticks\", palette=\"pastel\")\n",
        "sns.boxplot(x=\"year\", y=\"hf_score\",data=data,hue=\"IsLA\",palette=[\"m\",\"g\"])\n",
        "sns.despine(offset=10, trim=True)"
      ],
      "execution_count": 0,
      "outputs": [
        {
          "output_type": "stream",
          "text": [
            "/usr/local/lib/python3.6/dist-packages/ipykernel_launcher.py:1: SettingWithCopyWarning: \n",
            "A value is trying to be set on a copy of a slice from a DataFrame.\n",
            "Try using .loc[row_indexer,col_indexer] = value instead\n",
            "\n",
            "See the caveats in the documentation: http://pandas.pydata.org/pandas-docs/stable/indexing.html#indexing-view-versus-copy\n",
            "  \"\"\"Entry point for launching an IPython kernel.\n",
            "/usr/local/lib/python3.6/dist-packages/seaborn/categorical.py:482: FutureWarning: remove_na is deprecated and is a private function. Do not use.\n",
            "  box_data = remove_na(group_data[hue_mask])\n"
          ],
          "name": "stderr"
        },
        {
          "output_type": "display_data",
          "data": {
            "image/png": "[encoded data removed]",
            "text/plain": [
              "<Figure size 576x396 with 1 Axes>"
            ]
          },
          "metadata": {
            "tags": []
          }
        }
      ]
    },
    {
      "metadata": {
        "id": "w73mF1YouRmL",
        "colab_type": "code",
        "outputId": "533be7af-7ac2-441d-e873-e09f9f420094",
        "colab": {
          "base_uri": "https://localhost:8080/",
          "height": 419
        }
      },
      "cell_type": "code",
      "source": [
        "sns.set(style=\"ticks\", palette=\"pastel\")\n",
        "sns.boxplot(x=\"year\", y=\"pf_identity\",data=data[LA],palette=[\"g\"])\n",
        "sns.despine(offset=10, trim=True)"
      ],
      "execution_count": 0,
      "outputs": [
        {
          "output_type": "stream",
          "text": [
            "/usr/local/lib/python3.6/dist-packages/seaborn/categorical.py:454: FutureWarning: remove_na is deprecated and is a private function. Do not use.\n",
            "  box_data = remove_na(group_data)\n"
          ],
          "name": "stderr"
        },
        {
          "output_type": "display_data",
          "data": {
            "image/png": "[encoded data removed]",
            "text/plain": [
              "<Figure size 576x396 with 1 Axes>"
            ]
          },
          "metadata": {
            "tags": []
          }
        }
      ]
    },
    {
      "metadata": {
        "id": "qJ9zgB5ijGJW",
        "colab_type": "text"
      },
      "cell_type": "markdown",
      "source": [
        "## 2. Agregación de datos\n",
        "\n",
        "1. Grafiquen la media de la variable *pf_identity* y *hf_score* a través de los años.\n",
        "2. Realicen los mismos gráficos, pero separando por regiones (Cada variable en un gráfico distinto, sino no se ve nada). ¿La tendencia observada, es la misma que si no dividimos por regiones?\n",
        "3. Si lo consideran necesario, grafiquen algunos países de Latinoamerica para tratar de explicar la tendencia de la variable *pf_identity* en la región. ¿Cómo seleccionarion los países relevantes a esa tendencia?\n",
        "\n",
        "Hint: hay un gráfico de seaborn que hace todo por vos!\n",
        "\n",
        "Sólo por curiosidad, graficar la tendencia de *hf_score* y *ef_score* a través de los años. ¿Tienen alguna hipótesis para este comportamiento?"
      ]
    },
    {
      "metadata": {
        "id": "MBbKjnxujGJX",
        "colab_type": "text"
      },
      "cell_type": "markdown",
      "source": [
        "## 2. Distribuciones\n",
        "  1. Graficar en un mismo histograma la distribución de la variable *pf_identity* en global, y en Latinoamérica y el caribe. Repetir para la variable *hf_score*. ¿Visualmente, a qué tipo de distribución corresponde cada variable? ¿Es correcto utilizar todos los registros para esas zonas en estos gráficos?\n",
        "  2. Realizar una prueba de Kolmogorov-Smirnof para comprobar analíticamente si estas variables responden la distribución propuesta en el ejercicio anterior. Hint: podés usar https://docs.scipy.org/doc/scipy-0.14.0/reference/generated/scipy.stats.kstest.html, pero hay que tener en cuenta que si la distribución es \"norm\", entonces va a comparar los datos con una distribución normal con media 0 y desviación estándar 1. Se puede utilizar la distribución sobre todos los datos o sólo sobre Latinoamérica.\n",
        "  3. Realizar un gráfico QQ de las mismas distribuciones. Se puede utilizar a,bas distribuciones sobre todos los datos o sólo sobre Latinoamérica, pero no cruzadas.\n",
        "  4. Medir la asimetría (skew) y curtosis de las mismas distribuciones con las que realizó el gráfico anterior. ¿Cómo se relacionan estos estadísticos con la forma del gráfico QQ obtenido previamente? ¿El gráfico QQ provee más información que no esté presente en estos estadísticos?"
      ]
    },
    {
      "metadata": {
        "id": "SVwMqN60jGJZ",
        "colab_type": "text"
      },
      "cell_type": "markdown",
      "source": [
        "## 3. Correlaciones\n",
        "\n",
        "En este ejercicio queremos responder a las preguntas\n",
        "\n",
        "* Las libertades sociales y económicas, ¿van siempre de la mano?\n",
        "* ¿Cómo se relacionan ambas con las libertades individuales y respectivas a las relaciones personales?\n",
        "\n",
        "Para ello, analizaremos las correlaciones entre las variables pf_identity, hf_score y ef_score. \n",
        "\n",
        "Como pf_indentity contribuye al cálculo de hf_score y ef_score, esperamos hallar algún grado de correlación. Sin embargo, queremos medir qué tanta correlación. \n",
        "\n",
        "1. ¿Qué conclusiones puede sacar de un gráfico pairplot de estas tres variables? ¿Es adecuado para los valores de pf_identity? ¿Por qué?\n",
        "2. Graficar la correlación entre pf_identity y hf_score; y entre pf_identity y ef_score. Analizar el resultado, ¿se pueden sacar conclusiones? Tengan en cuenta que como pf_identity es el resultado de un promedio, sólo toma algunos valores. Es, en efecto, discreta.\n",
        "3. Calcular algún coeficiente de correlación adecuado entre los dos pares de variables, dependiendo de la cantidad de datos, el tipo de datos y la distribución de los mismo. Algunas opciones son: coeficiente de pearson, coeficiente de spearman, coeficientes de tau y de kendall. Interpretar los resultados y justificar si las variables están correlacionadas o no. \n",
        "4. [Opcional] Analizar la correlación entre la region y el hf_score (y/o el ef_score); y entre la region y el pf_identity. Considerar que como la variable *region* es ordinal, debe utilizarse algún tipo de test. Explicar cuáles son los requisitos necesarios para la aplicación de ese test. (Si no se cumplieran, se pueden agregar algunos datos para generar más registros)\n"
      ]
    },
    {
      "metadata": {
        "id": "tHuA8HLyjGJa",
        "colab_type": "code",
        "colab": {}
      },
      "cell_type": "code",
      "source": [
        ""
      ],
      "execution_count": 0,
      "outputs": []
    },
    {
      "metadata": {
        "id": "FEcYQ406Joqf",
        "colab_type": "code",
        "colab": {}
      },
      "cell_type": "code",
      "source": [
        ""
      ],
      "execution_count": 0,
      "outputs": []
    }
  ]
}